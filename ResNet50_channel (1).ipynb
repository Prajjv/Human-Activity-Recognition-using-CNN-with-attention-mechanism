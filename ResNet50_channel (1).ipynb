{
  "nbformat": 4,
  "nbformat_minor": 0,
  "metadata": {
    "colab": {
      "provenance": [],
      "machine_shape": "hm",
      "gpuType": "L4"
    },
    "kernelspec": {
      "name": "python3",
      "display_name": "Python 3"
    },
    "language_info": {
      "name": "python"
    },
    "accelerator": "GPU"
  },
  "cells": [
    {
      "cell_type": "code",
      "execution_count": null,
      "metadata": {
        "id": "ssNjisJBh7oa"
      },
      "outputs": [],
      "source": [
        "import numpy as np\n",
        "import h5py\n",
        "from sklearn.model_selection import train_test_split\n",
        "from keras.models import Sequential\n",
        "from keras.layers import LSTM, Dense\n",
        "from tensorflow.keras import layers, models\n"
      ]
    },
    {
      "cell_type": "code",
      "execution_count": null,
      "metadata": {
        "id": "f4-xFuMkmYu6"
      },
      "outputs": [],
      "source": [
        "num_classes = 60"
      ]
    },
    {
      "cell_type": "code",
      "execution_count": null,
      "metadata": {
        "id": "gP7QODCvkAGu",
        "colab": {
          "base_uri": "https://localhost:8080/"
        },
        "outputId": "edee16b0-a604-414f-bec5-3f15f078af04"
      },
      "outputs": [
        {
          "output_type": "stream",
          "name": "stdout",
          "text": [
            "Mounted at /content/drive\n"
          ]
        }
      ],
      "source": [
        "# Mount Google Drive to access files if necessary\n",
        "from google.colab import drive\n",
        "drive.mount('/content/drive')\n"
      ]
    },
    {
      "cell_type": "code",
      "execution_count": null,
      "metadata": {
        "id": "WWfi49aVkA0j"
      },
      "outputs": [],
      "source": [
        "# Path to your .h5 file in Google Drive\n",
        "file_path1 = '/content/drive/My Drive/dataset1/NTU_CS.h5'\n",
        "file_path2 = '/content/drive/My Drive/dataset1/NTU_CV.h5'\n"
      ]
    },
    {
      "cell_type": "code",
      "execution_count": null,
      "metadata": {
        "colab": {
          "base_uri": "https://localhost:8080/"
        },
        "id": "DrOZryGslQOM",
        "outputId": "ece6f5aa-6961-4af2-f557-e3c4b8b11995"
      },
      "outputs": [
        {
          "output_type": "stream",
          "name": "stdout",
          "text": [
            "Keys in CS file: ['test_x', 'test_y', 'valid_x', 'valid_y', 'x', 'y']\n",
            "Keys in CV file: ['test_x', 'test_y', 'valid_x', 'valid_y', 'x', 'y']\n"
          ]
        }
      ],
      "source": [
        "# Load the NTU CS and CV datasets from .h5 files\n",
        "with h5py.File(file_path1, 'r') as cs_file, h5py.File(file_path2, 'r') as cv_file:\n",
        "    # List all keys in the files\n",
        "    print(\"Keys in CS file:\", list(cs_file.keys()))\n",
        "    print(\"Keys in CV file:\", list(cv_file.keys()))\n"
      ]
    },
    {
      "cell_type": "code",
      "execution_count": null,
      "metadata": {
        "id": "XD7JPSS5xpH4"
      },
      "outputs": [],
      "source": [
        "# Load the NTU CS and CV datasets from .h5 files\n",
        "with h5py.File(file_path1, 'r') as cs_file, h5py.File(file_path2, 'r') as cv_file:\n",
        "    # Access the datasets using the keys\n",
        "    x_train_CS = np.array(cs_file['x'])\n",
        "    y_train_CS = np.array(cs_file['y'])\n",
        "    x_valid_CS = np.array(cs_file['valid_x'])\n",
        "    y_valid_CS = np.array(cs_file['valid_y'])\n",
        "    x_test_CS = np.array(cs_file['test_x'])\n",
        "    y_test_CS = np.array(cs_file['test_y'])\n",
        "\n",
        "    x_train_CV = np.array(cv_file['x'])\n",
        "    y_train_CV = np.array(cv_file['y'])\n",
        "    x_valid_CV = np.array(cv_file['valid_x'])\n",
        "    y_valid_CV = np.array(cv_file['valid_y'])\n",
        "    x_test_CV = np.array(cv_file['test_x'])\n",
        "    y_test_CV = np.array(cv_file['test_y'])\n",
        "\n"
      ]
    },
    {
      "cell_type": "code",
      "source": [
        "from tensorflow.keras.models import Model\n",
        "from tensorflow.keras.layers import Conv2D, MaxPooling2D, Flatten, Dense, Input, Add, Activation, BatchNormalization, AveragePooling2D, Reshape\n",
        "from tensorflow.keras.layers import GlobalAveragePooling2D, GlobalMaxPooling2D, Reshape, Dense, Multiply, Add\n",
        "\n",
        "def residual_block(input_tensor, filters, kernel_size, stage, block, strides=(1, 1)):\n",
        "    conv_name_base = f\"res{stage}_{block}_branch\"\n",
        "    bn_name_base = f\"bn{stage}_{block}_branch\"\n",
        "\n",
        "    x = Conv2D(filters, kernel_size, strides=strides, padding='same', name=conv_name_base + '2a')(input_tensor)\n",
        "    x = BatchNormalization(axis=3, name=bn_name_base + '2a')(x)\n",
        "    x = Activation('relu')(x)\n",
        "\n",
        "    x = Conv2D(filters, kernel_size, padding='same', name=conv_name_base + '2b')(x)\n",
        "    x = BatchNormalization(axis=3, name=bn_name_base + '2b')(x)\n",
        "\n",
        "    shortcut = Conv2D(filters, (1, 1), strides=strides, name=conv_name_base + '1')(input_tensor)\n",
        "    shortcut = BatchNormalization(axis=3, name=bn_name_base + '1')(shortcut)\n",
        "\n",
        "    x = Add()([x, shortcut])\n",
        "    x = Activation('relu')(x)\n",
        "    return x\n",
        "\n",
        "def channel_attention(input_tensor, ratio):\n",
        "    filters = input_tensor.shape[-1]\n",
        "\n",
        "    avg_pool = GlobalAveragePooling2D()(input_tensor)\n",
        "    avg_pool = Dense(filters // ratio, activation='relu')(avg_pool)\n",
        "    avg_pool = Dense(filters, activation='sigmoid')(avg_pool)\n",
        "    avg_pool = Reshape((1, 1, filters))(avg_pool)\n",
        "\n",
        "    max_pool = GlobalMaxPooling2D()(input_tensor)\n",
        "    max_pool = Dense(filters // ratio, activation='relu')(max_pool)\n",
        "    max_pool = Dense(filters, activation='sigmoid')(max_pool)\n",
        "    max_pool = Reshape((1, 1, filters))(max_pool)\n",
        "\n",
        "    output_tensor = Add()([avg_pool, max_pool])\n",
        "    output_tensor = Activation('sigmoid')(output_tensor)\n",
        "    return Multiply()([input_tensor, output_tensor])\n",
        "\n",
        "def ResNet50_with_attention(input_shape, num_classes):\n",
        "    inputs = Input(shape=input_shape)\n",
        "\n",
        "    x = Conv2D(64, (7, 7), strides=(2, 2), padding='same', name='conv1')(inputs)\n",
        "    x = BatchNormalization(axis=3, name='bn_conv1')(x)\n",
        "    x = Activation('relu')(x)\n",
        "    x = MaxPooling2D((3, 3), strides=(2, 2))(x)\n",
        "\n",
        "    x = residual_block(x, 64, (3, 3), stage=2, block='a', strides=(1, 1))\n",
        "    x = channel_attention(x, 16)  # Applying channel attention\n",
        "    x = residual_block(x, 64, (3, 3), stage=2, block='b')\n",
        "    x = channel_attention(x, 16)  # Applying channel attention\n",
        "    x = residual_block(x, 64, (3, 3), stage=2, block='c')\n",
        "    x = channel_attention(x, 16)  # Applying channel attention\n",
        "\n",
        "    x = residual_block(x, 128, (3, 3), stage=3, block='a', strides=(2, 2))\n",
        "    x = channel_attention(x, 16)  # Applying channel attention\n",
        "    x = residual_block(x, 128, (3, 3), stage=3, block='b')\n",
        "    x = channel_attention(x, 16)  # Applying channel attention\n",
        "    x = residual_block(x, 128, (3, 3), stage=3, block='c')\n",
        "    x = channel_attention(x, 16)  # Applying channel attention\n",
        "    x = residual_block(x, 128, (3, 3), stage=3, block='d')\n",
        "    x = channel_attention(x, 16)  # Applying channel attention\n",
        "\n",
        "    x = residual_block(x, 256, (3, 3), stage=4, block='a', strides=(2, 2))\n",
        "    x = channel_attention(x, 16)  # Applying channel attention\n",
        "    x = residual_block(x, 256, (3, 3), stage=4, block='b')\n",
        "    x = channel_attention(x, 16)  # Applying channel attention\n",
        "    x = residual_block(x, 256, (3, 3), stage=4, block='c')\n",
        "    x = channel_attention(x, 16)  # Applying channel attention\n",
        "    x = residual_block(x, 256, (3, 3), stage=4, block='d')\n",
        "    x = channel_attention(x, 16)  # Applying channel attention\n",
        "    x = residual_block(x, 256, (3, 3), stage=4, block='e')\n",
        "    x = channel_attention(x, 16)  # Applying channel attention\n",
        "    x = residual_block(x, 256, (3, 3), stage=4, block='f')\n",
        "    x = channel_attention(x, 16)  # Applying channel attention\n",
        "\n",
        "    x = residual_block(x, 512, (3, 3), stage=5, block='a', strides=(2, 2))\n",
        "    x = channel_attention(x, 16)  # Applying channel attention\n",
        "    x = residual_block(x, 512, (3, 3), stage=5, block='b')\n",
        "    x = channel_attention(x, 16)  # Applying channel attention\n",
        "    x = residual_block(x, 512, (3, 3), stage=5, block='c')\n",
        "    x = channel_attention(x, 16)  # Applying channel attention\n",
        "\n",
        "    x = MaxPooling2D((2, 2), name='max_pool')(x)\n",
        "\n",
        "    x = Flatten()(x)\n",
        "    x = Dense(num_classes, activation='softmax', name='fc' + str(num_classes))(x)\n",
        "\n",
        "    model = Model(inputs=inputs, outputs=x, name='resnet50_with_attention')\n",
        "\n",
        "    return model\n",
        "# Assuming your input parameters\n",
        "num_classes = 60\n",
        "segment_length = 300\n",
        "num_features = 150\n",
        "\n",
        "# Create the modified ResNet-50 model\n",
        "input_shape = (segment_length, num_features, 1)  # Assuming grayscale images\n",
        "resnet_model = ResNet50_with_attention(input_shape, num_classes)\n",
        "\n",
        "# Print model architecture\n",
        "print(resnet_model.summary())\n",
        "\n"
      ],
      "metadata": {
        "colab": {
          "base_uri": "https://localhost:8080/"
        },
        "id": "9L5rRsdmyrA7",
        "outputId": "7e83b7c1-7208-48c1-f925-c078685d0513"
      },
      "execution_count": null,
      "outputs": [
        {
          "output_type": "stream",
          "name": "stdout",
          "text": [
            "Model: \"resnet50_with_attention\"\n",
            "__________________________________________________________________________________________________\n",
            " Layer (type)                Output Shape                 Param #   Connected to                  \n",
            "==================================================================================================\n",
            " input_1 (InputLayer)        [(None, 300, 150, 1)]        0         []                            \n",
            "                                                                                                  \n",
            " conv1 (Conv2D)              (None, 150, 75, 64)          3200      ['input_1[0][0]']             \n",
            "                                                                                                  \n",
            " bn_conv1 (BatchNormalizati  (None, 150, 75, 64)          256       ['conv1[0][0]']               \n",
            " on)                                                                                              \n",
            "                                                                                                  \n",
            " activation (Activation)     (None, 150, 75, 64)          0         ['bn_conv1[0][0]']            \n",
            "                                                                                                  \n",
            " max_pooling2d (MaxPooling2  (None, 74, 37, 64)           0         ['activation[0][0]']          \n",
            " D)                                                                                               \n",
            "                                                                                                  \n",
            " res2_a_branch2a (Conv2D)    (None, 74, 37, 64)           36928     ['max_pooling2d[0][0]']       \n",
            "                                                                                                  \n",
            " bn2_a_branch2a (BatchNorma  (None, 74, 37, 64)           256       ['res2_a_branch2a[0][0]']     \n",
            " lization)                                                                                        \n",
            "                                                                                                  \n",
            " activation_1 (Activation)   (None, 74, 37, 64)           0         ['bn2_a_branch2a[0][0]']      \n",
            "                                                                                                  \n",
            " res2_a_branch2b (Conv2D)    (None, 74, 37, 64)           36928     ['activation_1[0][0]']        \n",
            "                                                                                                  \n",
            " res2_a_branch1 (Conv2D)     (None, 74, 37, 64)           4160      ['max_pooling2d[0][0]']       \n",
            "                                                                                                  \n",
            " bn2_a_branch2b (BatchNorma  (None, 74, 37, 64)           256       ['res2_a_branch2b[0][0]']     \n",
            " lization)                                                                                        \n",
            "                                                                                                  \n",
            " bn2_a_branch1 (BatchNormal  (None, 74, 37, 64)           256       ['res2_a_branch1[0][0]']      \n",
            " ization)                                                                                         \n",
            "                                                                                                  \n",
            " add (Add)                   (None, 74, 37, 64)           0         ['bn2_a_branch2b[0][0]',      \n",
            "                                                                     'bn2_a_branch1[0][0]']       \n",
            "                                                                                                  \n",
            " activation_2 (Activation)   (None, 74, 37, 64)           0         ['add[0][0]']                 \n",
            "                                                                                                  \n",
            " global_average_pooling2d (  (None, 64)                   0         ['activation_2[0][0]']        \n",
            " GlobalAveragePooling2D)                                                                          \n",
            "                                                                                                  \n",
            " global_max_pooling2d (Glob  (None, 64)                   0         ['activation_2[0][0]']        \n",
            " alMaxPooling2D)                                                                                  \n",
            "                                                                                                  \n",
            " dense (Dense)               (None, 4)                    260       ['global_average_pooling2d[0][\n",
            "                                                                    0]']                          \n",
            "                                                                                                  \n",
            " dense_2 (Dense)             (None, 4)                    260       ['global_max_pooling2d[0][0]']\n",
            "                                                                                                  \n",
            " dense_1 (Dense)             (None, 64)                   320       ['dense[0][0]']               \n",
            "                                                                                                  \n",
            " dense_3 (Dense)             (None, 64)                   320       ['dense_2[0][0]']             \n",
            "                                                                                                  \n",
            " reshape (Reshape)           (None, 1, 1, 64)             0         ['dense_1[0][0]']             \n",
            "                                                                                                  \n",
            " reshape_1 (Reshape)         (None, 1, 1, 64)             0         ['dense_3[0][0]']             \n",
            "                                                                                                  \n",
            " add_1 (Add)                 (None, 1, 1, 64)             0         ['reshape[0][0]',             \n",
            "                                                                     'reshape_1[0][0]']           \n",
            "                                                                                                  \n",
            " activation_3 (Activation)   (None, 1, 1, 64)             0         ['add_1[0][0]']               \n",
            "                                                                                                  \n",
            " multiply (Multiply)         (None, 74, 37, 64)           0         ['activation_2[0][0]',        \n",
            "                                                                     'activation_3[0][0]']        \n",
            "                                                                                                  \n",
            " res2_b_branch2a (Conv2D)    (None, 74, 37, 64)           36928     ['multiply[0][0]']            \n",
            "                                                                                                  \n",
            " bn2_b_branch2a (BatchNorma  (None, 74, 37, 64)           256       ['res2_b_branch2a[0][0]']     \n",
            " lization)                                                                                        \n",
            "                                                                                                  \n",
            " activation_4 (Activation)   (None, 74, 37, 64)           0         ['bn2_b_branch2a[0][0]']      \n",
            "                                                                                                  \n",
            " res2_b_branch2b (Conv2D)    (None, 74, 37, 64)           36928     ['activation_4[0][0]']        \n",
            "                                                                                                  \n",
            " res2_b_branch1 (Conv2D)     (None, 74, 37, 64)           4160      ['multiply[0][0]']            \n",
            "                                                                                                  \n",
            " bn2_b_branch2b (BatchNorma  (None, 74, 37, 64)           256       ['res2_b_branch2b[0][0]']     \n",
            " lization)                                                                                        \n",
            "                                                                                                  \n",
            " bn2_b_branch1 (BatchNormal  (None, 74, 37, 64)           256       ['res2_b_branch1[0][0]']      \n",
            " ization)                                                                                         \n",
            "                                                                                                  \n",
            " add_2 (Add)                 (None, 74, 37, 64)           0         ['bn2_b_branch2b[0][0]',      \n",
            "                                                                     'bn2_b_branch1[0][0]']       \n",
            "                                                                                                  \n",
            " activation_5 (Activation)   (None, 74, 37, 64)           0         ['add_2[0][0]']               \n",
            "                                                                                                  \n",
            " global_average_pooling2d_1  (None, 64)                   0         ['activation_5[0][0]']        \n",
            "  (GlobalAveragePooling2D)                                                                        \n",
            "                                                                                                  \n",
            " global_max_pooling2d_1 (Gl  (None, 64)                   0         ['activation_5[0][0]']        \n",
            " obalMaxPooling2D)                                                                                \n",
            "                                                                                                  \n",
            " dense_4 (Dense)             (None, 4)                    260       ['global_average_pooling2d_1[0\n",
            "                                                                    ][0]']                        \n",
            "                                                                                                  \n",
            " dense_6 (Dense)             (None, 4)                    260       ['global_max_pooling2d_1[0][0]\n",
            "                                                                    ']                            \n",
            "                                                                                                  \n",
            " dense_5 (Dense)             (None, 64)                   320       ['dense_4[0][0]']             \n",
            "                                                                                                  \n",
            " dense_7 (Dense)             (None, 64)                   320       ['dense_6[0][0]']             \n",
            "                                                                                                  \n",
            " reshape_2 (Reshape)         (None, 1, 1, 64)             0         ['dense_5[0][0]']             \n",
            "                                                                                                  \n",
            " reshape_3 (Reshape)         (None, 1, 1, 64)             0         ['dense_7[0][0]']             \n",
            "                                                                                                  \n",
            " add_3 (Add)                 (None, 1, 1, 64)             0         ['reshape_2[0][0]',           \n",
            "                                                                     'reshape_3[0][0]']           \n",
            "                                                                                                  \n",
            " activation_6 (Activation)   (None, 1, 1, 64)             0         ['add_3[0][0]']               \n",
            "                                                                                                  \n",
            " multiply_1 (Multiply)       (None, 74, 37, 64)           0         ['activation_5[0][0]',        \n",
            "                                                                     'activation_6[0][0]']        \n",
            "                                                                                                  \n",
            " res2_c_branch2a (Conv2D)    (None, 74, 37, 64)           36928     ['multiply_1[0][0]']          \n",
            "                                                                                                  \n",
            " bn2_c_branch2a (BatchNorma  (None, 74, 37, 64)           256       ['res2_c_branch2a[0][0]']     \n",
            " lization)                                                                                        \n",
            "                                                                                                  \n",
            " activation_7 (Activation)   (None, 74, 37, 64)           0         ['bn2_c_branch2a[0][0]']      \n",
            "                                                                                                  \n",
            " res2_c_branch2b (Conv2D)    (None, 74, 37, 64)           36928     ['activation_7[0][0]']        \n",
            "                                                                                                  \n",
            " res2_c_branch1 (Conv2D)     (None, 74, 37, 64)           4160      ['multiply_1[0][0]']          \n",
            "                                                                                                  \n",
            " bn2_c_branch2b (BatchNorma  (None, 74, 37, 64)           256       ['res2_c_branch2b[0][0]']     \n",
            " lization)                                                                                        \n",
            "                                                                                                  \n",
            " bn2_c_branch1 (BatchNormal  (None, 74, 37, 64)           256       ['res2_c_branch1[0][0]']      \n",
            " ization)                                                                                         \n",
            "                                                                                                  \n",
            " add_4 (Add)                 (None, 74, 37, 64)           0         ['bn2_c_branch2b[0][0]',      \n",
            "                                                                     'bn2_c_branch1[0][0]']       \n",
            "                                                                                                  \n",
            " activation_8 (Activation)   (None, 74, 37, 64)           0         ['add_4[0][0]']               \n",
            "                                                                                                  \n",
            " global_average_pooling2d_2  (None, 64)                   0         ['activation_8[0][0]']        \n",
            "  (GlobalAveragePooling2D)                                                                        \n",
            "                                                                                                  \n",
            " global_max_pooling2d_2 (Gl  (None, 64)                   0         ['activation_8[0][0]']        \n",
            " obalMaxPooling2D)                                                                                \n",
            "                                                                                                  \n",
            " dense_8 (Dense)             (None, 4)                    260       ['global_average_pooling2d_2[0\n",
            "                                                                    ][0]']                        \n",
            "                                                                                                  \n",
            " dense_10 (Dense)            (None, 4)                    260       ['global_max_pooling2d_2[0][0]\n",
            "                                                                    ']                            \n",
            "                                                                                                  \n",
            " dense_9 (Dense)             (None, 64)                   320       ['dense_8[0][0]']             \n",
            "                                                                                                  \n",
            " dense_11 (Dense)            (None, 64)                   320       ['dense_10[0][0]']            \n",
            "                                                                                                  \n",
            " reshape_4 (Reshape)         (None, 1, 1, 64)             0         ['dense_9[0][0]']             \n",
            "                                                                                                  \n",
            " reshape_5 (Reshape)         (None, 1, 1, 64)             0         ['dense_11[0][0]']            \n",
            "                                                                                                  \n",
            " add_5 (Add)                 (None, 1, 1, 64)             0         ['reshape_4[0][0]',           \n",
            "                                                                     'reshape_5[0][0]']           \n",
            "                                                                                                  \n",
            " activation_9 (Activation)   (None, 1, 1, 64)             0         ['add_5[0][0]']               \n",
            "                                                                                                  \n",
            " multiply_2 (Multiply)       (None, 74, 37, 64)           0         ['activation_8[0][0]',        \n",
            "                                                                     'activation_9[0][0]']        \n",
            "                                                                                                  \n",
            " res3_a_branch2a (Conv2D)    (None, 37, 19, 128)          73856     ['multiply_2[0][0]']          \n",
            "                                                                                                  \n",
            " bn3_a_branch2a (BatchNorma  (None, 37, 19, 128)          512       ['res3_a_branch2a[0][0]']     \n",
            " lization)                                                                                        \n",
            "                                                                                                  \n",
            " activation_10 (Activation)  (None, 37, 19, 128)          0         ['bn3_a_branch2a[0][0]']      \n",
            "                                                                                                  \n",
            " res3_a_branch2b (Conv2D)    (None, 37, 19, 128)          147584    ['activation_10[0][0]']       \n",
            "                                                                                                  \n",
            " res3_a_branch1 (Conv2D)     (None, 37, 19, 128)          8320      ['multiply_2[0][0]']          \n",
            "                                                                                                  \n",
            " bn3_a_branch2b (BatchNorma  (None, 37, 19, 128)          512       ['res3_a_branch2b[0][0]']     \n",
            " lization)                                                                                        \n",
            "                                                                                                  \n",
            " bn3_a_branch1 (BatchNormal  (None, 37, 19, 128)          512       ['res3_a_branch1[0][0]']      \n",
            " ization)                                                                                         \n",
            "                                                                                                  \n",
            " add_6 (Add)                 (None, 37, 19, 128)          0         ['bn3_a_branch2b[0][0]',      \n",
            "                                                                     'bn3_a_branch1[0][0]']       \n",
            "                                                                                                  \n",
            " activation_11 (Activation)  (None, 37, 19, 128)          0         ['add_6[0][0]']               \n",
            "                                                                                                  \n",
            " global_average_pooling2d_3  (None, 128)                  0         ['activation_11[0][0]']       \n",
            "  (GlobalAveragePooling2D)                                                                        \n",
            "                                                                                                  \n",
            " global_max_pooling2d_3 (Gl  (None, 128)                  0         ['activation_11[0][0]']       \n",
            " obalMaxPooling2D)                                                                                \n",
            "                                                                                                  \n",
            " dense_12 (Dense)            (None, 8)                    1032      ['global_average_pooling2d_3[0\n",
            "                                                                    ][0]']                        \n",
            "                                                                                                  \n",
            " dense_14 (Dense)            (None, 8)                    1032      ['global_max_pooling2d_3[0][0]\n",
            "                                                                    ']                            \n",
            "                                                                                                  \n",
            " dense_13 (Dense)            (None, 128)                  1152      ['dense_12[0][0]']            \n",
            "                                                                                                  \n",
            " dense_15 (Dense)            (None, 128)                  1152      ['dense_14[0][0]']            \n",
            "                                                                                                  \n",
            " reshape_6 (Reshape)         (None, 1, 1, 128)            0         ['dense_13[0][0]']            \n",
            "                                                                                                  \n",
            " reshape_7 (Reshape)         (None, 1, 1, 128)            0         ['dense_15[0][0]']            \n",
            "                                                                                                  \n",
            " add_7 (Add)                 (None, 1, 1, 128)            0         ['reshape_6[0][0]',           \n",
            "                                                                     'reshape_7[0][0]']           \n",
            "                                                                                                  \n",
            " activation_12 (Activation)  (None, 1, 1, 128)            0         ['add_7[0][0]']               \n",
            "                                                                                                  \n",
            " multiply_3 (Multiply)       (None, 37, 19, 128)          0         ['activation_11[0][0]',       \n",
            "                                                                     'activation_12[0][0]']       \n",
            "                                                                                                  \n",
            " res3_b_branch2a (Conv2D)    (None, 37, 19, 128)          147584    ['multiply_3[0][0]']          \n",
            "                                                                                                  \n",
            " bn3_b_branch2a (BatchNorma  (None, 37, 19, 128)          512       ['res3_b_branch2a[0][0]']     \n",
            " lization)                                                                                        \n",
            "                                                                                                  \n",
            " activation_13 (Activation)  (None, 37, 19, 128)          0         ['bn3_b_branch2a[0][0]']      \n",
            "                                                                                                  \n",
            " res3_b_branch2b (Conv2D)    (None, 37, 19, 128)          147584    ['activation_13[0][0]']       \n",
            "                                                                                                  \n",
            " res3_b_branch1 (Conv2D)     (None, 37, 19, 128)          16512     ['multiply_3[0][0]']          \n",
            "                                                                                                  \n",
            " bn3_b_branch2b (BatchNorma  (None, 37, 19, 128)          512       ['res3_b_branch2b[0][0]']     \n",
            " lization)                                                                                        \n",
            "                                                                                                  \n",
            " bn3_b_branch1 (BatchNormal  (None, 37, 19, 128)          512       ['res3_b_branch1[0][0]']      \n",
            " ization)                                                                                         \n",
            "                                                                                                  \n",
            " add_8 (Add)                 (None, 37, 19, 128)          0         ['bn3_b_branch2b[0][0]',      \n",
            "                                                                     'bn3_b_branch1[0][0]']       \n",
            "                                                                                                  \n",
            " activation_14 (Activation)  (None, 37, 19, 128)          0         ['add_8[0][0]']               \n",
            "                                                                                                  \n",
            " global_average_pooling2d_4  (None, 128)                  0         ['activation_14[0][0]']       \n",
            "  (GlobalAveragePooling2D)                                                                        \n",
            "                                                                                                  \n",
            " global_max_pooling2d_4 (Gl  (None, 128)                  0         ['activation_14[0][0]']       \n",
            " obalMaxPooling2D)                                                                                \n",
            "                                                                                                  \n",
            " dense_16 (Dense)            (None, 8)                    1032      ['global_average_pooling2d_4[0\n",
            "                                                                    ][0]']                        \n",
            "                                                                                                  \n",
            " dense_18 (Dense)            (None, 8)                    1032      ['global_max_pooling2d_4[0][0]\n",
            "                                                                    ']                            \n",
            "                                                                                                  \n",
            " dense_17 (Dense)            (None, 128)                  1152      ['dense_16[0][0]']            \n",
            "                                                                                                  \n",
            " dense_19 (Dense)            (None, 128)                  1152      ['dense_18[0][0]']            \n",
            "                                                                                                  \n",
            " reshape_8 (Reshape)         (None, 1, 1, 128)            0         ['dense_17[0][0]']            \n",
            "                                                                                                  \n",
            " reshape_9 (Reshape)         (None, 1, 1, 128)            0         ['dense_19[0][0]']            \n",
            "                                                                                                  \n",
            " add_9 (Add)                 (None, 1, 1, 128)            0         ['reshape_8[0][0]',           \n",
            "                                                                     'reshape_9[0][0]']           \n",
            "                                                                                                  \n",
            " activation_15 (Activation)  (None, 1, 1, 128)            0         ['add_9[0][0]']               \n",
            "                                                                                                  \n",
            " multiply_4 (Multiply)       (None, 37, 19, 128)          0         ['activation_14[0][0]',       \n",
            "                                                                     'activation_15[0][0]']       \n",
            "                                                                                                  \n",
            " res3_c_branch2a (Conv2D)    (None, 37, 19, 128)          147584    ['multiply_4[0][0]']          \n",
            "                                                                                                  \n",
            " bn3_c_branch2a (BatchNorma  (None, 37, 19, 128)          512       ['res3_c_branch2a[0][0]']     \n",
            " lization)                                                                                        \n",
            "                                                                                                  \n",
            " activation_16 (Activation)  (None, 37, 19, 128)          0         ['bn3_c_branch2a[0][0]']      \n",
            "                                                                                                  \n",
            " res3_c_branch2b (Conv2D)    (None, 37, 19, 128)          147584    ['activation_16[0][0]']       \n",
            "                                                                                                  \n",
            " res3_c_branch1 (Conv2D)     (None, 37, 19, 128)          16512     ['multiply_4[0][0]']          \n",
            "                                                                                                  \n",
            " bn3_c_branch2b (BatchNorma  (None, 37, 19, 128)          512       ['res3_c_branch2b[0][0]']     \n",
            " lization)                                                                                        \n",
            "                                                                                                  \n",
            " bn3_c_branch1 (BatchNormal  (None, 37, 19, 128)          512       ['res3_c_branch1[0][0]']      \n",
            " ization)                                                                                         \n",
            "                                                                                                  \n",
            " add_10 (Add)                (None, 37, 19, 128)          0         ['bn3_c_branch2b[0][0]',      \n",
            "                                                                     'bn3_c_branch1[0][0]']       \n",
            "                                                                                                  \n",
            " activation_17 (Activation)  (None, 37, 19, 128)          0         ['add_10[0][0]']              \n",
            "                                                                                                  \n",
            " global_average_pooling2d_5  (None, 128)                  0         ['activation_17[0][0]']       \n",
            "  (GlobalAveragePooling2D)                                                                        \n",
            "                                                                                                  \n",
            " global_max_pooling2d_5 (Gl  (None, 128)                  0         ['activation_17[0][0]']       \n",
            " obalMaxPooling2D)                                                                                \n",
            "                                                                                                  \n",
            " dense_20 (Dense)            (None, 8)                    1032      ['global_average_pooling2d_5[0\n",
            "                                                                    ][0]']                        \n",
            "                                                                                                  \n",
            " dense_22 (Dense)            (None, 8)                    1032      ['global_max_pooling2d_5[0][0]\n",
            "                                                                    ']                            \n",
            "                                                                                                  \n",
            " dense_21 (Dense)            (None, 128)                  1152      ['dense_20[0][0]']            \n",
            "                                                                                                  \n",
            " dense_23 (Dense)            (None, 128)                  1152      ['dense_22[0][0]']            \n",
            "                                                                                                  \n",
            " reshape_10 (Reshape)        (None, 1, 1, 128)            0         ['dense_21[0][0]']            \n",
            "                                                                                                  \n",
            " reshape_11 (Reshape)        (None, 1, 1, 128)            0         ['dense_23[0][0]']            \n",
            "                                                                                                  \n",
            " add_11 (Add)                (None, 1, 1, 128)            0         ['reshape_10[0][0]',          \n",
            "                                                                     'reshape_11[0][0]']          \n",
            "                                                                                                  \n",
            " activation_18 (Activation)  (None, 1, 1, 128)            0         ['add_11[0][0]']              \n",
            "                                                                                                  \n",
            " multiply_5 (Multiply)       (None, 37, 19, 128)          0         ['activation_17[0][0]',       \n",
            "                                                                     'activation_18[0][0]']       \n",
            "                                                                                                  \n",
            " res3_d_branch2a (Conv2D)    (None, 37, 19, 128)          147584    ['multiply_5[0][0]']          \n",
            "                                                                                                  \n",
            " bn3_d_branch2a (BatchNorma  (None, 37, 19, 128)          512       ['res3_d_branch2a[0][0]']     \n",
            " lization)                                                                                        \n",
            "                                                                                                  \n",
            " activation_19 (Activation)  (None, 37, 19, 128)          0         ['bn3_d_branch2a[0][0]']      \n",
            "                                                                                                  \n",
            " res3_d_branch2b (Conv2D)    (None, 37, 19, 128)          147584    ['activation_19[0][0]']       \n",
            "                                                                                                  \n",
            " res3_d_branch1 (Conv2D)     (None, 37, 19, 128)          16512     ['multiply_5[0][0]']          \n",
            "                                                                                                  \n",
            " bn3_d_branch2b (BatchNorma  (None, 37, 19, 128)          512       ['res3_d_branch2b[0][0]']     \n",
            " lization)                                                                                        \n",
            "                                                                                                  \n",
            " bn3_d_branch1 (BatchNormal  (None, 37, 19, 128)          512       ['res3_d_branch1[0][0]']      \n",
            " ization)                                                                                         \n",
            "                                                                                                  \n",
            " add_12 (Add)                (None, 37, 19, 128)          0         ['bn3_d_branch2b[0][0]',      \n",
            "                                                                     'bn3_d_branch1[0][0]']       \n",
            "                                                                                                  \n",
            " activation_20 (Activation)  (None, 37, 19, 128)          0         ['add_12[0][0]']              \n",
            "                                                                                                  \n",
            " global_average_pooling2d_6  (None, 128)                  0         ['activation_20[0][0]']       \n",
            "  (GlobalAveragePooling2D)                                                                        \n",
            "                                                                                                  \n",
            " global_max_pooling2d_6 (Gl  (None, 128)                  0         ['activation_20[0][0]']       \n",
            " obalMaxPooling2D)                                                                                \n",
            "                                                                                                  \n",
            " dense_24 (Dense)            (None, 8)                    1032      ['global_average_pooling2d_6[0\n",
            "                                                                    ][0]']                        \n",
            "                                                                                                  \n",
            " dense_26 (Dense)            (None, 8)                    1032      ['global_max_pooling2d_6[0][0]\n",
            "                                                                    ']                            \n",
            "                                                                                                  \n",
            " dense_25 (Dense)            (None, 128)                  1152      ['dense_24[0][0]']            \n",
            "                                                                                                  \n",
            " dense_27 (Dense)            (None, 128)                  1152      ['dense_26[0][0]']            \n",
            "                                                                                                  \n",
            " reshape_12 (Reshape)        (None, 1, 1, 128)            0         ['dense_25[0][0]']            \n",
            "                                                                                                  \n",
            " reshape_13 (Reshape)        (None, 1, 1, 128)            0         ['dense_27[0][0]']            \n",
            "                                                                                                  \n",
            " add_13 (Add)                (None, 1, 1, 128)            0         ['reshape_12[0][0]',          \n",
            "                                                                     'reshape_13[0][0]']          \n",
            "                                                                                                  \n",
            " activation_21 (Activation)  (None, 1, 1, 128)            0         ['add_13[0][0]']              \n",
            "                                                                                                  \n",
            " multiply_6 (Multiply)       (None, 37, 19, 128)          0         ['activation_20[0][0]',       \n",
            "                                                                     'activation_21[0][0]']       \n",
            "                                                                                                  \n",
            " res4_a_branch2a (Conv2D)    (None, 19, 10, 256)          295168    ['multiply_6[0][0]']          \n",
            "                                                                                                  \n",
            " bn4_a_branch2a (BatchNorma  (None, 19, 10, 256)          1024      ['res4_a_branch2a[0][0]']     \n",
            " lization)                                                                                        \n",
            "                                                                                                  \n",
            " activation_22 (Activation)  (None, 19, 10, 256)          0         ['bn4_a_branch2a[0][0]']      \n",
            "                                                                                                  \n",
            " res4_a_branch2b (Conv2D)    (None, 19, 10, 256)          590080    ['activation_22[0][0]']       \n",
            "                                                                                                  \n",
            " res4_a_branch1 (Conv2D)     (None, 19, 10, 256)          33024     ['multiply_6[0][0]']          \n",
            "                                                                                                  \n",
            " bn4_a_branch2b (BatchNorma  (None, 19, 10, 256)          1024      ['res4_a_branch2b[0][0]']     \n",
            " lization)                                                                                        \n",
            "                                                                                                  \n",
            " bn4_a_branch1 (BatchNormal  (None, 19, 10, 256)          1024      ['res4_a_branch1[0][0]']      \n",
            " ization)                                                                                         \n",
            "                                                                                                  \n",
            " add_14 (Add)                (None, 19, 10, 256)          0         ['bn4_a_branch2b[0][0]',      \n",
            "                                                                     'bn4_a_branch1[0][0]']       \n",
            "                                                                                                  \n",
            " activation_23 (Activation)  (None, 19, 10, 256)          0         ['add_14[0][0]']              \n",
            "                                                                                                  \n",
            " global_average_pooling2d_7  (None, 256)                  0         ['activation_23[0][0]']       \n",
            "  (GlobalAveragePooling2D)                                                                        \n",
            "                                                                                                  \n",
            " global_max_pooling2d_7 (Gl  (None, 256)                  0         ['activation_23[0][0]']       \n",
            " obalMaxPooling2D)                                                                                \n",
            "                                                                                                  \n",
            " dense_28 (Dense)            (None, 16)                   4112      ['global_average_pooling2d_7[0\n",
            "                                                                    ][0]']                        \n",
            "                                                                                                  \n",
            " dense_30 (Dense)            (None, 16)                   4112      ['global_max_pooling2d_7[0][0]\n",
            "                                                                    ']                            \n",
            "                                                                                                  \n",
            " dense_29 (Dense)            (None, 256)                  4352      ['dense_28[0][0]']            \n",
            "                                                                                                  \n",
            " dense_31 (Dense)            (None, 256)                  4352      ['dense_30[0][0]']            \n",
            "                                                                                                  \n",
            " reshape_14 (Reshape)        (None, 1, 1, 256)            0         ['dense_29[0][0]']            \n",
            "                                                                                                  \n",
            " reshape_15 (Reshape)        (None, 1, 1, 256)            0         ['dense_31[0][0]']            \n",
            "                                                                                                  \n",
            " add_15 (Add)                (None, 1, 1, 256)            0         ['reshape_14[0][0]',          \n",
            "                                                                     'reshape_15[0][0]']          \n",
            "                                                                                                  \n",
            " activation_24 (Activation)  (None, 1, 1, 256)            0         ['add_15[0][0]']              \n",
            "                                                                                                  \n",
            " multiply_7 (Multiply)       (None, 19, 10, 256)          0         ['activation_23[0][0]',       \n",
            "                                                                     'activation_24[0][0]']       \n",
            "                                                                                                  \n",
            " res4_b_branch2a (Conv2D)    (None, 19, 10, 256)          590080    ['multiply_7[0][0]']          \n",
            "                                                                                                  \n",
            " bn4_b_branch2a (BatchNorma  (None, 19, 10, 256)          1024      ['res4_b_branch2a[0][0]']     \n",
            " lization)                                                                                        \n",
            "                                                                                                  \n",
            " activation_25 (Activation)  (None, 19, 10, 256)          0         ['bn4_b_branch2a[0][0]']      \n",
            "                                                                                                  \n",
            " res4_b_branch2b (Conv2D)    (None, 19, 10, 256)          590080    ['activation_25[0][0]']       \n",
            "                                                                                                  \n",
            " res4_b_branch1 (Conv2D)     (None, 19, 10, 256)          65792     ['multiply_7[0][0]']          \n",
            "                                                                                                  \n",
            " bn4_b_branch2b (BatchNorma  (None, 19, 10, 256)          1024      ['res4_b_branch2b[0][0]']     \n",
            " lization)                                                                                        \n",
            "                                                                                                  \n",
            " bn4_b_branch1 (BatchNormal  (None, 19, 10, 256)          1024      ['res4_b_branch1[0][0]']      \n",
            " ization)                                                                                         \n",
            "                                                                                                  \n",
            " add_16 (Add)                (None, 19, 10, 256)          0         ['bn4_b_branch2b[0][0]',      \n",
            "                                                                     'bn4_b_branch1[0][0]']       \n",
            "                                                                                                  \n",
            " activation_26 (Activation)  (None, 19, 10, 256)          0         ['add_16[0][0]']              \n",
            "                                                                                                  \n",
            " global_average_pooling2d_8  (None, 256)                  0         ['activation_26[0][0]']       \n",
            "  (GlobalAveragePooling2D)                                                                        \n",
            "                                                                                                  \n",
            " global_max_pooling2d_8 (Gl  (None, 256)                  0         ['activation_26[0][0]']       \n",
            " obalMaxPooling2D)                                                                                \n",
            "                                                                                                  \n",
            " dense_32 (Dense)            (None, 16)                   4112      ['global_average_pooling2d_8[0\n",
            "                                                                    ][0]']                        \n",
            "                                                                                                  \n",
            " dense_34 (Dense)            (None, 16)                   4112      ['global_max_pooling2d_8[0][0]\n",
            "                                                                    ']                            \n",
            "                                                                                                  \n",
            " dense_33 (Dense)            (None, 256)                  4352      ['dense_32[0][0]']            \n",
            "                                                                                                  \n",
            " dense_35 (Dense)            (None, 256)                  4352      ['dense_34[0][0]']            \n",
            "                                                                                                  \n",
            " reshape_16 (Reshape)        (None, 1, 1, 256)            0         ['dense_33[0][0]']            \n",
            "                                                                                                  \n",
            " reshape_17 (Reshape)        (None, 1, 1, 256)            0         ['dense_35[0][0]']            \n",
            "                                                                                                  \n",
            " add_17 (Add)                (None, 1, 1, 256)            0         ['reshape_16[0][0]',          \n",
            "                                                                     'reshape_17[0][0]']          \n",
            "                                                                                                  \n",
            " activation_27 (Activation)  (None, 1, 1, 256)            0         ['add_17[0][0]']              \n",
            "                                                                                                  \n",
            " multiply_8 (Multiply)       (None, 19, 10, 256)          0         ['activation_26[0][0]',       \n",
            "                                                                     'activation_27[0][0]']       \n",
            "                                                                                                  \n",
            " res4_c_branch2a (Conv2D)    (None, 19, 10, 256)          590080    ['multiply_8[0][0]']          \n",
            "                                                                                                  \n",
            " bn4_c_branch2a (BatchNorma  (None, 19, 10, 256)          1024      ['res4_c_branch2a[0][0]']     \n",
            " lization)                                                                                        \n",
            "                                                                                                  \n",
            " activation_28 (Activation)  (None, 19, 10, 256)          0         ['bn4_c_branch2a[0][0]']      \n",
            "                                                                                                  \n",
            " res4_c_branch2b (Conv2D)    (None, 19, 10, 256)          590080    ['activation_28[0][0]']       \n",
            "                                                                                                  \n",
            " res4_c_branch1 (Conv2D)     (None, 19, 10, 256)          65792     ['multiply_8[0][0]']          \n",
            "                                                                                                  \n",
            " bn4_c_branch2b (BatchNorma  (None, 19, 10, 256)          1024      ['res4_c_branch2b[0][0]']     \n",
            " lization)                                                                                        \n",
            "                                                                                                  \n",
            " bn4_c_branch1 (BatchNormal  (None, 19, 10, 256)          1024      ['res4_c_branch1[0][0]']      \n",
            " ization)                                                                                         \n",
            "                                                                                                  \n",
            " add_18 (Add)                (None, 19, 10, 256)          0         ['bn4_c_branch2b[0][0]',      \n",
            "                                                                     'bn4_c_branch1[0][0]']       \n",
            "                                                                                                  \n",
            " activation_29 (Activation)  (None, 19, 10, 256)          0         ['add_18[0][0]']              \n",
            "                                                                                                  \n",
            " global_average_pooling2d_9  (None, 256)                  0         ['activation_29[0][0]']       \n",
            "  (GlobalAveragePooling2D)                                                                        \n",
            "                                                                                                  \n",
            " global_max_pooling2d_9 (Gl  (None, 256)                  0         ['activation_29[0][0]']       \n",
            " obalMaxPooling2D)                                                                                \n",
            "                                                                                                  \n",
            " dense_36 (Dense)            (None, 16)                   4112      ['global_average_pooling2d_9[0\n",
            "                                                                    ][0]']                        \n",
            "                                                                                                  \n",
            " dense_38 (Dense)            (None, 16)                   4112      ['global_max_pooling2d_9[0][0]\n",
            "                                                                    ']                            \n",
            "                                                                                                  \n",
            " dense_37 (Dense)            (None, 256)                  4352      ['dense_36[0][0]']            \n",
            "                                                                                                  \n",
            " dense_39 (Dense)            (None, 256)                  4352      ['dense_38[0][0]']            \n",
            "                                                                                                  \n",
            " reshape_18 (Reshape)        (None, 1, 1, 256)            0         ['dense_37[0][0]']            \n",
            "                                                                                                  \n",
            " reshape_19 (Reshape)        (None, 1, 1, 256)            0         ['dense_39[0][0]']            \n",
            "                                                                                                  \n",
            " add_19 (Add)                (None, 1, 1, 256)            0         ['reshape_18[0][0]',          \n",
            "                                                                     'reshape_19[0][0]']          \n",
            "                                                                                                  \n",
            " activation_30 (Activation)  (None, 1, 1, 256)            0         ['add_19[0][0]']              \n",
            "                                                                                                  \n",
            " multiply_9 (Multiply)       (None, 19, 10, 256)          0         ['activation_29[0][0]',       \n",
            "                                                                     'activation_30[0][0]']       \n",
            "                                                                                                  \n",
            " res4_d_branch2a (Conv2D)    (None, 19, 10, 256)          590080    ['multiply_9[0][0]']          \n",
            "                                                                                                  \n",
            " bn4_d_branch2a (BatchNorma  (None, 19, 10, 256)          1024      ['res4_d_branch2a[0][0]']     \n",
            " lization)                                                                                        \n",
            "                                                                                                  \n",
            " activation_31 (Activation)  (None, 19, 10, 256)          0         ['bn4_d_branch2a[0][0]']      \n",
            "                                                                                                  \n",
            " res4_d_branch2b (Conv2D)    (None, 19, 10, 256)          590080    ['activation_31[0][0]']       \n",
            "                                                                                                  \n",
            " res4_d_branch1 (Conv2D)     (None, 19, 10, 256)          65792     ['multiply_9[0][0]']          \n",
            "                                                                                                  \n",
            " bn4_d_branch2b (BatchNorma  (None, 19, 10, 256)          1024      ['res4_d_branch2b[0][0]']     \n",
            " lization)                                                                                        \n",
            "                                                                                                  \n",
            " bn4_d_branch1 (BatchNormal  (None, 19, 10, 256)          1024      ['res4_d_branch1[0][0]']      \n",
            " ization)                                                                                         \n",
            "                                                                                                  \n",
            " add_20 (Add)                (None, 19, 10, 256)          0         ['bn4_d_branch2b[0][0]',      \n",
            "                                                                     'bn4_d_branch1[0][0]']       \n",
            "                                                                                                  \n",
            " activation_32 (Activation)  (None, 19, 10, 256)          0         ['add_20[0][0]']              \n",
            "                                                                                                  \n",
            " global_average_pooling2d_1  (None, 256)                  0         ['activation_32[0][0]']       \n",
            " 0 (GlobalAveragePooling2D)                                                                       \n",
            "                                                                                                  \n",
            " global_max_pooling2d_10 (G  (None, 256)                  0         ['activation_32[0][0]']       \n",
            " lobalMaxPooling2D)                                                                               \n",
            "                                                                                                  \n",
            " dense_40 (Dense)            (None, 16)                   4112      ['global_average_pooling2d_10[\n",
            "                                                                    0][0]']                       \n",
            "                                                                                                  \n",
            " dense_42 (Dense)            (None, 16)                   4112      ['global_max_pooling2d_10[0][0\n",
            "                                                                    ]']                           \n",
            "                                                                                                  \n",
            " dense_41 (Dense)            (None, 256)                  4352      ['dense_40[0][0]']            \n",
            "                                                                                                  \n",
            " dense_43 (Dense)            (None, 256)                  4352      ['dense_42[0][0]']            \n",
            "                                                                                                  \n",
            " reshape_20 (Reshape)        (None, 1, 1, 256)            0         ['dense_41[0][0]']            \n",
            "                                                                                                  \n",
            " reshape_21 (Reshape)        (None, 1, 1, 256)            0         ['dense_43[0][0]']            \n",
            "                                                                                                  \n",
            " add_21 (Add)                (None, 1, 1, 256)            0         ['reshape_20[0][0]',          \n",
            "                                                                     'reshape_21[0][0]']          \n",
            "                                                                                                  \n",
            " activation_33 (Activation)  (None, 1, 1, 256)            0         ['add_21[0][0]']              \n",
            "                                                                                                  \n",
            " multiply_10 (Multiply)      (None, 19, 10, 256)          0         ['activation_32[0][0]',       \n",
            "                                                                     'activation_33[0][0]']       \n",
            "                                                                                                  \n",
            " res4_e_branch2a (Conv2D)    (None, 19, 10, 256)          590080    ['multiply_10[0][0]']         \n",
            "                                                                                                  \n",
            " bn4_e_branch2a (BatchNorma  (None, 19, 10, 256)          1024      ['res4_e_branch2a[0][0]']     \n",
            " lization)                                                                                        \n",
            "                                                                                                  \n",
            " activation_34 (Activation)  (None, 19, 10, 256)          0         ['bn4_e_branch2a[0][0]']      \n",
            "                                                                                                  \n",
            " res4_e_branch2b (Conv2D)    (None, 19, 10, 256)          590080    ['activation_34[0][0]']       \n",
            "                                                                                                  \n",
            " res4_e_branch1 (Conv2D)     (None, 19, 10, 256)          65792     ['multiply_10[0][0]']         \n",
            "                                                                                                  \n",
            " bn4_e_branch2b (BatchNorma  (None, 19, 10, 256)          1024      ['res4_e_branch2b[0][0]']     \n",
            " lization)                                                                                        \n",
            "                                                                                                  \n",
            " bn4_e_branch1 (BatchNormal  (None, 19, 10, 256)          1024      ['res4_e_branch1[0][0]']      \n",
            " ization)                                                                                         \n",
            "                                                                                                  \n",
            " add_22 (Add)                (None, 19, 10, 256)          0         ['bn4_e_branch2b[0][0]',      \n",
            "                                                                     'bn4_e_branch1[0][0]']       \n",
            "                                                                                                  \n",
            " activation_35 (Activation)  (None, 19, 10, 256)          0         ['add_22[0][0]']              \n",
            "                                                                                                  \n",
            " global_average_pooling2d_1  (None, 256)                  0         ['activation_35[0][0]']       \n",
            " 1 (GlobalAveragePooling2D)                                                                       \n",
            "                                                                                                  \n",
            " global_max_pooling2d_11 (G  (None, 256)                  0         ['activation_35[0][0]']       \n",
            " lobalMaxPooling2D)                                                                               \n",
            "                                                                                                  \n",
            " dense_44 (Dense)            (None, 16)                   4112      ['global_average_pooling2d_11[\n",
            "                                                                    0][0]']                       \n",
            "                                                                                                  \n",
            " dense_46 (Dense)            (None, 16)                   4112      ['global_max_pooling2d_11[0][0\n",
            "                                                                    ]']                           \n",
            "                                                                                                  \n",
            " dense_45 (Dense)            (None, 256)                  4352      ['dense_44[0][0]']            \n",
            "                                                                                                  \n",
            " dense_47 (Dense)            (None, 256)                  4352      ['dense_46[0][0]']            \n",
            "                                                                                                  \n",
            " reshape_22 (Reshape)        (None, 1, 1, 256)            0         ['dense_45[0][0]']            \n",
            "                                                                                                  \n",
            " reshape_23 (Reshape)        (None, 1, 1, 256)            0         ['dense_47[0][0]']            \n",
            "                                                                                                  \n",
            " add_23 (Add)                (None, 1, 1, 256)            0         ['reshape_22[0][0]',          \n",
            "                                                                     'reshape_23[0][0]']          \n",
            "                                                                                                  \n",
            " activation_36 (Activation)  (None, 1, 1, 256)            0         ['add_23[0][0]']              \n",
            "                                                                                                  \n",
            " multiply_11 (Multiply)      (None, 19, 10, 256)          0         ['activation_35[0][0]',       \n",
            "                                                                     'activation_36[0][0]']       \n",
            "                                                                                                  \n",
            " res4_f_branch2a (Conv2D)    (None, 19, 10, 256)          590080    ['multiply_11[0][0]']         \n",
            "                                                                                                  \n",
            " bn4_f_branch2a (BatchNorma  (None, 19, 10, 256)          1024      ['res4_f_branch2a[0][0]']     \n",
            " lization)                                                                                        \n",
            "                                                                                                  \n",
            " activation_37 (Activation)  (None, 19, 10, 256)          0         ['bn4_f_branch2a[0][0]']      \n",
            "                                                                                                  \n",
            " res4_f_branch2b (Conv2D)    (None, 19, 10, 256)          590080    ['activation_37[0][0]']       \n",
            "                                                                                                  \n",
            " res4_f_branch1 (Conv2D)     (None, 19, 10, 256)          65792     ['multiply_11[0][0]']         \n",
            "                                                                                                  \n",
            " bn4_f_branch2b (BatchNorma  (None, 19, 10, 256)          1024      ['res4_f_branch2b[0][0]']     \n",
            " lization)                                                                                        \n",
            "                                                                                                  \n",
            " bn4_f_branch1 (BatchNormal  (None, 19, 10, 256)          1024      ['res4_f_branch1[0][0]']      \n",
            " ization)                                                                                         \n",
            "                                                                                                  \n",
            " add_24 (Add)                (None, 19, 10, 256)          0         ['bn4_f_branch2b[0][0]',      \n",
            "                                                                     'bn4_f_branch1[0][0]']       \n",
            "                                                                                                  \n",
            " activation_38 (Activation)  (None, 19, 10, 256)          0         ['add_24[0][0]']              \n",
            "                                                                                                  \n",
            " global_average_pooling2d_1  (None, 256)                  0         ['activation_38[0][0]']       \n",
            " 2 (GlobalAveragePooling2D)                                                                       \n",
            "                                                                                                  \n",
            " global_max_pooling2d_12 (G  (None, 256)                  0         ['activation_38[0][0]']       \n",
            " lobalMaxPooling2D)                                                                               \n",
            "                                                                                                  \n",
            " dense_48 (Dense)            (None, 16)                   4112      ['global_average_pooling2d_12[\n",
            "                                                                    0][0]']                       \n",
            "                                                                                                  \n",
            " dense_50 (Dense)            (None, 16)                   4112      ['global_max_pooling2d_12[0][0\n",
            "                                                                    ]']                           \n",
            "                                                                                                  \n",
            " dense_49 (Dense)            (None, 256)                  4352      ['dense_48[0][0]']            \n",
            "                                                                                                  \n",
            " dense_51 (Dense)            (None, 256)                  4352      ['dense_50[0][0]']            \n",
            "                                                                                                  \n",
            " reshape_24 (Reshape)        (None, 1, 1, 256)            0         ['dense_49[0][0]']            \n",
            "                                                                                                  \n",
            " reshape_25 (Reshape)        (None, 1, 1, 256)            0         ['dense_51[0][0]']            \n",
            "                                                                                                  \n",
            " add_25 (Add)                (None, 1, 1, 256)            0         ['reshape_24[0][0]',          \n",
            "                                                                     'reshape_25[0][0]']          \n",
            "                                                                                                  \n",
            " activation_39 (Activation)  (None, 1, 1, 256)            0         ['add_25[0][0]']              \n",
            "                                                                                                  \n",
            " multiply_12 (Multiply)      (None, 19, 10, 256)          0         ['activation_38[0][0]',       \n",
            "                                                                     'activation_39[0][0]']       \n",
            "                                                                                                  \n",
            " res5_a_branch2a (Conv2D)    (None, 10, 5, 512)           1180160   ['multiply_12[0][0]']         \n",
            "                                                                                                  \n",
            " bn5_a_branch2a (BatchNorma  (None, 10, 5, 512)           2048      ['res5_a_branch2a[0][0]']     \n",
            " lization)                                                                                        \n",
            "                                                                                                  \n",
            " activation_40 (Activation)  (None, 10, 5, 512)           0         ['bn5_a_branch2a[0][0]']      \n",
            "                                                                                                  \n",
            " res5_a_branch2b (Conv2D)    (None, 10, 5, 512)           2359808   ['activation_40[0][0]']       \n",
            "                                                                                                  \n",
            " res5_a_branch1 (Conv2D)     (None, 10, 5, 512)           131584    ['multiply_12[0][0]']         \n",
            "                                                                                                  \n",
            " bn5_a_branch2b (BatchNorma  (None, 10, 5, 512)           2048      ['res5_a_branch2b[0][0]']     \n",
            " lization)                                                                                        \n",
            "                                                                                                  \n",
            " bn5_a_branch1 (BatchNormal  (None, 10, 5, 512)           2048      ['res5_a_branch1[0][0]']      \n",
            " ization)                                                                                         \n",
            "                                                                                                  \n",
            " add_26 (Add)                (None, 10, 5, 512)           0         ['bn5_a_branch2b[0][0]',      \n",
            "                                                                     'bn5_a_branch1[0][0]']       \n",
            "                                                                                                  \n",
            " activation_41 (Activation)  (None, 10, 5, 512)           0         ['add_26[0][0]']              \n",
            "                                                                                                  \n",
            " global_average_pooling2d_1  (None, 512)                  0         ['activation_41[0][0]']       \n",
            " 3 (GlobalAveragePooling2D)                                                                       \n",
            "                                                                                                  \n",
            " global_max_pooling2d_13 (G  (None, 512)                  0         ['activation_41[0][0]']       \n",
            " lobalMaxPooling2D)                                                                               \n",
            "                                                                                                  \n",
            " dense_52 (Dense)            (None, 32)                   16416     ['global_average_pooling2d_13[\n",
            "                                                                    0][0]']                       \n",
            "                                                                                                  \n",
            " dense_54 (Dense)            (None, 32)                   16416     ['global_max_pooling2d_13[0][0\n",
            "                                                                    ]']                           \n",
            "                                                                                                  \n",
            " dense_53 (Dense)            (None, 512)                  16896     ['dense_52[0][0]']            \n",
            "                                                                                                  \n",
            " dense_55 (Dense)            (None, 512)                  16896     ['dense_54[0][0]']            \n",
            "                                                                                                  \n",
            " reshape_26 (Reshape)        (None, 1, 1, 512)            0         ['dense_53[0][0]']            \n",
            "                                                                                                  \n",
            " reshape_27 (Reshape)        (None, 1, 1, 512)            0         ['dense_55[0][0]']            \n",
            "                                                                                                  \n",
            " add_27 (Add)                (None, 1, 1, 512)            0         ['reshape_26[0][0]',          \n",
            "                                                                     'reshape_27[0][0]']          \n",
            "                                                                                                  \n",
            " activation_42 (Activation)  (None, 1, 1, 512)            0         ['add_27[0][0]']              \n",
            "                                                                                                  \n",
            " multiply_13 (Multiply)      (None, 10, 5, 512)           0         ['activation_41[0][0]',       \n",
            "                                                                     'activation_42[0][0]']       \n",
            "                                                                                                  \n",
            " res5_b_branch2a (Conv2D)    (None, 10, 5, 512)           2359808   ['multiply_13[0][0]']         \n",
            "                                                                                                  \n",
            " bn5_b_branch2a (BatchNorma  (None, 10, 5, 512)           2048      ['res5_b_branch2a[0][0]']     \n",
            " lization)                                                                                        \n",
            "                                                                                                  \n",
            " activation_43 (Activation)  (None, 10, 5, 512)           0         ['bn5_b_branch2a[0][0]']      \n",
            "                                                                                                  \n",
            " res5_b_branch2b (Conv2D)    (None, 10, 5, 512)           2359808   ['activation_43[0][0]']       \n",
            "                                                                                                  \n",
            " res5_b_branch1 (Conv2D)     (None, 10, 5, 512)           262656    ['multiply_13[0][0]']         \n",
            "                                                                                                  \n",
            " bn5_b_branch2b (BatchNorma  (None, 10, 5, 512)           2048      ['res5_b_branch2b[0][0]']     \n",
            " lization)                                                                                        \n",
            "                                                                                                  \n",
            " bn5_b_branch1 (BatchNormal  (None, 10, 5, 512)           2048      ['res5_b_branch1[0][0]']      \n",
            " ization)                                                                                         \n",
            "                                                                                                  \n",
            " add_28 (Add)                (None, 10, 5, 512)           0         ['bn5_b_branch2b[0][0]',      \n",
            "                                                                     'bn5_b_branch1[0][0]']       \n",
            "                                                                                                  \n",
            " activation_44 (Activation)  (None, 10, 5, 512)           0         ['add_28[0][0]']              \n",
            "                                                                                                  \n",
            " global_average_pooling2d_1  (None, 512)                  0         ['activation_44[0][0]']       \n",
            " 4 (GlobalAveragePooling2D)                                                                       \n",
            "                                                                                                  \n",
            " global_max_pooling2d_14 (G  (None, 512)                  0         ['activation_44[0][0]']       \n",
            " lobalMaxPooling2D)                                                                               \n",
            "                                                                                                  \n",
            " dense_56 (Dense)            (None, 32)                   16416     ['global_average_pooling2d_14[\n",
            "                                                                    0][0]']                       \n",
            "                                                                                                  \n",
            " dense_58 (Dense)            (None, 32)                   16416     ['global_max_pooling2d_14[0][0\n",
            "                                                                    ]']                           \n",
            "                                                                                                  \n",
            " dense_57 (Dense)            (None, 512)                  16896     ['dense_56[0][0]']            \n",
            "                                                                                                  \n",
            " dense_59 (Dense)            (None, 512)                  16896     ['dense_58[0][0]']            \n",
            "                                                                                                  \n",
            " reshape_28 (Reshape)        (None, 1, 1, 512)            0         ['dense_57[0][0]']            \n",
            "                                                                                                  \n",
            " reshape_29 (Reshape)        (None, 1, 1, 512)            0         ['dense_59[0][0]']            \n",
            "                                                                                                  \n",
            " add_29 (Add)                (None, 1, 1, 512)            0         ['reshape_28[0][0]',          \n",
            "                                                                     'reshape_29[0][0]']          \n",
            "                                                                                                  \n",
            " activation_45 (Activation)  (None, 1, 1, 512)            0         ['add_29[0][0]']              \n",
            "                                                                                                  \n",
            " multiply_14 (Multiply)      (None, 10, 5, 512)           0         ['activation_44[0][0]',       \n",
            "                                                                     'activation_45[0][0]']       \n",
            "                                                                                                  \n",
            " res5_c_branch2a (Conv2D)    (None, 10, 5, 512)           2359808   ['multiply_14[0][0]']         \n",
            "                                                                                                  \n",
            " bn5_c_branch2a (BatchNorma  (None, 10, 5, 512)           2048      ['res5_c_branch2a[0][0]']     \n",
            " lization)                                                                                        \n",
            "                                                                                                  \n",
            " activation_46 (Activation)  (None, 10, 5, 512)           0         ['bn5_c_branch2a[0][0]']      \n",
            "                                                                                                  \n",
            " res5_c_branch2b (Conv2D)    (None, 10, 5, 512)           2359808   ['activation_46[0][0]']       \n",
            "                                                                                                  \n",
            " res5_c_branch1 (Conv2D)     (None, 10, 5, 512)           262656    ['multiply_14[0][0]']         \n",
            "                                                                                                  \n",
            " bn5_c_branch2b (BatchNorma  (None, 10, 5, 512)           2048      ['res5_c_branch2b[0][0]']     \n",
            " lization)                                                                                        \n",
            "                                                                                                  \n",
            " bn5_c_branch1 (BatchNormal  (None, 10, 5, 512)           2048      ['res5_c_branch1[0][0]']      \n",
            " ization)                                                                                         \n",
            "                                                                                                  \n",
            " add_30 (Add)                (None, 10, 5, 512)           0         ['bn5_c_branch2b[0][0]',      \n",
            "                                                                     'bn5_c_branch1[0][0]']       \n",
            "                                                                                                  \n",
            " activation_47 (Activation)  (None, 10, 5, 512)           0         ['add_30[0][0]']              \n",
            "                                                                                                  \n",
            " global_average_pooling2d_1  (None, 512)                  0         ['activation_47[0][0]']       \n",
            " 5 (GlobalAveragePooling2D)                                                                       \n",
            "                                                                                                  \n",
            " global_max_pooling2d_15 (G  (None, 512)                  0         ['activation_47[0][0]']       \n",
            " lobalMaxPooling2D)                                                                               \n",
            "                                                                                                  \n",
            " dense_60 (Dense)            (None, 32)                   16416     ['global_average_pooling2d_15[\n",
            "                                                                    0][0]']                       \n",
            "                                                                                                  \n",
            " dense_62 (Dense)            (None, 32)                   16416     ['global_max_pooling2d_15[0][0\n",
            "                                                                    ]']                           \n",
            "                                                                                                  \n",
            " dense_61 (Dense)            (None, 512)                  16896     ['dense_60[0][0]']            \n",
            "                                                                                                  \n",
            " dense_63 (Dense)            (None, 512)                  16896     ['dense_62[0][0]']            \n",
            "                                                                                                  \n",
            " reshape_30 (Reshape)        (None, 1, 1, 512)            0         ['dense_61[0][0]']            \n",
            "                                                                                                  \n",
            " reshape_31 (Reshape)        (None, 1, 1, 512)            0         ['dense_63[0][0]']            \n",
            "                                                                                                  \n",
            " add_31 (Add)                (None, 1, 1, 512)            0         ['reshape_30[0][0]',          \n",
            "                                                                     'reshape_31[0][0]']          \n",
            "                                                                                                  \n",
            " activation_48 (Activation)  (None, 1, 1, 512)            0         ['add_31[0][0]']              \n",
            "                                                                                                  \n",
            " multiply_15 (Multiply)      (None, 10, 5, 512)           0         ['activation_47[0][0]',       \n",
            "                                                                     'activation_48[0][0]']       \n",
            "                                                                                                  \n",
            " max_pool (MaxPooling2D)     (None, 5, 2, 512)            0         ['multiply_15[0][0]']         \n",
            "                                                                                                  \n",
            " flatten (Flatten)           (None, 5120)                 0         ['max_pool[0][0]']            \n",
            "                                                                                                  \n",
            " fc60 (Dense)                (None, 60)                   307260    ['flatten[0][0]']             \n",
            "                                                                                                  \n",
            "==================================================================================================\n",
            "Total params: 22861396 (87.21 MB)\n",
            "Trainable params: 22838612 (87.12 MB)\n",
            "Non-trainable params: 22784 (89.00 KB)\n",
            "__________________________________________________________________________________________________\n",
            "None\n"
          ]
        }
      ]
    },
    {
      "cell_type": "code",
      "execution_count": null,
      "metadata": {
        "id": "zhanEADTmmOO"
      },
      "outputs": [],
      "source": [
        "# Set the parameters\n",
        "#num_segments = 1 # You can adjust this based on your requirements\n",
        "#segment_length = 237\n",
        "#num_features = 150  # Assuming each frame has 150 features\n"
      ]
    },
    {
      "cell_type": "code",
      "execution_count": null,
      "metadata": {
        "colab": {
          "base_uri": "https://localhost:8080/"
        },
        "id": "7CdhHz2gvH1j",
        "outputId": "a68ec135-c0a1-4606-b409-72fe079d5d48"
      },
      "outputs": [
        {
          "output_type": "stream",
          "name": "stdout",
          "text": [
            "(38086, 300, 150)\n"
          ]
        }
      ],
      "source": [
        "print(x_train_CS.shape)"
      ]
    },
    {
      "cell_type": "code",
      "execution_count": null,
      "metadata": {
        "colab": {
          "base_uri": "https://localhost:8080/"
        },
        "id": "rMvU4ewfviyc",
        "outputId": "80e0b50b-7cb7-418c-fafb-bf03f4b03ebe"
      },
      "outputs": [
        {
          "output_type": "stream",
          "name": "stdout",
          "text": [
            "(38086, 60)\n"
          ]
        }
      ],
      "source": [
        "print(y_train_CS.shape)"
      ]
    },
    {
      "cell_type": "code",
      "execution_count": null,
      "metadata": {
        "colab": {
          "base_uri": "https://localhost:8080/"
        },
        "id": "nEXOZnVrvH1l",
        "outputId": "a9f271b2-0e53-4912-c7d9-7294c956fe31"
      },
      "outputs": [
        {
          "output_type": "stream",
          "name": "stdout",
          "text": [
            "(2005, 300, 150)\n"
          ]
        }
      ],
      "source": [
        "print(x_valid_CS.shape)"
      ]
    },
    {
      "cell_type": "code",
      "execution_count": null,
      "metadata": {
        "colab": {
          "base_uri": "https://localhost:8080/"
        },
        "id": "dg4mFqQgvy8X",
        "outputId": "269c42ae-e9d6-46a9-81d8-b6d39ade5dc5"
      },
      "outputs": [
        {
          "output_type": "stream",
          "name": "stdout",
          "text": [
            "(2005, 60)\n"
          ]
        }
      ],
      "source": [
        "print(y_valid_CS.shape)"
      ]
    },
    {
      "cell_type": "code",
      "execution_count": null,
      "metadata": {
        "colab": {
          "base_uri": "https://localhost:8080/"
        },
        "id": "BhGdnMS9vH1m",
        "outputId": "30ea0be0-351d-460e-cec0-afe14a3e6cb2"
      },
      "outputs": [
        {
          "output_type": "stream",
          "name": "stdout",
          "text": [
            "(16487, 300, 150)\n"
          ]
        }
      ],
      "source": [
        "print(x_test_CS.shape)"
      ]
    },
    {
      "cell_type": "code",
      "execution_count": null,
      "metadata": {
        "colab": {
          "base_uri": "https://localhost:8080/"
        },
        "id": "nHv-h3zNwTtk",
        "outputId": "5d70fcce-0eb4-4647-f462-ca0dd011c728"
      },
      "outputs": [
        {
          "output_type": "stream",
          "name": "stdout",
          "text": [
            "(16487, 60)\n"
          ]
        }
      ],
      "source": [
        "print(y_test_CS.shape)"
      ]
    },
    {
      "cell_type": "code",
      "execution_count": null,
      "metadata": {
        "colab": {
          "base_uri": "https://localhost:8080/"
        },
        "id": "RRnRhPtkvH1l",
        "outputId": "30a47e5c-2778-4c5a-8f78-49d33746b6a8"
      },
      "outputs": [
        {
          "output_type": "stream",
          "name": "stdout",
          "text": [
            "(35763, 300, 150)\n"
          ]
        }
      ],
      "source": [
        "print(x_train_CV.shape)"
      ]
    },
    {
      "cell_type": "code",
      "execution_count": null,
      "metadata": {
        "colab": {
          "base_uri": "https://localhost:8080/"
        },
        "id": "NV1eFZO0vnKs",
        "outputId": "9e5db854-59d6-41ab-cfe8-641253cddd4b"
      },
      "outputs": [
        {
          "output_type": "stream",
          "name": "stdout",
          "text": [
            "(35763, 60)\n"
          ]
        }
      ],
      "source": [
        "print(y_train_CV.shape)"
      ]
    },
    {
      "cell_type": "code",
      "execution_count": null,
      "metadata": {
        "colab": {
          "base_uri": "https://localhost:8080/"
        },
        "id": "_ke5uMEawABY",
        "outputId": "2a28da59-6156-4731-c84e-b77855ee6783"
      },
      "outputs": [
        {
          "output_type": "stream",
          "name": "stdout",
          "text": [
            "(1883, 300, 150)\n"
          ]
        }
      ],
      "source": [
        "print(x_valid_CV.shape)"
      ]
    },
    {
      "cell_type": "code",
      "execution_count": null,
      "metadata": {
        "colab": {
          "base_uri": "https://localhost:8080/"
        },
        "id": "24QIYHRdwBMW",
        "outputId": "a7996423-5f35-4ac0-d4d4-053ac4006017"
      },
      "outputs": [
        {
          "output_type": "stream",
          "name": "stdout",
          "text": [
            "(1883, 60)\n"
          ]
        }
      ],
      "source": [
        "print(y_valid_CV.shape)"
      ]
    },
    {
      "cell_type": "code",
      "execution_count": null,
      "metadata": {
        "colab": {
          "base_uri": "https://localhost:8080/"
        },
        "id": "uJNy30yuvbh6",
        "outputId": "165c95fd-c11d-40c1-e6e9-9391af2a6a56"
      },
      "outputs": [
        {
          "output_type": "stream",
          "name": "stdout",
          "text": [
            "(18932, 300, 150)\n"
          ]
        }
      ],
      "source": [
        "print(x_test_CV.shape)"
      ]
    },
    {
      "cell_type": "code",
      "execution_count": null,
      "metadata": {
        "colab": {
          "base_uri": "https://localhost:8080/"
        },
        "id": "rynjwSPHwmYi",
        "outputId": "81c41ed5-44e6-4c81-9596-7f73bfcfd6f0"
      },
      "outputs": [
        {
          "output_type": "stream",
          "name": "stdout",
          "text": [
            "(18932, 60)\n"
          ]
        }
      ],
      "source": [
        "print(y_test_CV.shape)"
      ]
    },
    {
      "cell_type": "code",
      "execution_count": null,
      "metadata": {
        "id": "LDoDTAl1w4t6"
      },
      "outputs": [],
      "source": [
        "x_train_CS = np.reshape(x_train_CS, (38086, 300, 150))\n"
      ]
    },
    {
      "cell_type": "code",
      "execution_count": null,
      "metadata": {
        "id": "d963S0JCynH-"
      },
      "outputs": [],
      "source": [
        "x_valid_CS = np.reshape(x_valid_CS, (2005, 300, 150))"
      ]
    },
    {
      "cell_type": "code",
      "execution_count": null,
      "metadata": {
        "id": "wxrXpGHoyn1B"
      },
      "outputs": [],
      "source": [
        "x_test_CS = np.reshape(x_test_CS, (16487,1, 300, 150))"
      ]
    },
    {
      "cell_type": "code",
      "execution_count": null,
      "metadata": {
        "id": "W6MWmuZp0DWw"
      },
      "outputs": [],
      "source": []
    },
    {
      "cell_type": "code",
      "execution_count": null,
      "metadata": {
        "id": "6oO_ycwpl4Cy"
      },
      "outputs": [],
      "source": [
        "# Define the Part-Aware LSTM model\n",
        "num_classes = 60  # Assuming there are 60 action classes\n",
        "model2_CS = ResNet50_with_attention(input_shape, num_classes)\n"
      ]
    },
    {
      "cell_type": "code",
      "execution_count": null,
      "metadata": {
        "id": "-TUBRGf7mWX7"
      },
      "outputs": [],
      "source": [
        "# Compile the model\n",
        "model2_CS.compile(optimizer='adam', loss='categorical_crossentropy', metrics=['accuracy'])\n"
      ]
    },
    {
      "cell_type": "code",
      "execution_count": null,
      "metadata": {
        "id": "M4A4gSrnFEhI"
      },
      "outputs": [],
      "source": [
        "# Train the model\n",
        "#multi_cnn_model_CS.fit(x_train_CS, y_train_CS, validation_data=(x_valid_CS, y_valid_CS), epochs=150, batch_size=32)\n"
      ]
    },
    {
      "cell_type": "code",
      "execution_count": null,
      "metadata": {
        "colab": {
          "base_uri": "https://localhost:8080/",
          "height": 1000
        },
        "id": "NxJGPBnHFGUP",
        "outputId": "246d3127-0ee4-44e7-cdd0-0a5f4025a4ee"
      },
      "outputs": [
        {
          "output_type": "stream",
          "name": "stdout",
          "text": [
            "Epoch 1/100\n",
            "1191/1191 [==============================] - 170s 98ms/step - loss: 2.4002 - accuracy: 0.3230 - val_loss: 1.5970 - val_accuracy: 0.5107\n",
            "Epoch 2/100\n",
            "1191/1191 [==============================] - 112s 94ms/step - loss: 1.4399 - accuracy: 0.5552 - val_loss: 1.3144 - val_accuracy: 0.5925\n",
            "Epoch 3/100\n",
            "1191/1191 [==============================] - 112s 94ms/step - loss: 1.1665 - accuracy: 0.6353 - val_loss: 1.1479 - val_accuracy: 0.6434\n",
            "Epoch 4/100\n",
            "1191/1191 [==============================] - 112s 94ms/step - loss: 1.0154 - accuracy: 0.6785 - val_loss: 0.9906 - val_accuracy: 0.6868\n",
            "Epoch 5/100\n",
            "1191/1191 [==============================] - 112s 94ms/step - loss: 0.8847 - accuracy: 0.7159 - val_loss: 1.2026 - val_accuracy: 0.6469\n",
            "Epoch 6/100\n",
            "1191/1191 [==============================] - 112s 94ms/step - loss: 0.7868 - accuracy: 0.7475 - val_loss: 0.8697 - val_accuracy: 0.7277\n",
            "Epoch 7/100\n",
            "1191/1191 [==============================] - 112s 94ms/step - loss: 0.6997 - accuracy: 0.7731 - val_loss: 0.8336 - val_accuracy: 0.7382\n",
            "Epoch 8/100\n",
            "1191/1191 [==============================] - 112s 94ms/step - loss: 0.6177 - accuracy: 0.7967 - val_loss: 0.7478 - val_accuracy: 0.7766\n",
            "Epoch 9/100\n",
            "1191/1191 [==============================] - 112s 94ms/step - loss: 0.5411 - accuracy: 0.8207 - val_loss: 0.8828 - val_accuracy: 0.7377\n",
            "Epoch 10/100\n",
            "1191/1191 [==============================] - 112s 94ms/step - loss: 0.4693 - accuracy: 0.8420 - val_loss: 0.6958 - val_accuracy: 0.7865\n",
            "Epoch 11/100\n",
            "1191/1191 [==============================] - 112s 94ms/step - loss: 0.4029 - accuracy: 0.8659 - val_loss: 0.6872 - val_accuracy: 0.8035\n",
            "Epoch 12/100\n",
            "1191/1191 [==============================] - 112s 94ms/step - loss: 0.3457 - accuracy: 0.8829 - val_loss: 0.7424 - val_accuracy: 0.7870\n",
            "Epoch 13/100\n",
            "1191/1191 [==============================] - 112s 94ms/step - loss: 0.2915 - accuracy: 0.9001 - val_loss: 0.6888 - val_accuracy: 0.8060\n",
            "Epoch 14/100\n",
            "1191/1191 [==============================] - 112s 94ms/step - loss: 0.2527 - accuracy: 0.9132 - val_loss: 0.7355 - val_accuracy: 0.7920\n",
            "Epoch 15/100\n",
            "1191/1191 [==============================] - 113s 95ms/step - loss: 0.2103 - accuracy: 0.9269 - val_loss: 0.8004 - val_accuracy: 0.8110\n",
            "Epoch 16/100\n",
            "1191/1191 [==============================] - 113s 95ms/step - loss: 0.1844 - accuracy: 0.9355 - val_loss: 0.7656 - val_accuracy: 0.8160\n",
            "Epoch 17/100\n",
            "1191/1191 [==============================] - 113s 94ms/step - loss: 0.1586 - accuracy: 0.9463 - val_loss: 0.7507 - val_accuracy: 0.8229\n",
            "Epoch 18/100\n",
            "1191/1191 [==============================] - 112s 94ms/step - loss: 0.1426 - accuracy: 0.9496 - val_loss: 0.8653 - val_accuracy: 0.7900\n",
            "Epoch 19/100\n",
            "1191/1191 [==============================] - 112s 94ms/step - loss: 0.1249 - accuracy: 0.9567 - val_loss: 0.8154 - val_accuracy: 0.8070\n",
            "Epoch 20/100\n",
            "1191/1191 [==============================] - 112s 94ms/step - loss: 0.1144 - accuracy: 0.9598 - val_loss: 0.8563 - val_accuracy: 0.8175\n",
            "Epoch 21/100\n",
            "1191/1191 [==============================] - 112s 94ms/step - loss: 0.1094 - accuracy: 0.9625 - val_loss: 0.8210 - val_accuracy: 0.8269\n",
            "Epoch 22/100\n",
            "1191/1191 [==============================] - 112s 94ms/step - loss: 0.0975 - accuracy: 0.9664 - val_loss: 0.8491 - val_accuracy: 0.8239\n",
            "Epoch 23/100\n",
            "1191/1191 [==============================] - 112s 94ms/step - loss: 0.0917 - accuracy: 0.9688 - val_loss: 0.8626 - val_accuracy: 0.8254\n",
            "Epoch 24/100\n",
            "1191/1191 [==============================] - 112s 94ms/step - loss: 0.0898 - accuracy: 0.9694 - val_loss: 0.8565 - val_accuracy: 0.8254\n",
            "Epoch 25/100\n",
            "1191/1191 [==============================] - 112s 94ms/step - loss: 0.0750 - accuracy: 0.9751 - val_loss: 0.8912 - val_accuracy: 0.8185\n",
            "Epoch 26/100\n",
            "1191/1191 [==============================] - 112s 94ms/step - loss: 0.0775 - accuracy: 0.9736 - val_loss: 0.8984 - val_accuracy: 0.8150\n",
            "Epoch 27/100\n",
            "1191/1191 [==============================] - 112s 94ms/step - loss: 0.0700 - accuracy: 0.9764 - val_loss: 0.8671 - val_accuracy: 0.8299\n",
            "Epoch 28/100\n",
            "1191/1191 [==============================] - 112s 94ms/step - loss: 0.0658 - accuracy: 0.9782 - val_loss: 0.9508 - val_accuracy: 0.8190\n",
            "Epoch 29/100\n",
            "1191/1191 [==============================] - 112s 94ms/step - loss: 0.0628 - accuracy: 0.9785 - val_loss: 0.9448 - val_accuracy: 0.8180\n",
            "Epoch 30/100\n",
            "1191/1191 [==============================] - 112s 94ms/step - loss: 0.0667 - accuracy: 0.9780 - val_loss: 0.8891 - val_accuracy: 0.8195\n",
            "Epoch 31/100\n",
            "1191/1191 [==============================] - 112s 94ms/step - loss: 0.0565 - accuracy: 0.9806 - val_loss: 0.9882 - val_accuracy: 0.8239\n",
            "Epoch 32/100\n",
            "1191/1191 [==============================] - 112s 94ms/step - loss: 0.0555 - accuracy: 0.9817 - val_loss: 1.0112 - val_accuracy: 0.8135\n",
            "Epoch 33/100\n",
            "1191/1191 [==============================] - 112s 94ms/step - loss: 0.0573 - accuracy: 0.9803 - val_loss: 0.9611 - val_accuracy: 0.8284\n",
            "Epoch 34/100\n",
            "1191/1191 [==============================] - 112s 94ms/step - loss: 0.0517 - accuracy: 0.9825 - val_loss: 0.9319 - val_accuracy: 0.8289\n",
            "Epoch 35/100\n",
            "1191/1191 [==============================] - 112s 94ms/step - loss: 0.0492 - accuracy: 0.9835 - val_loss: 0.8944 - val_accuracy: 0.8324\n",
            "Epoch 36/100\n",
            "1191/1191 [==============================] - 112s 94ms/step - loss: 0.0439 - accuracy: 0.9855 - val_loss: 1.0576 - val_accuracy: 0.8135\n",
            "Epoch 37/100\n",
            "1191/1191 [==============================] - 112s 94ms/step - loss: 0.0486 - accuracy: 0.9841 - val_loss: 0.9416 - val_accuracy: 0.8239\n",
            "Epoch 38/100\n",
            "1191/1191 [==============================] - 113s 95ms/step - loss: 0.0427 - accuracy: 0.9864 - val_loss: 0.9835 - val_accuracy: 0.8279\n",
            "Epoch 39/100\n",
            "1191/1191 [==============================] - 112s 94ms/step - loss: 0.0444 - accuracy: 0.9851 - val_loss: 0.9246 - val_accuracy: 0.8339\n",
            "Epoch 40/100\n",
            "1191/1191 [==============================] - 112s 94ms/step - loss: 0.0442 - accuracy: 0.9854 - val_loss: 0.9880 - val_accuracy: 0.8374\n",
            "Epoch 41/100\n",
            "1191/1191 [==============================] - 112s 94ms/step - loss: 0.0423 - accuracy: 0.9856 - val_loss: 0.9270 - val_accuracy: 0.8449\n",
            "Epoch 42/100\n",
            "1191/1191 [==============================] - 112s 94ms/step - loss: 0.0388 - accuracy: 0.9879 - val_loss: 1.1121 - val_accuracy: 0.8155\n",
            "Epoch 43/100\n",
            "1191/1191 [==============================] - 112s 94ms/step - loss: 0.0364 - accuracy: 0.9883 - val_loss: 0.9650 - val_accuracy: 0.8374\n",
            "Epoch 44/100\n",
            "1191/1191 [==============================] - 112s 94ms/step - loss: 0.0400 - accuracy: 0.9865 - val_loss: 1.0207 - val_accuracy: 0.8274\n",
            "Epoch 45/100\n",
            "1191/1191 [==============================] - 112s 94ms/step - loss: 0.0360 - accuracy: 0.9884 - val_loss: 1.0083 - val_accuracy: 0.8095\n",
            "Epoch 46/100\n",
            "1191/1191 [==============================] - 112s 94ms/step - loss: 0.0324 - accuracy: 0.9887 - val_loss: 0.9518 - val_accuracy: 0.8384\n",
            "Epoch 47/100\n",
            "1191/1191 [==============================] - 112s 94ms/step - loss: 0.0363 - accuracy: 0.9883 - val_loss: 0.9483 - val_accuracy: 0.8349\n",
            "Epoch 48/100\n",
            "1191/1191 [==============================] - 112s 94ms/step - loss: 0.0352 - accuracy: 0.9883 - val_loss: 1.0453 - val_accuracy: 0.8374\n",
            "Epoch 49/100\n",
            "1191/1191 [==============================] - 112s 94ms/step - loss: 0.0341 - accuracy: 0.9890 - val_loss: 1.0387 - val_accuracy: 0.8244\n",
            "Epoch 50/100\n",
            "1191/1191 [==============================] - 112s 94ms/step - loss: 0.0316 - accuracy: 0.9902 - val_loss: 1.0788 - val_accuracy: 0.8249\n",
            "Epoch 51/100\n",
            "1191/1191 [==============================] - 112s 94ms/step - loss: 0.0350 - accuracy: 0.9886 - val_loss: 1.0388 - val_accuracy: 0.8284\n",
            "Epoch 52/100\n",
            "1191/1191 [==============================] - 112s 94ms/step - loss: 0.0285 - accuracy: 0.9913 - val_loss: 1.0700 - val_accuracy: 0.8344\n",
            "Epoch 53/100\n",
            "1191/1191 [==============================] - 112s 94ms/step - loss: 0.0326 - accuracy: 0.9898 - val_loss: 1.1152 - val_accuracy: 0.8254\n",
            "Epoch 54/100\n",
            "1191/1191 [==============================] - 112s 94ms/step - loss: 0.0293 - accuracy: 0.9901 - val_loss: 1.0649 - val_accuracy: 0.8229\n",
            "Epoch 55/100\n",
            "1191/1191 [==============================] - 112s 94ms/step - loss: 0.0279 - accuracy: 0.9905 - val_loss: 1.1487 - val_accuracy: 0.8214\n",
            "Epoch 56/100\n",
            "1191/1191 [==============================] - 112s 94ms/step - loss: 0.0331 - accuracy: 0.9895 - val_loss: 1.0513 - val_accuracy: 0.8284\n",
            "Epoch 57/100\n",
            "1191/1191 [==============================] - 112s 94ms/step - loss: 0.0282 - accuracy: 0.9912 - val_loss: 1.0857 - val_accuracy: 0.8324\n",
            "Epoch 58/100\n",
            "1191/1191 [==============================] - 112s 94ms/step - loss: 0.0282 - accuracy: 0.9907 - val_loss: 1.1949 - val_accuracy: 0.8274\n",
            "Epoch 59/100\n",
            "1191/1191 [==============================] - 112s 94ms/step - loss: 0.0264 - accuracy: 0.9912 - val_loss: 1.1291 - val_accuracy: 0.8254\n",
            "Epoch 60/100\n",
            "1191/1191 [==============================] - 112s 94ms/step - loss: 0.0237 - accuracy: 0.9922 - val_loss: 1.1387 - val_accuracy: 0.8339\n",
            "Epoch 61/100\n",
            "1191/1191 [==============================] - 112s 94ms/step - loss: 0.0313 - accuracy: 0.9898 - val_loss: 1.0386 - val_accuracy: 0.8464\n",
            "Epoch 62/100\n",
            "1191/1191 [==============================] - 112s 94ms/step - loss: 0.0273 - accuracy: 0.9909 - val_loss: 1.0758 - val_accuracy: 0.8190\n",
            "Epoch 63/100\n",
            "1191/1191 [==============================] - 112s 94ms/step - loss: 0.0250 - accuracy: 0.9920 - val_loss: 1.1169 - val_accuracy: 0.8334\n",
            "Epoch 64/100\n",
            "1191/1191 [==============================] - 112s 94ms/step - loss: 0.0280 - accuracy: 0.9914 - val_loss: 1.0800 - val_accuracy: 0.8334\n",
            "Epoch 65/100\n",
            "1191/1191 [==============================] - 112s 94ms/step - loss: 0.0225 - accuracy: 0.9920 - val_loss: 1.3037 - val_accuracy: 0.8130\n",
            "Epoch 66/100\n",
            "1191/1191 [==============================] - 112s 94ms/step - loss: 0.0258 - accuracy: 0.9920 - val_loss: 1.0394 - val_accuracy: 0.8369\n",
            "Epoch 67/100\n",
            "1191/1191 [==============================] - 112s 94ms/step - loss: 0.0244 - accuracy: 0.9926 - val_loss: 1.0860 - val_accuracy: 0.8374\n",
            "Epoch 68/100\n",
            "1191/1191 [==============================] - 112s 94ms/step - loss: 0.0269 - accuracy: 0.9915 - val_loss: 1.1628 - val_accuracy: 0.8434\n",
            "Epoch 69/100\n",
            "1191/1191 [==============================] - 112s 94ms/step - loss: 0.0195 - accuracy: 0.9943 - val_loss: 1.1146 - val_accuracy: 0.8319\n",
            "Epoch 70/100\n",
            "1191/1191 [==============================] - 112s 94ms/step - loss: 0.0234 - accuracy: 0.9925 - val_loss: 1.2075 - val_accuracy: 0.8394\n",
            "Epoch 71/100\n",
            "1191/1191 [==============================] - 112s 94ms/step - loss: 0.0293 - accuracy: 0.9906 - val_loss: 1.1331 - val_accuracy: 0.8359\n",
            "Epoch 72/100\n",
            "1191/1191 [==============================] - 112s 94ms/step - loss: 0.0193 - accuracy: 0.9935 - val_loss: 1.0820 - val_accuracy: 0.8364\n",
            "Epoch 73/100\n",
            "1191/1191 [==============================] - 112s 94ms/step - loss: 0.0162 - accuracy: 0.9949 - val_loss: 1.1681 - val_accuracy: 0.8214\n",
            "Epoch 74/100\n",
            "1191/1191 [==============================] - 112s 94ms/step - loss: 0.0265 - accuracy: 0.9920 - val_loss: 1.0980 - val_accuracy: 0.8409\n",
            "Epoch 75/100\n",
            "1191/1191 [==============================] - 112s 94ms/step - loss: 0.0215 - accuracy: 0.9929 - val_loss: 1.0822 - val_accuracy: 0.8369\n",
            "Epoch 76/100\n",
            "1191/1191 [==============================] - 112s 94ms/step - loss: 0.0192 - accuracy: 0.9939 - val_loss: 1.1206 - val_accuracy: 0.8414\n",
            "Epoch 77/100\n",
            "1191/1191 [==============================] - 112s 94ms/step - loss: 0.0233 - accuracy: 0.9927 - val_loss: 1.0911 - val_accuracy: 0.8344\n",
            "Epoch 78/100\n",
            "1191/1191 [==============================] - 112s 94ms/step - loss: 0.0205 - accuracy: 0.9936 - val_loss: 1.1716 - val_accuracy: 0.8394\n",
            "Epoch 79/100\n",
            "1191/1191 [==============================] - 112s 94ms/step - loss: 0.0204 - accuracy: 0.9939 - val_loss: 1.1931 - val_accuracy: 0.8294\n",
            "Epoch 80/100\n",
            "1191/1191 [==============================] - 112s 94ms/step - loss: 0.0209 - accuracy: 0.9932 - val_loss: 1.1750 - val_accuracy: 0.8229\n",
            "Epoch 81/100\n",
            "1191/1191 [==============================] - 112s 94ms/step - loss: 0.0217 - accuracy: 0.9929 - val_loss: 1.2810 - val_accuracy: 0.8294\n",
            "Epoch 82/100\n",
            "1191/1191 [==============================] - 112s 94ms/step - loss: 0.0183 - accuracy: 0.9945 - val_loss: 1.2248 - val_accuracy: 0.8374\n",
            "Epoch 83/100\n",
            "1191/1191 [==============================] - 112s 94ms/step - loss: 0.0181 - accuracy: 0.9949 - val_loss: 1.2029 - val_accuracy: 0.8244\n",
            "Epoch 84/100\n",
            "1191/1191 [==============================] - 112s 94ms/step - loss: 0.0219 - accuracy: 0.9934 - val_loss: 1.1402 - val_accuracy: 0.8409\n",
            "Epoch 85/100\n",
            "1191/1191 [==============================] - 112s 94ms/step - loss: 0.0173 - accuracy: 0.9945 - val_loss: 1.1957 - val_accuracy: 0.8254\n",
            "Epoch 86/100\n",
            "1191/1191 [==============================] - 112s 94ms/step - loss: 0.0172 - accuracy: 0.9947 - val_loss: 1.1727 - val_accuracy: 0.8344\n",
            "Epoch 87/100\n",
            "1191/1191 [==============================] - 112s 94ms/step - loss: 0.0210 - accuracy: 0.9933 - val_loss: 1.2364 - val_accuracy: 0.8364\n",
            "Epoch 88/100\n",
            "1191/1191 [==============================] - 112s 94ms/step - loss: 0.0183 - accuracy: 0.9942 - val_loss: 1.2007 - val_accuracy: 0.8219\n",
            "Epoch 89/100\n",
            "1191/1191 [==============================] - 112s 94ms/step - loss: 0.0205 - accuracy: 0.9931 - val_loss: 1.1534 - val_accuracy: 0.8344\n",
            "Epoch 90/100\n",
            "1191/1191 [==============================] - 112s 94ms/step - loss: 0.0147 - accuracy: 0.9954 - val_loss: 1.2050 - val_accuracy: 0.8344\n",
            "Epoch 91/100\n",
            "1191/1191 [==============================] - 112s 94ms/step - loss: 0.0189 - accuracy: 0.9941 - val_loss: 1.1139 - val_accuracy: 0.8369\n",
            "Epoch 92/100\n",
            "1191/1191 [==============================] - 112s 94ms/step - loss: 0.0176 - accuracy: 0.9948 - val_loss: 1.2492 - val_accuracy: 0.8464\n",
            "Epoch 93/100\n",
            "1191/1191 [==============================] - 112s 94ms/step - loss: 0.0187 - accuracy: 0.9938 - val_loss: 1.2359 - val_accuracy: 0.8289\n",
            "Epoch 94/100\n",
            "1191/1191 [==============================] - 112s 94ms/step - loss: 0.0164 - accuracy: 0.9950 - val_loss: 1.3226 - val_accuracy: 0.8349\n",
            "Epoch 95/100\n",
            "1191/1191 [==============================] - 113s 94ms/step - loss: 0.0188 - accuracy: 0.9935 - val_loss: 1.2408 - val_accuracy: 0.8319\n",
            "Epoch 96/100\n",
            "1191/1191 [==============================] - 113s 95ms/step - loss: 0.0144 - accuracy: 0.9955 - val_loss: 1.3212 - val_accuracy: 0.8309\n",
            "Epoch 97/100\n",
            "1191/1191 [==============================] - 113s 95ms/step - loss: 0.0162 - accuracy: 0.9946 - val_loss: 1.3404 - val_accuracy: 0.8319\n",
            "Epoch 98/100\n",
            "1191/1191 [==============================] - 113s 95ms/step - loss: 0.0162 - accuracy: 0.9950 - val_loss: 1.3314 - val_accuracy: 0.8175\n",
            "Epoch 99/100\n",
            "1191/1191 [==============================] - 113s 95ms/step - loss: 0.0166 - accuracy: 0.9947 - val_loss: 1.2568 - val_accuracy: 0.8334\n",
            "Epoch 100/100\n",
            "1191/1191 [==============================] - 112s 94ms/step - loss: 0.0173 - accuracy: 0.9947 - val_loss: 1.2172 - val_accuracy: 0.8389\n"
          ]
        },
        {
          "output_type": "display_data",
          "data": {
            "text/plain": [
              "<Figure size 640x480 with 1 Axes>"
            ],
            "image/png": "[encoded data removed]"
          },
          "metadata": {}
        }
      ],
      "source": [
        "import matplotlib.pyplot as plt\n",
        "\n",
        "# Assuming you have already trained your model and have a `history` object\n",
        "history = model2_CS.fit(x_train_CS, y_train_CS, epochs=100, batch_size=32, validation_data=(x_valid_CS, y_valid_CS))\n",
        "\n",
        "# Plot training vs validation accuracy\n",
        "plt.plot(history.history['accuracy'], label='Training Accuracy')\n",
        "plt.plot(history.history['val_accuracy'], label='Validation Accuracy')\n",
        "plt.xlabel('Epoch')\n",
        "plt.ylabel('Accuracy')\n",
        "plt.title('Training vs Validation Accuracy')\n",
        "plt.legend()\n",
        "plt.show()"
      ]
    },
    {
      "cell_type": "code",
      "source": [],
      "metadata": {
        "id": "AOBPEYd8ZMZ6"
      },
      "execution_count": null,
      "outputs": []
    },
    {
      "cell_type": "code",
      "execution_count": null,
      "metadata": {
        "id": "x0lfD9U7vyvn"
      },
      "outputs": [],
      "source": [
        "x_test_CS = np.reshape(x_test_CS, (16487, 300, 150, 1))"
      ]
    },
    {
      "cell_type": "code",
      "execution_count": null,
      "metadata": {
        "id": "fOpw0QYSlU-v",
        "colab": {
          "base_uri": "https://localhost:8080/"
        },
        "outputId": "680fd194-05d3-4d29-954f-bdda1ff45374"
      },
      "outputs": [
        {
          "output_type": "stream",
          "name": "stdout",
          "text": [
            "516/516 [==============================] - 14s 24ms/step\n"
          ]
        }
      ],
      "source": [
        "# Predict classes using the test data\n",
        "predictions_CS = model2_CS.predict(x_test_CS)\n",
        "predicted_classes_CS = np.argmax(predictions_CS, axis=1)\n"
      ]
    },
    {
      "cell_type": "code",
      "execution_count": null,
      "metadata": {
        "id": "IKmlrerGpcIT"
      },
      "outputs": [],
      "source": [
        "# True classes\n",
        "true_classes_CS = np.argmax(y_test_CS, axis=1)"
      ]
    },
    {
      "cell_type": "code",
      "execution_count": null,
      "metadata": {
        "id": "du-sLoWmlltc",
        "colab": {
          "base_uri": "https://localhost:8080/"
        },
        "outputId": "40cf3a51-5477-453d-ce2f-100173574314"
      },
      "outputs": [
        {
          "output_type": "stream",
          "name": "stdout",
          "text": [
            "Accuracy (CS): 0.7101352580821253\n"
          ]
        }
      ],
      "source": [
        "# Compare predicted classes with true classes and calculate accuracy\n",
        "accuracy_CS = np.mean(predicted_classes_CS == true_classes_CS)\n",
        "print(\"Accuracy (CS):\", accuracy_CS)"
      ]
    },
    {
      "cell_type": "code",
      "execution_count": null,
      "metadata": {
        "id": "9oCPIjf4lovn",
        "colab": {
          "base_uri": "https://localhost:8080/"
        },
        "outputId": "10259d2f-8e3f-4063-b234-af88bf4a0cf4"
      },
      "outputs": [
        {
          "output_type": "stream",
          "name": "stdout",
          "text": [
            "Predicted Classes (CS): [ 0  1  2  3 42  5  6  7  8 33]\n",
            "True Classes (CS): [0 1 2 3 4 5 6 7 8 9]\n"
          ]
        }
      ],
      "source": [
        "# Print some of the predicted and true classes\n",
        "print(\"Predicted Classes (CS):\", predicted_classes_CS[:10])\n",
        "print(\"True Classes (CS):\", true_classes_CS[:10])"
      ]
    },
    {
      "cell_type": "code",
      "source": [
        "import matplotlib.pyplot as plt\n",
        "\n",
        "# Plot training vs validation loss\n",
        "plt.plot(history.history['loss'], label='Training Loss')\n",
        "plt.xlabel('Epoch')\n",
        "plt.ylabel('Loss')\n",
        "plt.title('Training vs Validation Loss')\n",
        "plt.legend()\n",
        "plt.show()\n"
      ],
      "metadata": {
        "id": "fJHX2VGNT_Y8",
        "colab": {
          "base_uri": "https://localhost:8080/",
          "height": 472
        },
        "outputId": "9a34889d-9604-4277-a611-5e6d2bf5b80a"
      },
      "execution_count": null,
      "outputs": [
        {
          "output_type": "display_data",
          "data": {
            "text/plain": [
              "<Figure size 640x480 with 1 Axes>"
            ],
            "image/png": "[encoded data removed]"
          },
          "metadata": {}
        }
      ]
    },
    {
      "cell_type": "markdown",
      "source": [],
      "metadata": {
        "id": "_0bKeo7Hf1Uw"
      }
    },
    {
      "cell_type": "code",
      "source": [
        "model2_CS.save('/content/drive/My Drive/dataset1/my_model_1_cs.keras')"
      ],
      "metadata": {
        "id": "TiD1XTqpM1Sh"
      },
      "execution_count": null,
      "outputs": []
    },
    {
      "cell_type": "code",
      "source": [
        "model2_CS.save('my_model2_cs.keras')"
      ],
      "metadata": {
        "id": "Z6UAr3VfNMy6"
      },
      "execution_count": null,
      "outputs": []
    },
    {
      "cell_type": "code",
      "execution_count": null,
      "metadata": {
        "id": "Q4FChbxACNus"
      },
      "outputs": [],
      "source": [
        "# Train the model\n",
        "#multi_cnn_model_CV.fit(x_train_CV, y_train_CV, validation_data=(x_valid_CV, y_valid_CV), epochs=150, batch_size=32)\n"
      ]
    },
    {
      "cell_type": "code",
      "source": [],
      "metadata": {
        "id": "TF14iNPDMW8g"
      },
      "execution_count": null,
      "outputs": []
    }
  ]
}