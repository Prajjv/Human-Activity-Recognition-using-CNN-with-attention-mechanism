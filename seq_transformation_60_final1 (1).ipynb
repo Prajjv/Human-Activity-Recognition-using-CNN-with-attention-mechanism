{
  "nbformat": 4,
  "nbformat_minor": 0,
  "metadata": {
    "colab": {
      "provenance": []
    },
    "kernelspec": {
      "name": "python3",
      "display_name": "Python 3"
    },
    "language_info": {
      "name": "python"
    }
  },
  "cells": [
    {
      "cell_type": "code",
      "execution_count": 44,
      "metadata": {
        "id": "he-IYbrXSYE0"
      },
      "outputs": [],
      "source": [
        "import os\n",
        "import os.path as osp\n",
        "import numpy as np\n",
        "import pickle\n",
        "import logging\n",
        "import h5py\n",
        "from sklearn.model_selection import train_test_split\n"
      ]
    },
    {
      "cell_type": "code",
      "source": [
        "# Mount Google Drive to access files if necessary\n",
        "from google.colab import drive\n",
        "drive.mount('/content/drive')\n"
      ],
      "metadata": {
        "colab": {
          "base_uri": "https://localhost:8080/"
        },
        "id": "ipYXdpP5SaPb",
        "outputId": "a8db0c55-c4f3-483b-e05f-60d1f54427fb"
      },
      "execution_count": 45,
      "outputs": [
        {
          "output_type": "stream",
          "name": "stdout",
          "text": [
            "Drive already mounted at /content/drive; to attempt to forcibly remount, call drive.mount(\"/content/drive\", force_remount=True).\n"
          ]
        }
      ]
    },
    {
      "cell_type": "code",
      "source": [
        "root_path = '/content/drive/My Drive/dataset/'"
      ],
      "metadata": {
        "id": "Cg0LbOuqScgd"
      },
      "execution_count": 46,
      "outputs": []
    },
    {
      "cell_type": "code",
      "source": [
        "# Modify file paths accordingly\n",
        "stat_path = osp.join(root_path, 'statistics')\n",
        "setup_file = osp.join(stat_path, 'setup60.txt')\n",
        "camera_file = osp.join(stat_path, 'camera60.txt')\n",
        "performer_file = osp.join(stat_path, 'performer60.txt')\n",
        "replication_file = osp.join(stat_path, 'replication60.txt')\n",
        "label_file = osp.join(stat_path, 'label60.txt')\n",
        "skes_name_file = osp.join(stat_path, 'skes_available_name_60.txt')\n",
        "\n",
        "denoised_path = osp.join(root_path, 'denoised_data60')\n",
        "raw_skes_joints_pkl = osp.join(denoised_path, 'raw_denoised_joints.pkl')\n",
        "frames_file = osp.join(denoised_path, 'frames_cnt.txt')\n"
      ],
      "metadata": {
        "id": "f2NVe1X4SifD"
      },
      "execution_count": 47,
      "outputs": []
    },
    {
      "cell_type": "code",
      "source": [
        "save_path = root_path  # Save data in the same location\n"
      ],
      "metadata": {
        "id": "VHuzzaZlSmAi"
      },
      "execution_count": 48,
      "outputs": []
    },
    {
      "cell_type": "code",
      "source": [
        "if not osp.exists(save_path):\n",
        "    os.mkdir(save_path)\n",
        "\n",
        "def remove_nan_frames(ske_name, ske_joints, nan_logger):\n",
        "    num_frames = ske_joints.shape[0]\n",
        "    valid_frames = []\n",
        "\n",
        "    for f in range(num_frames):\n",
        "        if not np.any(np.isnan(ske_joints[f])):\n",
        "            valid_frames.append(f)\n",
        "        else:\n",
        "            nan_indices = np.where(np.isnan(ske_joints[f]))[0]\n",
        "            nan_logger.info('{}\\t{:^5}\\t{}'.format(ske_name, f + 1, nan_indices))\n",
        "\n",
        "    return ske_joints[valid_frames]\n"
      ],
      "metadata": {
        "id": "GYic-ZXnSo5L"
      },
      "execution_count": 49,
      "outputs": []
    },
    {
      "cell_type": "code",
      "source": [
        "def seq_translation(skes_joints):\n",
        "    for idx, ske_joints in enumerate(skes_joints):\n",
        "        num_frames = ske_joints.shape[0]\n",
        "        num_bodies = 1 if ske_joints.shape[1] == 75 else 2\n",
        "        if num_bodies == 2:\n",
        "            missing_frames_1 = np.where(ske_joints[:, :75].sum(axis=1) == 0)[0]\n",
        "            missing_frames_2 = np.where(ske_joints[:, 75:].sum(axis=1) == 0)[0]\n",
        "            cnt1 = len(missing_frames_1)\n",
        "            cnt2 = len(missing_frames_2)\n",
        "\n",
        "        i = 0  # get the \"real\" first frame of actor1\n",
        "        while i < num_frames:\n",
        "            if np.any(ske_joints[i, :75] != 0):\n",
        "                break\n",
        "            i += 1\n",
        "\n",
        "        origin = np.copy(ske_joints[i, 3:6])  # new origin: joint-2\n",
        "\n",
        "        for f in range(num_frames):\n",
        "            if num_bodies == 1:\n",
        "                ske_joints[f] -= np.tile(origin, 25)\n",
        "            else:  # for 2 actors\n",
        "                ske_joints[f] -= np.tile(origin, 50)\n",
        "\n",
        "        if (num_bodies == 2) and (cnt1 > 0):\n",
        "            ske_joints[missing_frames_1, :75] = np.zeros((cnt1, 75), dtype=np.float32)\n",
        "\n",
        "        if (num_bodies == 2) and (cnt2 > 0):\n",
        "            ske_joints[missing_frames_2, 75:] = np.zeros((cnt2, 75), dtype=np.float32)\n",
        "\n",
        "        skes_joints[idx] = ske_joints  # Update\n",
        "\n",
        "    return skes_joints"
      ],
      "metadata": {
        "id": "opLLRmWcSrmE"
      },
      "execution_count": 50,
      "outputs": []
    },
    {
      "cell_type": "code",
      "source": [
        "def frame_translation(skes_joints, skes_name, frames_cnt):\n",
        "    nan_logger = logging.getLogger('nan_skes')\n",
        "    nan_logger.setLevel(logging.INFO)\n",
        "    nan_logger.addHandler(logging.FileHandler(osp.join(save_path, \"nan_frames.log\")))\n",
        "    nan_logger.info('{}\\t{}\\t{}'.format('Skeleton', 'Frame', 'Joints'))\n",
        "\n",
        "    for idx, ske_joints in enumerate(skes_joints):\n",
        "        num_frames = ske_joints.shape[0]\n",
        "        # Calculate the distance between spine base (joint-1) and spine (joint-21)\n",
        "        j1 = ske_joints[:, 0:3]\n",
        "        j21 = ske_joints[:, 60:63]\n",
        "        dist = np.sqrt(((j1 - j21) ** 2).sum(axis=1))\n",
        "\n",
        "        for f in range(num_frames):\n",
        "            origin = ske_joints[f, 3:6]  # new origin: middle of the spine (joint-2)\n",
        "            if (ske_joints[f, 75:] == 0).all():\n",
        "                ske_joints[f, :75] = (ske_joints[f, :75] - np.tile(origin, 25)) / \\\n",
        "                                      dist[f] + np.tile(origin, 25)\n",
        "            else:\n",
        "                ske_joints[f] = (ske_joints[f] - np.tile(origin, 50)) / \\\n",
        "                                 dist[f] + np.tile(origin, 50)\n",
        "\n",
        "        ske_name = skes_name[idx]\n",
        "        ske_joints = remove_nan_frames(ske_name, ske_joints, nan_logger)\n",
        "        frames_cnt[idx] = num_frames  # update valid number of frames\n",
        "        skes_joints[idx] = ske_joints\n",
        "\n",
        "    return skes_joints, frames_cnt\n"
      ],
      "metadata": {
        "id": "6diKMx_7Svmd"
      },
      "execution_count": 51,
      "outputs": []
    },
    {
      "cell_type": "code",
      "source": [
        "def align_frames(skes_joints, frames_cnt):\n",
        "    \"\"\"\n",
        "    Align all sequences with the same frame length.\n",
        "\n",
        "    \"\"\"\n",
        "    num_skes = len(skes_joints)\n",
        "    max_num_frames = frames_cnt.max()  # 300\n",
        "    aligned_skes_joints = np.zeros((num_skes, max_num_frames, 150), dtype=np.float32)\n",
        "\n",
        "    for idx, ske_joints in enumerate(skes_joints):\n",
        "        num_frames = ske_joints.shape[0]\n",
        "        num_bodies = 1 if ske_joints.shape[1] == 75 else 2\n",
        "        if num_bodies == 1:\n",
        "            aligned_skes_joints[idx, :num_frames] = np.hstack((ske_joints,\n",
        "                                                               np.zeros_like(ske_joints)))\n",
        "        else:\n",
        "            aligned_skes_joints[idx, :num_frames] = ske_joints\n",
        "\n",
        "    return aligned_skes_joints\n"
      ],
      "metadata": {
        "id": "hgJYVHi2SzLH"
      },
      "execution_count": 52,
      "outputs": []
    },
    {
      "cell_type": "code",
      "source": [
        "def one_hot_vector(labels):\n",
        "    num_skes = len(labels)\n",
        "    labels_vector = np.zeros((num_skes, 60))\n",
        "    for idx, l in enumerate(labels):\n",
        "        labels_vector[idx, l] = 1\n",
        "\n",
        "    return labels_vector\n"
      ],
      "metadata": {
        "id": "QUXGjhWuS13h"
      },
      "execution_count": 53,
      "outputs": []
    },
    {
      "cell_type": "code",
      "source": [
        "def split_train_val(train_indices, method='sklearn', ratio=0.05):\n",
        "    \"\"\"\n",
        "    Get validation set by splitting data randomly from training set with two methods.\n",
        "    In fact, I thought these two methods are equal as they got the same performance.\n",
        "    \"\"\"\n",
        "    if method == 'sklearn':\n",
        "        return train_test_split(train_indices, test_size=ratio, random_state=10000)\n",
        "    else:\n",
        "        np.random.seed(10000)\n",
        "        np.random.shuffle(train_indices)\n",
        "        val_num_skes = int(np.ceil(0.05 * len(train_indices)))\n",
        "        val_indices = train_indices[:val_num_skes]\n",
        "        train_indices = train_indices[val_num_skes:]\n",
        "        return train_indices, val_indices"
      ],
      "metadata": {
        "id": "gG1t-SV0S5gV"
      },
      "execution_count": 54,
      "outputs": []
    },
    {
      "cell_type": "code",
      "source": [
        "def split_dataset(skes_joints, label, performer, camera, evaluation, save_path):\n",
        "\n",
        "    train_indices, test_indices = get_indices(performer, camera, evaluation)\n",
        "    m = 'sklearn'  # 'sklearn' or 'numpy'\n",
        "    # Select validation set from training set\n",
        "    train_indices, val_indices = split_train_val(train_indices, m)\n",
        "\n",
        "    # Save labels and num_frames for each sequence of each data set\n",
        "    train_labels = label[train_indices]\n",
        "    val_labels = label[val_indices]\n",
        "    test_labels = label[test_indices]\n",
        "\n",
        "    # Save data into a .h5 file\n",
        "    h5file = h5py.File(osp.join(save_path, 'NTU_%s.h5' % (evaluation)), 'w')\n",
        "    # Training set\n",
        "    h5file.create_dataset('x', data=skes_joints[train_indices])\n",
        "    train_one_hot_labels = one_hot_vector(train_labels)\n",
        "    h5file.create_dataset('y', data=train_one_hot_labels)\n",
        "    # Validation set\n",
        "    h5file.create_dataset('valid_x', data=skes_joints[val_indices])\n",
        "    val_one_hot_labels = one_hot_vector(val_labels)\n",
        "    h5file.create_dataset('valid_y', data=val_one_hot_labels)\n",
        "    # Test set\n",
        "    h5file.create_dataset('test_x', data=skes_joints[test_indices])\n",
        "    test_one_hot_labels = one_hot_vector(test_labels)\n",
        "    h5file.create_dataset('test_y', data=test_one_hot_labels)\n",
        "\n",
        "    h5file.close()\n"
      ],
      "metadata": {
        "id": "N52g0eI6TxfJ"
      },
      "execution_count": 55,
      "outputs": []
    },
    {
      "cell_type": "code",
      "source": [
        "def get_indices(performer, camera, evaluation='CS'):\n",
        "    test_indices = np.empty(0)\n",
        "    train_indices = np.empty(0)\n",
        "\n",
        "    if evaluation == 'CS':  # Cross Subject (Subject IDs)\n",
        "        train_ids = [1,  2,  4,  5,  8,  9,  13, 14, 15, 16,\n",
        "                     17, 18, 19, 25, 27, 28, 31, 34, 35, 38]\n",
        "        test_ids = [3,  6,  7,  10, 11, 12, 20, 21, 22, 23,\n",
        "                    24, 26, 29, 30, 32, 33, 36, 37, 39, 40]\n",
        "\n",
        "        # Get indices of test data\n",
        "        for idx in test_ids:\n",
        "            temp = np.where(performer == idx)[0]  # 0-based index\n",
        "            test_indices = np.hstack((test_indices, temp)).astype(int)\n",
        "\n",
        "        # Get indices of training data\n",
        "        for train_id in train_ids:\n",
        "            temp = np.where(performer == train_id)[0]  # 0-based index\n",
        "            train_indices = np.hstack((train_indices, temp)).astype(int)\n",
        "    else:  # Cross View (Camera IDs)\n",
        "        train_ids = [2, 3]\n",
        "        test_ids = 1\n",
        "        # Get indices of test data\n",
        "        temp = np.where(camera == test_ids)[0]  # 0-based index\n",
        "        test_indices = np.hstack((test_indices, temp)).astype(int)\n",
        "\n",
        "        # Get indices of training data\n",
        "        for train_id in train_ids:\n",
        "            temp = np.where(camera == train_id)[0]  # 0-based index\n",
        "            train_indices = np.hstack((train_indices, temp)).astype(int)\n",
        "\n",
        "    print(train_indices)\n",
        "\n",
        "    return train_indices, test_indices\n",
        "\n",
        "\n",
        "if __name__ == '__main__':\n",
        "    camera = np.loadtxt(camera_file, dtype=int)  # camera id: 1, 2, 3\n",
        "    performer = np.loadtxt(performer_file, dtype=int)  # subject id: 1~40\n",
        "    label = np.loadtxt(label_file, dtype=int) - 1  # action label: 0~59\n",
        "\n",
        "    frames_cnt = np.loadtxt(frames_file, dtype=int)  # frames_cnt\n",
        "    skes_name = np.loadtxt(skes_name_file, dtype=np.string_)\n",
        "\n",
        "    with open(raw_skes_joints_pkl, 'rb') as fr:\n",
        "        skes_joints = pickle.load(fr)  # a list\n",
        "\n",
        "    skes_joints = seq_translation(skes_joints)\n",
        "\n",
        "    skes_joints = align_frames(skes_joints, frames_cnt)  # aligned to the same frame length\n",
        "\n",
        "    evaluations = ['CS', 'CV']\n",
        "    for evaluation in evaluations:\n",
        "        split_dataset(skes_joints, label, performer, camera, evaluation, save_path)"
      ],
      "metadata": {
        "colab": {
          "base_uri": "https://localhost:8080/"
        },
        "id": "qMIjhTKEx5Um",
        "outputId": "1ce3d3e7-9298-4982-bb88-95f3f30d2ef5"
      },
      "execution_count": 56,
      "outputs": [
        {
          "output_type": "stream",
          "name": "stdout",
          "text": [
            "[   0    1    2 ... 2869 2870 2871]\n",
            "[ 960  961  962 ... 2869 2870 2871]\n"
          ]
        }
      ]
    },
    {
      "cell_type": "code",
      "source": [
        "def get_indices(performer, camera, evaluation='CS'):\n",
        "    test_indices = np.empty(0)\n",
        "    train_indices = np.empty(0)\n",
        "\n",
        "    if evaluation == 'CS':  # Cross Subject (Subject IDs)\n",
        "        train_ids = [1,  2,  4,  5,  8,  9,  13, 14, 15, 16,\n",
        "                     17, 18, 19, 25, 27, 28, 31, 34, 35, 38]\n",
        "        test_ids = [3,  6,  7,  10, 11, 12, 20, 21, 22, 23,\n",
        "                    24, 26, 29, 30, 32, 33, 36, 37, 39, 40]\n",
        "\n",
        "        # Get indices of test data\n",
        "        for idx in test_ids:\n",
        "            temp = np.where(performer == idx)[0]  # 0-based index\n",
        "            test_indices = np.hstack((test_indices, temp)).astype(int)\n",
        "\n",
        "        # Get indices of training data\n",
        "        for train_id in train_ids:\n",
        "            temp = np.where(performer == train_id)[0]  # 0-based index\n",
        "            train_indices = np.hstack((train_indices, temp)).astype(int)\n",
        "    else:  # Cross View (Camera IDs)\n",
        "        train_ids = [2, 3]\n",
        "        test_ids = 1\n",
        "        # Get indices of test data\n",
        "        temp = np.where(camera == test_ids)[0]  # 0-based index\n",
        "        test_indices = np.hstack((test_indices, temp)).astype(int)\n",
        "\n",
        "        # Get indices of training data\n",
        "        for train_id in train_ids:\n",
        "            temp = np.where(camera == train_id)[0]  # 0-based index\n",
        "            train_indices = np.hstack((train_indices, temp)).astype(int)\n",
        "    print(\"Train indices:\", train_indices)\n",
        "    print(\"Max train index:\", max(train_indices))\n",
        "    print(\"Test indices:\", test_indices)\n",
        "    print(\"Max test index:\", max(test_indices))\n",
        "    return train_indices, test_indices\n",
        "\n",
        "if __name__ == '__main__':\n",
        "    camera = np.loadtxt(camera_file, dtype=int)  # camera id: 1, 2, 3\n",
        "    performer = np.loadtxt(performer_file, dtype=int)  # subject id: 1~40\n",
        "    label = np.loadtxt(label_file, dtype=int) - 1  # action label: 0~59\n",
        "\n",
        "    frames_cnt = np.loadtxt(frames_file, dtype=int)  # frames_cnt\n",
        "    skes_name = np.loadtxt(skes_name_file, dtype=np.string_)\n",
        "\n",
        "    with open(raw_skes_joints_pkl, 'rb') as fr:\n",
        "        skes_joints = pickle.load(fr)  # a list\n",
        "\n",
        "    skes_joints = seq_translation(skes_joints)\n",
        "\n",
        "    skes_joints = align_frames(skes_joints, frames_cnt)  # aligned to the same frame length\n",
        "\n",
        "    evaluations = ['CS', 'CV']\n",
        "    for evaluation in evaluations:\n",
        "        split_dataset(skes_joints, label, performer, camera, evaluation, save_path)"
      ],
      "metadata": {
        "colab": {
          "base_uri": "https://localhost:8080/"
        },
        "id": "sjz8LcMcT7g1",
        "outputId": "fa4704a1-b411-4027-9fe1-dde510505e61"
      },
      "execution_count": 57,
      "outputs": [
        {
          "output_type": "stream",
          "name": "stdout",
          "text": [
            "Train indices: [   0    1    2 ... 2869 2870 2871]\n",
            "Max train index: 2871\n",
            "Test indices: [ 240  241  242 ... 2749 2750 2751]\n",
            "Max test index: 2751\n",
            "Train indices: [ 960  961  962 ... 2869 2870 2871]\n",
            "Max train index: 2871\n",
            "Test indices: [  0   1   2   3   4   5   6   7   8   9  10  11  12  13  14  15  16  17\n",
            "  18  19  20  21  22  23  24  25  26  27  28  29  30  31  32  33  34  35\n",
            "  36  37  38  39  40  41  42  43  44  45  46  47  48  49  50  51  52  53\n",
            "  54  55  56  57  58  59  60  61  62  63  64  65  66  67  68  69  70  71\n",
            "  72  73  74  75  76  77  78  79  80  81  82  83  84  85  86  87  88  89\n",
            "  90  91  92  93  94  95  96  97  98  99 100 101 102 103 104 105 106 107\n",
            " 108 109 110 111 112 113 114 115 116 117 118 119 120 121 122 123 124 125\n",
            " 126 127 128 129 130 131 132 133 134 135 136 137 138 139 140 141 142 143\n",
            " 144 145 146 147 148 149 150 151 152 153 154 155 156 157 158 159 160 161\n",
            " 162 163 164 165 166 167 168 169 170 171 172 173 174 175 176 177 178 179\n",
            " 180 181 182 183 184 185 186 187 188 189 190 191 192 193 194 195 196 197\n",
            " 198 199 200 201 202 203 204 205 206 207 208 209 210 211 212 213 214 215\n",
            " 216 217 218 219 220 221 222 223 224 225 226 227 228 229 230 231 232 233\n",
            " 234 235 236 237 238 239 240 241 242 243 244 245 246 247 248 249 250 251\n",
            " 252 253 254 255 256 257 258 259 260 261 262 263 264 265 266 267 268 269\n",
            " 270 271 272 273 274 275 276 277 278 279 280 281 282 283 284 285 286 287\n",
            " 288 289 290 291 292 293 294 295 296 297 298 299 300 301 302 303 304 305\n",
            " 306 307 308 309 310 311 312 313 314 315 316 317 318 319 320 321 322 323\n",
            " 324 325 326 327 328 329 330 331 332 333 334 335 336 337 338 339 340 341\n",
            " 342 343 344 345 346 347 348 349 350 351 352 353 354 355 356 357 358 359\n",
            " 360 361 362 363 364 365 366 367 368 369 370 371 372 373 374 375 376 377\n",
            " 378 379 380 381 382 383 384 385 386 387 388 389 390 391 392 393 394 395\n",
            " 396 397 398 399 400 401 402 403 404 405 406 407 408 409 410 411 412 413\n",
            " 414 415 416 417 418 419 420 421 422 423 424 425 426 427 428 429 430 431\n",
            " 432 433 434 435 436 437 438 439 440 441 442 443 444 445 446 447 448 449\n",
            " 450 451 452 453 454 455 456 457 458 459 460 461 462 463 464 465 466 467\n",
            " 468 469 470 471 472 473 474 475 476 477 478 479 480 481 482 483 484 485\n",
            " 486 487 488 489 490 491 492 493 494 495 496 497 498 499 500 501 502 503\n",
            " 504 505 506 507 508 509 510 511 512 513 514 515 516 517 518 519 520 521\n",
            " 522 523 524 525 526 527 528 529 530 531 532 533 534 535 536 537 538 539\n",
            " 540 541 542 543 544 545 546 547 548 549 550 551 552 553 554 555 556 557\n",
            " 558 559 560 561 562 563 564 565 566 567 568 569 570 571 572 573 574 575\n",
            " 576 577 578 579 580 581 582 583 584 585 586 587 588 589 590 591 592 593\n",
            " 594 595 596 597 598 599 600 601 602 603 604 605 606 607 608 609 610 611\n",
            " 612 613 614 615 616 617 618 619 620 621 622 623 624 625 626 627 628 629\n",
            " 630 631 632 633 634 635 636 637 638 639 640 641 642 643 644 645 646 647\n",
            " 648 649 650 651 652 653 654 655 656 657 658 659 660 661 662 663 664 665\n",
            " 666 667 668 669 670 671 672 673 674 675 676 677 678 679 680 681 682 683\n",
            " 684 685 686 687 688 689 690 691 692 693 694 695 696 697 698 699 700 701\n",
            " 702 703 704 705 706 707 708 709 710 711 712 713 714 715 716 717 718 719\n",
            " 720 721 722 723 724 725 726 727 728 729 730 731 732 733 734 735 736 737\n",
            " 738 739 740 741 742 743 744 745 746 747 748 749 750 751 752 753 754 755\n",
            " 756 757 758 759 760 761 762 763 764 765 766 767 768 769 770 771 772 773\n",
            " 774 775 776 777 778 779 780 781 782 783 784 785 786 787 788 789 790 791\n",
            " 792 793 794 795 796 797 798 799 800 801 802 803 804 805 806 807 808 809\n",
            " 810 811 812 813 814 815 816 817 818 819 820 821 822 823 824 825 826 827\n",
            " 828 829 830 831 832 833 834 835 836 837 838 839 840 841 842 843 844 845\n",
            " 846 847 848 849 850 851 852 853 854 855 856 857 858 859 860 861 862 863\n",
            " 864 865 866 867 868 869 870 871 872 873 874 875 876 877 878 879 880 881\n",
            " 882 883 884 885 886 887 888 889 890 891 892 893 894 895 896 897 898 899\n",
            " 900 901 902 903 904 905 906 907 908 909 910 911 912 913 914 915 916 917\n",
            " 918 919 920 921 922 923 924 925 926 927 928 929 930 931 932 933 934 935\n",
            " 936 937 938 939 940 941 942 943 944 945 946 947 948 949 950 951 952 953\n",
            " 954 955 956 957 958 959]\n",
            "Max test index: 959\n"
          ]
        }
      ]
    },
    {
      "cell_type": "code",
      "source": [
        "print(\"Array size:\", skes_joints.shape[0])\n",
        "print(\"Max valid index:\", skes_joints.shape[0] - 1)\n",
        "\n"
      ],
      "metadata": {
        "colab": {
          "base_uri": "https://localhost:8080/"
        },
        "id": "6koBiUYQbJNR",
        "outputId": "e1e75172-468d-4ba1-e89a-962d394920b6"
      },
      "execution_count": 58,
      "outputs": [
        {
          "output_type": "stream",
          "name": "stdout",
          "text": [
            "Array size: 2872\n",
            "Max valid index: 2871\n"
          ]
        }
      ]
    }
  ]
}