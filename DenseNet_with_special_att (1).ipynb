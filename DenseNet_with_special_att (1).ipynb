{
  "nbformat": 4,
  "nbformat_minor": 0,
  "metadata": {
    "colab": {
      "provenance": [],
      "machine_shape": "hm",
      "gpuType": "L4"
    },
    "kernelspec": {
      "name": "python3",
      "display_name": "Python 3"
    },
    "language_info": {
      "name": "python"
    },
    "accelerator": "GPU"
  },
  "cells": [
    {
      "cell_type": "code",
      "execution_count": null,
      "metadata": {
        "id": "ssNjisJBh7oa"
      },
      "outputs": [],
      "source": [
        "import numpy as np\n",
        "import h5py\n",
        "from sklearn.model_selection import train_test_split\n",
        "from keras.models import Sequential\n",
        "from keras.layers import LSTM, Dense\n",
        "from tensorflow.keras import layers, models\n"
      ]
    },
    {
      "cell_type": "code",
      "execution_count": null,
      "metadata": {
        "id": "f4-xFuMkmYu6"
      },
      "outputs": [],
      "source": [
        "num_classes = 60"
      ]
    },
    {
      "cell_type": "code",
      "execution_count": null,
      "metadata": {
        "id": "gP7QODCvkAGu",
        "colab": {
          "base_uri": "https://localhost:8080/"
        },
        "outputId": "3e783731-931c-47c1-9012-d86c03fe301c"
      },
      "outputs": [
        {
          "output_type": "stream",
          "name": "stdout",
          "text": [
            "Mounted at /content/drive\n"
          ]
        }
      ],
      "source": [
        "# Mount Google Drive to access files if necessary\n",
        "from google.colab import drive\n",
        "drive.mount('/content/drive')\n"
      ]
    },
    {
      "cell_type": "code",
      "execution_count": null,
      "metadata": {
        "id": "WWfi49aVkA0j"
      },
      "outputs": [],
      "source": [
        "# Path to your .h5 file in Google Drive\n",
        "file_path1 = '/content/drive/My Drive/dataset1/NTU_CS.h5'\n",
        "file_path2 = '/content/drive/My Drive/dataset1/NTU_CV.h5'\n"
      ]
    },
    {
      "cell_type": "code",
      "execution_count": null,
      "metadata": {
        "colab": {
          "base_uri": "https://localhost:8080/"
        },
        "id": "DrOZryGslQOM",
        "outputId": "3bdefd08-b6b6-487f-d6b4-7d4d0063e5e2"
      },
      "outputs": [
        {
          "output_type": "stream",
          "name": "stdout",
          "text": [
            "Keys in CS file: ['test_x', 'test_y', 'valid_x', 'valid_y', 'x', 'y']\n",
            "Keys in CV file: ['test_x', 'test_y', 'valid_x', 'valid_y', 'x', 'y']\n"
          ]
        }
      ],
      "source": [
        "# Load the NTU CS and CV datasets from .h5 files\n",
        "with h5py.File(file_path1, 'r') as cs_file, h5py.File(file_path2, 'r') as cv_file:\n",
        "    # List all keys in the files\n",
        "    print(\"Keys in CS file:\", list(cs_file.keys()))\n",
        "    print(\"Keys in CV file:\", list(cv_file.keys()))\n"
      ]
    },
    {
      "cell_type": "code",
      "execution_count": null,
      "metadata": {
        "id": "XD7JPSS5xpH4"
      },
      "outputs": [],
      "source": [
        "# Load the NTU CS and CV datasets from .h5 files\n",
        "with h5py.File(file_path1, 'r') as cs_file, h5py.File(file_path2, 'r') as cv_file:\n",
        "    # Access the datasets using the keys\n",
        "    x_train_CS = np.array(cs_file['x'])\n",
        "    y_train_CS = np.array(cs_file['y'])\n",
        "    x_valid_CS = np.array(cs_file['valid_x'])\n",
        "    y_valid_CS = np.array(cs_file['valid_y'])\n",
        "    x_test_CS = np.array(cs_file['test_x'])\n",
        "    y_test_CS = np.array(cs_file['test_y'])\n",
        "\n",
        "    x_train_CV = np.array(cv_file['x'])\n",
        "    y_train_CV = np.array(cv_file['y'])\n",
        "    x_valid_CV = np.array(cv_file['valid_x'])\n",
        "    y_valid_CV = np.array(cv_file['valid_y'])\n",
        "    x_test_CV = np.array(cv_file['test_x'])\n",
        "    y_test_CV = np.array(cv_file['test_y'])\n",
        "\n"
      ]
    },
    {
      "cell_type": "code",
      "source": [
        "from tensorflow.keras.models import Model\n",
        "from tensorflow.keras.layers import Conv2D, MaxPooling2D, Flatten, Dense, Input, Concatenate, BatchNormalization, Activation, UpSampling2D\n",
        "\n",
        "def dense_block(input_tensor, filters, kernel_size, stage, block, growth_rate=32):\n",
        "    conv_name_base = f\"res{stage}_{block}_branch\"\n",
        "    bn_name_base = f\"bn{stage}_{block}_branch\"\n",
        "\n",
        "    x = BatchNormalization(axis=3, name=bn_name_base + '2a')(input_tensor)\n",
        "    x = Activation('relu')(x)\n",
        "    x = Conv2D(growth_rate, kernel_size, padding='same', name=conv_name_base + '2a')(x)\n",
        "\n",
        "    x = Concatenate(axis=3)([input_tensor, x])\n",
        "\n",
        "    return x\n",
        "\n",
        "def transition_block(input_tensor, filters, stage, block):\n",
        "    conv_name_base = f\"res{stage}_{block}_branch\"\n",
        "    bn_name_base = f\"bn{stage}_{block}_branch\"\n",
        "\n",
        "    x = BatchNormalization(axis=3, name=bn_name_base + '2a')(input_tensor)\n",
        "    x = Activation('relu')(x)\n",
        "    x = Conv2D(filters, (1, 1), padding='same', name=conv_name_base + '2a')(x)\n",
        "    x = MaxPooling2D((2, 2))(x)\n",
        "\n",
        "    return x\n",
        "\n",
        "def spatial_attention(input_tensor):\n",
        "    # Compute channel-wise maximum and average pooling\n",
        "    max_pool = MaxPooling2D(pool_size=(2, 2))(input_tensor)\n",
        "    avg_pool = MaxPooling2D(pool_size=(2, 2))(input_tensor)\n",
        "\n",
        "    # Upsample the spatial attention coefficients\n",
        "    max_pool = UpSampling2D(size=(2, 2))(max_pool)\n",
        "    avg_pool = UpSampling2D(size=(2, 2))(avg_pool)\n",
        "\n",
        "    # Concatenate max and average pooling results\n",
        "    output_tensor = Concatenate(axis=3)([max_pool, avg_pool])\n",
        "\n",
        "    return output_tensor\n",
        "\n",
        "def DenseNet_with_attention(input_shape, num_classes):\n",
        "    inputs = Input(shape=input_shape)\n",
        "\n",
        "    x = Conv2D(64, (7, 7), strides=(2, 2), padding='same', name='conv1')(inputs)\n",
        "    x = MaxPooling2D((3, 3), strides=(2, 2))(x)\n",
        "\n",
        "    # Dense block 1\n",
        "    x = dense_block(x, 64, (3, 3), stage=2, block='a')\n",
        "    x = dense_block(x, 64, (3, 3), stage=2, block='b')\n",
        "    x = dense_block(x, 64, (3, 3), stage=2, block='c')\n",
        "\n",
        "    # Apply spatial attention\n",
        "    x = spatial_attention(x)\n",
        "\n",
        "    # Transition block 1\n",
        "    x = transition_block(x, 128, stage=3, block='a')\n",
        "\n",
        "    # Dense block 2\n",
        "    x = dense_block(x, 128, (3, 3), stage=3, block='b')\n",
        "    x = dense_block(x, 128, (3, 3), stage=3, block='c')\n",
        "    x = dense_block(x, 128, (3, 3), stage=3, block='d')\n",
        "\n",
        "    # Apply spatial attention\n",
        "    x = spatial_attention(x)\n",
        "\n",
        "    # Transition block 2\n",
        "    x = transition_block(x, 256, stage=4, block='a')\n",
        "\n",
        "    # Dense block 3\n",
        "    x = dense_block(x, 256, (3, 3), stage=4, block='b')\n",
        "    x = dense_block(x, 256, (3, 3), stage=4, block='c')\n",
        "    x = dense_block(x, 256, (3, 3), stage=4, block='d')\n",
        "\n",
        "    # Apply spatial attention\n",
        "    x = spatial_attention(x)\n",
        "\n",
        "    # Transition block 3\n",
        "    x = transition_block(x, 512, stage=5, block='a')\n",
        "\n",
        "    # Dense block 4\n",
        "    x = dense_block(x, 512, (3, 3), stage=5, block='b')\n",
        "    x = dense_block(x, 512, (3, 3), stage=5, block='c')\n",
        "\n",
        "    x = MaxPooling2D((2, 2), name='max_pool')(x)\n",
        "\n",
        "    x = Flatten()(x)\n",
        "    x = Dense(num_classes, activation='softmax', name='fc' + str(num_classes))(x)\n",
        "\n",
        "    model = Model(inputs=inputs, outputs=x, name='densenet_with_attention')\n",
        "\n",
        "    return model\n",
        "# Assuming your input parameters\n",
        "num_classes = 60\n",
        "segment_length = 300\n",
        "num_features = 150\n",
        "\n",
        "# Create the modified ResNet-50 model\n",
        "input_shape = (segment_length, num_features, 1)  # Assuming grayscale images\n",
        "resnet_model = DenseNet_with_attention(input_shape, num_classes)\n",
        "\n",
        "# Print model architecture\n",
        "print(resnet_model.summary())\n",
        "\n"
      ],
      "metadata": {
        "colab": {
          "base_uri": "https://localhost:8080/"
        },
        "id": "9L5rRsdmyrA7",
        "outputId": "3c0936b4-1ae8-4cba-a0db-75dfa8a42441"
      },
      "execution_count": null,
      "outputs": [
        {
          "output_type": "stream",
          "name": "stdout",
          "text": [
            "Model: \"densenet_with_attention\"\n",
            "__________________________________________________________________________________________________\n",
            " Layer (type)                Output Shape                 Param #   Connected to                  \n",
            "==================================================================================================\n",
            " input_1 (InputLayer)        [(None, 300, 150, 1)]        0         []                            \n",
            "                                                                                                  \n",
            " conv1 (Conv2D)              (None, 150, 75, 64)          3200      ['input_1[0][0]']             \n",
            "                                                                                                  \n",
            " max_pooling2d (MaxPooling2  (None, 74, 37, 64)           0         ['conv1[0][0]']               \n",
            " D)                                                                                               \n",
            "                                                                                                  \n",
            " bn2_a_branch2a (BatchNorma  (None, 74, 37, 64)           256       ['max_pooling2d[0][0]']       \n",
            " lization)                                                                                        \n",
            "                                                                                                  \n",
            " activation (Activation)     (None, 74, 37, 64)           0         ['bn2_a_branch2a[0][0]']      \n",
            "                                                                                                  \n",
            " res2_a_branch2a (Conv2D)    (None, 74, 37, 32)           18464     ['activation[0][0]']          \n",
            "                                                                                                  \n",
            " concatenate (Concatenate)   (None, 74, 37, 96)           0         ['max_pooling2d[0][0]',       \n",
            "                                                                     'res2_a_branch2a[0][0]']     \n",
            "                                                                                                  \n",
            " bn2_b_branch2a (BatchNorma  (None, 74, 37, 96)           384       ['concatenate[0][0]']         \n",
            " lization)                                                                                        \n",
            "                                                                                                  \n",
            " activation_1 (Activation)   (None, 74, 37, 96)           0         ['bn2_b_branch2a[0][0]']      \n",
            "                                                                                                  \n",
            " res2_b_branch2a (Conv2D)    (None, 74, 37, 32)           27680     ['activation_1[0][0]']        \n",
            "                                                                                                  \n",
            " concatenate_1 (Concatenate  (None, 74, 37, 128)          0         ['concatenate[0][0]',         \n",
            " )                                                                   'res2_b_branch2a[0][0]']     \n",
            "                                                                                                  \n",
            " bn2_c_branch2a (BatchNorma  (None, 74, 37, 128)          512       ['concatenate_1[0][0]']       \n",
            " lization)                                                                                        \n",
            "                                                                                                  \n",
            " activation_2 (Activation)   (None, 74, 37, 128)          0         ['bn2_c_branch2a[0][0]']      \n",
            "                                                                                                  \n",
            " res2_c_branch2a (Conv2D)    (None, 74, 37, 32)           36896     ['activation_2[0][0]']        \n",
            "                                                                                                  \n",
            " concatenate_2 (Concatenate  (None, 74, 37, 160)          0         ['concatenate_1[0][0]',       \n",
            " )                                                                   'res2_c_branch2a[0][0]']     \n",
            "                                                                                                  \n",
            " max_pooling2d_1 (MaxPoolin  (None, 37, 18, 160)          0         ['concatenate_2[0][0]']       \n",
            " g2D)                                                                                             \n",
            "                                                                                                  \n",
            " max_pooling2d_2 (MaxPoolin  (None, 37, 18, 160)          0         ['concatenate_2[0][0]']       \n",
            " g2D)                                                                                             \n",
            "                                                                                                  \n",
            " up_sampling2d (UpSampling2  (None, 74, 36, 160)          0         ['max_pooling2d_1[0][0]']     \n",
            " D)                                                                                               \n",
            "                                                                                                  \n",
            " up_sampling2d_1 (UpSamplin  (None, 74, 36, 160)          0         ['max_pooling2d_2[0][0]']     \n",
            " g2D)                                                                                             \n",
            "                                                                                                  \n",
            " concatenate_3 (Concatenate  (None, 74, 36, 320)          0         ['up_sampling2d[0][0]',       \n",
            " )                                                                   'up_sampling2d_1[0][0]']     \n",
            "                                                                                                  \n",
            " bn3_a_branch2a (BatchNorma  (None, 74, 36, 320)          1280      ['concatenate_3[0][0]']       \n",
            " lization)                                                                                        \n",
            "                                                                                                  \n",
            " activation_3 (Activation)   (None, 74, 36, 320)          0         ['bn3_a_branch2a[0][0]']      \n",
            "                                                                                                  \n",
            " res3_a_branch2a (Conv2D)    (None, 74, 36, 128)          41088     ['activation_3[0][0]']        \n",
            "                                                                                                  \n",
            " max_pooling2d_3 (MaxPoolin  (None, 37, 18, 128)          0         ['res3_a_branch2a[0][0]']     \n",
            " g2D)                                                                                             \n",
            "                                                                                                  \n",
            " bn3_b_branch2a (BatchNorma  (None, 37, 18, 128)          512       ['max_pooling2d_3[0][0]']     \n",
            " lization)                                                                                        \n",
            "                                                                                                  \n",
            " activation_4 (Activation)   (None, 37, 18, 128)          0         ['bn3_b_branch2a[0][0]']      \n",
            "                                                                                                  \n",
            " res3_b_branch2a (Conv2D)    (None, 37, 18, 32)           36896     ['activation_4[0][0]']        \n",
            "                                                                                                  \n",
            " concatenate_4 (Concatenate  (None, 37, 18, 160)          0         ['max_pooling2d_3[0][0]',     \n",
            " )                                                                   'res3_b_branch2a[0][0]']     \n",
            "                                                                                                  \n",
            " bn3_c_branch2a (BatchNorma  (None, 37, 18, 160)          640       ['concatenate_4[0][0]']       \n",
            " lization)                                                                                        \n",
            "                                                                                                  \n",
            " activation_5 (Activation)   (None, 37, 18, 160)          0         ['bn3_c_branch2a[0][0]']      \n",
            "                                                                                                  \n",
            " res3_c_branch2a (Conv2D)    (None, 37, 18, 32)           46112     ['activation_5[0][0]']        \n",
            "                                                                                                  \n",
            " concatenate_5 (Concatenate  (None, 37, 18, 192)          0         ['concatenate_4[0][0]',       \n",
            " )                                                                   'res3_c_branch2a[0][0]']     \n",
            "                                                                                                  \n",
            " bn3_d_branch2a (BatchNorma  (None, 37, 18, 192)          768       ['concatenate_5[0][0]']       \n",
            " lization)                                                                                        \n",
            "                                                                                                  \n",
            " activation_6 (Activation)   (None, 37, 18, 192)          0         ['bn3_d_branch2a[0][0]']      \n",
            "                                                                                                  \n",
            " res3_d_branch2a (Conv2D)    (None, 37, 18, 32)           55328     ['activation_6[0][0]']        \n",
            "                                                                                                  \n",
            " concatenate_6 (Concatenate  (None, 37, 18, 224)          0         ['concatenate_5[0][0]',       \n",
            " )                                                                   'res3_d_branch2a[0][0]']     \n",
            "                                                                                                  \n",
            " max_pooling2d_4 (MaxPoolin  (None, 18, 9, 224)           0         ['concatenate_6[0][0]']       \n",
            " g2D)                                                                                             \n",
            "                                                                                                  \n",
            " max_pooling2d_5 (MaxPoolin  (None, 18, 9, 224)           0         ['concatenate_6[0][0]']       \n",
            " g2D)                                                                                             \n",
            "                                                                                                  \n",
            " up_sampling2d_2 (UpSamplin  (None, 36, 18, 224)          0         ['max_pooling2d_4[0][0]']     \n",
            " g2D)                                                                                             \n",
            "                                                                                                  \n",
            " up_sampling2d_3 (UpSamplin  (None, 36, 18, 224)          0         ['max_pooling2d_5[0][0]']     \n",
            " g2D)                                                                                             \n",
            "                                                                                                  \n",
            " concatenate_7 (Concatenate  (None, 36, 18, 448)          0         ['up_sampling2d_2[0][0]',     \n",
            " )                                                                   'up_sampling2d_3[0][0]']     \n",
            "                                                                                                  \n",
            " bn4_a_branch2a (BatchNorma  (None, 36, 18, 448)          1792      ['concatenate_7[0][0]']       \n",
            " lization)                                                                                        \n",
            "                                                                                                  \n",
            " activation_7 (Activation)   (None, 36, 18, 448)          0         ['bn4_a_branch2a[0][0]']      \n",
            "                                                                                                  \n",
            " res4_a_branch2a (Conv2D)    (None, 36, 18, 256)          114944    ['activation_7[0][0]']        \n",
            "                                                                                                  \n",
            " max_pooling2d_6 (MaxPoolin  (None, 18, 9, 256)           0         ['res4_a_branch2a[0][0]']     \n",
            " g2D)                                                                                             \n",
            "                                                                                                  \n",
            " bn4_b_branch2a (BatchNorma  (None, 18, 9, 256)           1024      ['max_pooling2d_6[0][0]']     \n",
            " lization)                                                                                        \n",
            "                                                                                                  \n",
            " activation_8 (Activation)   (None, 18, 9, 256)           0         ['bn4_b_branch2a[0][0]']      \n",
            "                                                                                                  \n",
            " res4_b_branch2a (Conv2D)    (None, 18, 9, 32)            73760     ['activation_8[0][0]']        \n",
            "                                                                                                  \n",
            " concatenate_8 (Concatenate  (None, 18, 9, 288)           0         ['max_pooling2d_6[0][0]',     \n",
            " )                                                                   'res4_b_branch2a[0][0]']     \n",
            "                                                                                                  \n",
            " bn4_c_branch2a (BatchNorma  (None, 18, 9, 288)           1152      ['concatenate_8[0][0]']       \n",
            " lization)                                                                                        \n",
            "                                                                                                  \n",
            " activation_9 (Activation)   (None, 18, 9, 288)           0         ['bn4_c_branch2a[0][0]']      \n",
            "                                                                                                  \n",
            " res4_c_branch2a (Conv2D)    (None, 18, 9, 32)            82976     ['activation_9[0][0]']        \n",
            "                                                                                                  \n",
            " concatenate_9 (Concatenate  (None, 18, 9, 320)           0         ['concatenate_8[0][0]',       \n",
            " )                                                                   'res4_c_branch2a[0][0]']     \n",
            "                                                                                                  \n",
            " bn4_d_branch2a (BatchNorma  (None, 18, 9, 320)           1280      ['concatenate_9[0][0]']       \n",
            " lization)                                                                                        \n",
            "                                                                                                  \n",
            " activation_10 (Activation)  (None, 18, 9, 320)           0         ['bn4_d_branch2a[0][0]']      \n",
            "                                                                                                  \n",
            " res4_d_branch2a (Conv2D)    (None, 18, 9, 32)            92192     ['activation_10[0][0]']       \n",
            "                                                                                                  \n",
            " concatenate_10 (Concatenat  (None, 18, 9, 352)           0         ['concatenate_9[0][0]',       \n",
            " e)                                                                  'res4_d_branch2a[0][0]']     \n",
            "                                                                                                  \n",
            " max_pooling2d_7 (MaxPoolin  (None, 9, 4, 352)            0         ['concatenate_10[0][0]']      \n",
            " g2D)                                                                                             \n",
            "                                                                                                  \n",
            " max_pooling2d_8 (MaxPoolin  (None, 9, 4, 352)            0         ['concatenate_10[0][0]']      \n",
            " g2D)                                                                                             \n",
            "                                                                                                  \n",
            " up_sampling2d_4 (UpSamplin  (None, 18, 8, 352)           0         ['max_pooling2d_7[0][0]']     \n",
            " g2D)                                                                                             \n",
            "                                                                                                  \n",
            " up_sampling2d_5 (UpSamplin  (None, 18, 8, 352)           0         ['max_pooling2d_8[0][0]']     \n",
            " g2D)                                                                                             \n",
            "                                                                                                  \n",
            " concatenate_11 (Concatenat  (None, 18, 8, 704)           0         ['up_sampling2d_4[0][0]',     \n",
            " e)                                                                  'up_sampling2d_5[0][0]']     \n",
            "                                                                                                  \n",
            " bn5_a_branch2a (BatchNorma  (None, 18, 8, 704)           2816      ['concatenate_11[0][0]']      \n",
            " lization)                                                                                        \n",
            "                                                                                                  \n",
            " activation_11 (Activation)  (None, 18, 8, 704)           0         ['bn5_a_branch2a[0][0]']      \n",
            "                                                                                                  \n",
            " res5_a_branch2a (Conv2D)    (None, 18, 8, 512)           360960    ['activation_11[0][0]']       \n",
            "                                                                                                  \n",
            " max_pooling2d_9 (MaxPoolin  (None, 9, 4, 512)            0         ['res5_a_branch2a[0][0]']     \n",
            " g2D)                                                                                             \n",
            "                                                                                                  \n",
            " bn5_b_branch2a (BatchNorma  (None, 9, 4, 512)            2048      ['max_pooling2d_9[0][0]']     \n",
            " lization)                                                                                        \n",
            "                                                                                                  \n",
            " activation_12 (Activation)  (None, 9, 4, 512)            0         ['bn5_b_branch2a[0][0]']      \n",
            "                                                                                                  \n",
            " res5_b_branch2a (Conv2D)    (None, 9, 4, 32)             147488    ['activation_12[0][0]']       \n",
            "                                                                                                  \n",
            " concatenate_12 (Concatenat  (None, 9, 4, 544)            0         ['max_pooling2d_9[0][0]',     \n",
            " e)                                                                  'res5_b_branch2a[0][0]']     \n",
            "                                                                                                  \n",
            " bn5_c_branch2a (BatchNorma  (None, 9, 4, 544)            2176      ['concatenate_12[0][0]']      \n",
            " lization)                                                                                        \n",
            "                                                                                                  \n",
            " activation_13 (Activation)  (None, 9, 4, 544)            0         ['bn5_c_branch2a[0][0]']      \n",
            "                                                                                                  \n",
            " res5_c_branch2a (Conv2D)    (None, 9, 4, 32)             156704    ['activation_13[0][0]']       \n",
            "                                                                                                  \n",
            " concatenate_13 (Concatenat  (None, 9, 4, 576)            0         ['concatenate_12[0][0]',      \n",
            " e)                                                                  'res5_c_branch2a[0][0]']     \n",
            "                                                                                                  \n",
            " max_pool (MaxPooling2D)     (None, 4, 2, 576)            0         ['concatenate_13[0][0]']      \n",
            "                                                                                                  \n",
            " flatten (Flatten)           (None, 4608)                 0         ['max_pool[0][0]']            \n",
            "                                                                                                  \n",
            " fc60 (Dense)                (None, 60)                   276540    ['flatten[0][0]']             \n",
            "                                                                                                  \n",
            "==================================================================================================\n",
            "Total params: 1587868 (6.06 MB)\n",
            "Trainable params: 1579548 (6.03 MB)\n",
            "Non-trainable params: 8320 (32.50 KB)\n",
            "__________________________________________________________________________________________________\n",
            "None\n"
          ]
        }
      ]
    },
    {
      "cell_type": "code",
      "execution_count": null,
      "metadata": {
        "id": "zhanEADTmmOO"
      },
      "outputs": [],
      "source": [
        "# Set the parameters\n",
        "#num_segments = 1 # You can adjust this based on your requirements\n",
        "#segment_length = 237\n",
        "#num_features = 150  # Assuming each frame has 150 features\n"
      ]
    },
    {
      "cell_type": "code",
      "execution_count": null,
      "metadata": {
        "colab": {
          "base_uri": "https://localhost:8080/"
        },
        "id": "7CdhHz2gvH1j",
        "outputId": "88446a2a-ac40-4cc2-a49e-1ee21e1aea51"
      },
      "outputs": [
        {
          "output_type": "stream",
          "name": "stdout",
          "text": [
            "(38086, 300, 150)\n"
          ]
        }
      ],
      "source": [
        "print(x_train_CS.shape)"
      ]
    },
    {
      "cell_type": "code",
      "execution_count": null,
      "metadata": {
        "colab": {
          "base_uri": "https://localhost:8080/"
        },
        "id": "rMvU4ewfviyc",
        "outputId": "7cefc08b-7a54-404e-cb25-be1c57ca2ef7"
      },
      "outputs": [
        {
          "output_type": "stream",
          "name": "stdout",
          "text": [
            "(38086, 60)\n"
          ]
        }
      ],
      "source": [
        "print(y_train_CS.shape)"
      ]
    },
    {
      "cell_type": "code",
      "execution_count": null,
      "metadata": {
        "colab": {
          "base_uri": "https://localhost:8080/"
        },
        "id": "nEXOZnVrvH1l",
        "outputId": "f8290fe4-26fa-4a96-d1b0-26d31034ff15"
      },
      "outputs": [
        {
          "output_type": "stream",
          "name": "stdout",
          "text": [
            "(2005, 300, 150)\n"
          ]
        }
      ],
      "source": [
        "print(x_valid_CS.shape)"
      ]
    },
    {
      "cell_type": "code",
      "execution_count": null,
      "metadata": {
        "colab": {
          "base_uri": "https://localhost:8080/"
        },
        "id": "dg4mFqQgvy8X",
        "outputId": "5d98fcc5-ed68-43ac-e0d5-c85f7b1c1281"
      },
      "outputs": [
        {
          "output_type": "stream",
          "name": "stdout",
          "text": [
            "(2005, 60)\n"
          ]
        }
      ],
      "source": [
        "print(y_valid_CS.shape)"
      ]
    },
    {
      "cell_type": "code",
      "execution_count": null,
      "metadata": {
        "colab": {
          "base_uri": "https://localhost:8080/"
        },
        "id": "BhGdnMS9vH1m",
        "outputId": "41092ab1-6582-4eb1-b715-4b739a0b1184"
      },
      "outputs": [
        {
          "output_type": "stream",
          "name": "stdout",
          "text": [
            "(16487, 300, 150)\n"
          ]
        }
      ],
      "source": [
        "print(x_test_CS.shape)"
      ]
    },
    {
      "cell_type": "code",
      "execution_count": null,
      "metadata": {
        "colab": {
          "base_uri": "https://localhost:8080/"
        },
        "id": "nHv-h3zNwTtk",
        "outputId": "fa776457-97e8-4e3b-ffb0-fd0a2c4f1831"
      },
      "outputs": [
        {
          "output_type": "stream",
          "name": "stdout",
          "text": [
            "(16487, 60)\n"
          ]
        }
      ],
      "source": [
        "print(y_test_CS.shape)"
      ]
    },
    {
      "cell_type": "code",
      "execution_count": null,
      "metadata": {
        "colab": {
          "base_uri": "https://localhost:8080/"
        },
        "id": "RRnRhPtkvH1l",
        "outputId": "3a3f3cf3-02a8-47de-ce46-143e798c41a2"
      },
      "outputs": [
        {
          "output_type": "stream",
          "name": "stdout",
          "text": [
            "(35763, 300, 150)\n"
          ]
        }
      ],
      "source": [
        "print(x_train_CV.shape)"
      ]
    },
    {
      "cell_type": "code",
      "execution_count": null,
      "metadata": {
        "colab": {
          "base_uri": "https://localhost:8080/"
        },
        "id": "NV1eFZO0vnKs",
        "outputId": "2e32cb19-5ca3-43f0-98c6-a75cc10f8e4e"
      },
      "outputs": [
        {
          "output_type": "stream",
          "name": "stdout",
          "text": [
            "(35763, 60)\n"
          ]
        }
      ],
      "source": [
        "print(y_train_CV.shape)"
      ]
    },
    {
      "cell_type": "code",
      "execution_count": null,
      "metadata": {
        "colab": {
          "base_uri": "https://localhost:8080/"
        },
        "id": "_ke5uMEawABY",
        "outputId": "c20346e8-4c24-46f8-d6e8-4ede11a7f9bb"
      },
      "outputs": [
        {
          "output_type": "stream",
          "name": "stdout",
          "text": [
            "(1883, 300, 150)\n"
          ]
        }
      ],
      "source": [
        "print(x_valid_CV.shape)"
      ]
    },
    {
      "cell_type": "code",
      "execution_count": null,
      "metadata": {
        "colab": {
          "base_uri": "https://localhost:8080/"
        },
        "id": "24QIYHRdwBMW",
        "outputId": "733049d5-56a0-4bf5-8674-ba072a7b2afa"
      },
      "outputs": [
        {
          "output_type": "stream",
          "name": "stdout",
          "text": [
            "(1883, 60)\n"
          ]
        }
      ],
      "source": [
        "print(y_valid_CV.shape)"
      ]
    },
    {
      "cell_type": "code",
      "execution_count": null,
      "metadata": {
        "colab": {
          "base_uri": "https://localhost:8080/"
        },
        "id": "uJNy30yuvbh6",
        "outputId": "557a5ac2-cd9e-4bc9-928c-ccb8f90681f8"
      },
      "outputs": [
        {
          "output_type": "stream",
          "name": "stdout",
          "text": [
            "(18932, 300, 150)\n"
          ]
        }
      ],
      "source": [
        "print(x_test_CV.shape)"
      ]
    },
    {
      "cell_type": "code",
      "execution_count": null,
      "metadata": {
        "colab": {
          "base_uri": "https://localhost:8080/"
        },
        "id": "rynjwSPHwmYi",
        "outputId": "bde59df7-907b-43a6-cc5f-8c9bfb490fd6"
      },
      "outputs": [
        {
          "output_type": "stream",
          "name": "stdout",
          "text": [
            "(18932, 60)\n"
          ]
        }
      ],
      "source": [
        "print(y_test_CV.shape)"
      ]
    },
    {
      "cell_type": "code",
      "execution_count": null,
      "metadata": {
        "id": "LDoDTAl1w4t6"
      },
      "outputs": [],
      "source": [
        "x_train_CS = np.reshape(x_train_CS, (38086, 300, 150))\n"
      ]
    },
    {
      "cell_type": "code",
      "execution_count": null,
      "metadata": {
        "id": "d963S0JCynH-"
      },
      "outputs": [],
      "source": [
        "x_valid_CS = np.reshape(x_valid_CS, (2005, 300, 150))"
      ]
    },
    {
      "cell_type": "code",
      "execution_count": null,
      "metadata": {
        "id": "wxrXpGHoyn1B"
      },
      "outputs": [],
      "source": [
        "x_test_CS = np.reshape(x_test_CS, (16487,1, 300, 150))"
      ]
    },
    {
      "cell_type": "code",
      "execution_count": null,
      "metadata": {
        "id": "W6MWmuZp0DWw"
      },
      "outputs": [],
      "source": []
    },
    {
      "cell_type": "code",
      "execution_count": null,
      "metadata": {
        "id": "6oO_ycwpl4Cy"
      },
      "outputs": [],
      "source": [
        "# Define the Part-Aware LSTM model\n",
        "num_classes = 60  # Assuming there are 60 action classes\n",
        "model3_CS = DenseNet_with_attention(input_shape, num_classes)\n"
      ]
    },
    {
      "cell_type": "code",
      "execution_count": null,
      "metadata": {
        "id": "-TUBRGf7mWX7"
      },
      "outputs": [],
      "source": [
        "# Compile the model\n",
        "model3_CS.compile(optimizer='adam', loss='categorical_crossentropy', metrics=['accuracy'])\n"
      ]
    },
    {
      "cell_type": "code",
      "execution_count": null,
      "metadata": {
        "id": "M4A4gSrnFEhI"
      },
      "outputs": [],
      "source": [
        "# Train the model\n",
        "#multi_cnn_model_CS.fit(x_train_CS, y_train_CS, validation_data=(x_valid_CS, y_valid_CS), epochs=150, batch_size=32)\n"
      ]
    },
    {
      "cell_type": "code",
      "execution_count": null,
      "metadata": {
        "colab": {
          "base_uri": "https://localhost:8080/",
          "height": 1000
        },
        "id": "NxJGPBnHFGUP",
        "outputId": "b208c4a0-c628-408b-ea29-7215b43b29b5"
      },
      "outputs": [
        {
          "output_type": "stream",
          "name": "stdout",
          "text": [
            "Epoch 1/100\n",
            "1191/1191 [==============================] - 82s 56ms/step - loss: 1.9766 - accuracy: 0.4611 - val_loss: 1.3214 - val_accuracy: 0.5900\n",
            "Epoch 2/100\n",
            "1191/1191 [==============================] - 62s 52ms/step - loss: 1.1523 - accuracy: 0.6506 - val_loss: 1.1537 - val_accuracy: 0.6618\n",
            "Epoch 3/100\n",
            "1191/1191 [==============================] - 62s 52ms/step - loss: 0.9242 - accuracy: 0.7137 - val_loss: 0.9715 - val_accuracy: 0.6998\n",
            "Epoch 4/100\n",
            "1191/1191 [==============================] - 62s 52ms/step - loss: 0.7886 - accuracy: 0.7511 - val_loss: 0.8283 - val_accuracy: 0.7531\n",
            "Epoch 5/100\n",
            "1191/1191 [==============================] - 62s 52ms/step - loss: 0.6730 - accuracy: 0.7843 - val_loss: 0.7450 - val_accuracy: 0.7696\n",
            "Epoch 6/100\n",
            "1191/1191 [==============================] - 62s 52ms/step - loss: 0.5871 - accuracy: 0.8091 - val_loss: 0.8102 - val_accuracy: 0.7561\n",
            "Epoch 7/100\n",
            "1191/1191 [==============================] - 62s 52ms/step - loss: 0.5055 - accuracy: 0.8348 - val_loss: 0.6904 - val_accuracy: 0.7915\n",
            "Epoch 8/100\n",
            "1191/1191 [==============================] - 62s 52ms/step - loss: 0.4328 - accuracy: 0.8569 - val_loss: 0.7499 - val_accuracy: 0.7890\n",
            "Epoch 9/100\n",
            "1191/1191 [==============================] - 62s 52ms/step - loss: 0.3819 - accuracy: 0.8722 - val_loss: 0.7071 - val_accuracy: 0.7980\n",
            "Epoch 10/100\n",
            "1191/1191 [==============================] - 62s 52ms/step - loss: 0.3340 - accuracy: 0.8880 - val_loss: 0.7900 - val_accuracy: 0.7965\n",
            "Epoch 11/100\n",
            "1191/1191 [==============================] - 62s 52ms/step - loss: 0.2836 - accuracy: 0.9045 - val_loss: 0.7611 - val_accuracy: 0.7995\n",
            "Epoch 12/100\n",
            "1191/1191 [==============================] - 63s 53ms/step - loss: 0.2671 - accuracy: 0.9111 - val_loss: 0.7143 - val_accuracy: 0.8080\n",
            "Epoch 13/100\n",
            "1191/1191 [==============================] - 63s 53ms/step - loss: 0.2307 - accuracy: 0.9221 - val_loss: 0.7534 - val_accuracy: 0.8035\n",
            "Epoch 14/100\n",
            "1191/1191 [==============================] - 63s 53ms/step - loss: 0.2010 - accuracy: 0.9325 - val_loss: 0.8187 - val_accuracy: 0.8110\n",
            "Epoch 15/100\n",
            "1191/1191 [==============================] - 63s 53ms/step - loss: 0.1897 - accuracy: 0.9357 - val_loss: 0.8161 - val_accuracy: 0.8125\n",
            "Epoch 16/100\n",
            "1191/1191 [==============================] - 63s 53ms/step - loss: 0.1780 - accuracy: 0.9402 - val_loss: 0.8397 - val_accuracy: 0.8180\n",
            "Epoch 17/100\n",
            "1191/1191 [==============================] - 63s 53ms/step - loss: 0.1593 - accuracy: 0.9477 - val_loss: 0.8235 - val_accuracy: 0.8120\n",
            "Epoch 18/100\n",
            "1191/1191 [==============================] - 63s 53ms/step - loss: 0.1555 - accuracy: 0.9480 - val_loss: 0.9134 - val_accuracy: 0.8050\n",
            "Epoch 19/100\n",
            "1191/1191 [==============================] - 63s 53ms/step - loss: 0.1399 - accuracy: 0.9550 - val_loss: 0.8821 - val_accuracy: 0.8130\n",
            "Epoch 20/100\n",
            "1191/1191 [==============================] - 63s 53ms/step - loss: 0.1316 - accuracy: 0.9571 - val_loss: 0.9114 - val_accuracy: 0.8150\n",
            "Epoch 21/100\n",
            "1191/1191 [==============================] - 63s 53ms/step - loss: 0.1288 - accuracy: 0.9575 - val_loss: 1.0043 - val_accuracy: 0.8035\n",
            "Epoch 22/100\n",
            "1191/1191 [==============================] - 63s 53ms/step - loss: 0.1205 - accuracy: 0.9614 - val_loss: 0.9278 - val_accuracy: 0.8229\n",
            "Epoch 23/100\n",
            "1191/1191 [==============================] - 62s 52ms/step - loss: 0.1246 - accuracy: 0.9608 - val_loss: 1.1246 - val_accuracy: 0.7940\n",
            "Epoch 24/100\n",
            "1191/1191 [==============================] - 62s 52ms/step - loss: 0.1067 - accuracy: 0.9663 - val_loss: 0.9706 - val_accuracy: 0.8269\n",
            "Epoch 25/100\n",
            "1191/1191 [==============================] - 62s 52ms/step - loss: 0.1096 - accuracy: 0.9651 - val_loss: 1.0776 - val_accuracy: 0.7905\n",
            "Epoch 26/100\n",
            "1191/1191 [==============================] - 62s 52ms/step - loss: 0.1066 - accuracy: 0.9666 - val_loss: 0.9720 - val_accuracy: 0.8309\n",
            "Epoch 27/100\n",
            "1191/1191 [==============================] - 62s 52ms/step - loss: 0.1012 - accuracy: 0.9680 - val_loss: 0.9537 - val_accuracy: 0.8304\n",
            "Epoch 28/100\n",
            "1191/1191 [==============================] - 62s 52ms/step - loss: 0.1091 - accuracy: 0.9673 - val_loss: 0.9108 - val_accuracy: 0.8359\n",
            "Epoch 29/100\n",
            "1191/1191 [==============================] - 62s 52ms/step - loss: 0.0867 - accuracy: 0.9735 - val_loss: 1.1068 - val_accuracy: 0.8095\n",
            "Epoch 30/100\n",
            "1191/1191 [==============================] - 63s 53ms/step - loss: 0.0912 - accuracy: 0.9714 - val_loss: 1.1778 - val_accuracy: 0.8209\n",
            "Epoch 31/100\n",
            "1191/1191 [==============================] - 62s 52ms/step - loss: 0.0965 - accuracy: 0.9697 - val_loss: 1.1290 - val_accuracy: 0.8090\n",
            "Epoch 32/100\n",
            "1191/1191 [==============================] - 62s 52ms/step - loss: 0.0885 - accuracy: 0.9733 - val_loss: 1.0966 - val_accuracy: 0.8204\n",
            "Epoch 33/100\n",
            "1191/1191 [==============================] - 62s 52ms/step - loss: 0.0872 - accuracy: 0.9722 - val_loss: 1.0892 - val_accuracy: 0.8339\n",
            "Epoch 34/100\n",
            "1191/1191 [==============================] - 62s 52ms/step - loss: 0.0864 - accuracy: 0.9740 - val_loss: 1.1083 - val_accuracy: 0.8234\n",
            "Epoch 35/100\n",
            "1191/1191 [==============================] - 62s 52ms/step - loss: 0.0732 - accuracy: 0.9772 - val_loss: 1.2350 - val_accuracy: 0.8120\n",
            "Epoch 36/100\n",
            "1191/1191 [==============================] - 62s 52ms/step - loss: 0.0850 - accuracy: 0.9744 - val_loss: 1.1927 - val_accuracy: 0.8160\n",
            "Epoch 37/100\n",
            "1191/1191 [==============================] - 62s 52ms/step - loss: 0.0837 - accuracy: 0.9754 - val_loss: 1.3544 - val_accuracy: 0.8040\n",
            "Epoch 38/100\n",
            "1191/1191 [==============================] - 62s 52ms/step - loss: 0.0776 - accuracy: 0.9775 - val_loss: 1.1972 - val_accuracy: 0.8195\n",
            "Epoch 39/100\n",
            "1191/1191 [==============================] - 62s 52ms/step - loss: 0.0748 - accuracy: 0.9779 - val_loss: 1.2111 - val_accuracy: 0.8284\n",
            "Epoch 40/100\n",
            "1191/1191 [==============================] - 62s 52ms/step - loss: 0.0822 - accuracy: 0.9762 - val_loss: 1.2440 - val_accuracy: 0.8284\n",
            "Epoch 41/100\n",
            "1191/1191 [==============================] - 62s 52ms/step - loss: 0.0687 - accuracy: 0.9793 - val_loss: 1.1864 - val_accuracy: 0.8324\n",
            "Epoch 42/100\n",
            "1191/1191 [==============================] - 62s 52ms/step - loss: 0.0770 - accuracy: 0.9781 - val_loss: 1.2402 - val_accuracy: 0.8249\n",
            "Epoch 43/100\n",
            "1191/1191 [==============================] - 62s 52ms/step - loss: 0.0677 - accuracy: 0.9799 - val_loss: 1.1548 - val_accuracy: 0.8294\n",
            "Epoch 44/100\n",
            "1191/1191 [==============================] - 62s 52ms/step - loss: 0.0712 - accuracy: 0.9790 - val_loss: 1.2169 - val_accuracy: 0.8234\n",
            "Epoch 45/100\n",
            "1191/1191 [==============================] - 62s 52ms/step - loss: 0.0571 - accuracy: 0.9828 - val_loss: 1.3185 - val_accuracy: 0.8125\n",
            "Epoch 46/100\n",
            "1191/1191 [==============================] - 62s 52ms/step - loss: 0.0830 - accuracy: 0.9773 - val_loss: 1.1896 - val_accuracy: 0.8284\n",
            "Epoch 47/100\n",
            "1191/1191 [==============================] - 62s 52ms/step - loss: 0.0673 - accuracy: 0.9803 - val_loss: 1.2818 - val_accuracy: 0.8170\n",
            "Epoch 48/100\n",
            "1191/1191 [==============================] - 62s 52ms/step - loss: 0.0579 - accuracy: 0.9830 - val_loss: 1.3922 - val_accuracy: 0.8135\n",
            "Epoch 49/100\n",
            "1191/1191 [==============================] - 62s 52ms/step - loss: 0.0682 - accuracy: 0.9806 - val_loss: 1.3707 - val_accuracy: 0.8289\n",
            "Epoch 50/100\n",
            "1191/1191 [==============================] - 62s 52ms/step - loss: 0.0674 - accuracy: 0.9804 - val_loss: 1.3803 - val_accuracy: 0.8165\n",
            "Epoch 51/100\n",
            "1191/1191 [==============================] - 62s 52ms/step - loss: 0.0685 - accuracy: 0.9817 - val_loss: 1.2795 - val_accuracy: 0.8249\n",
            "Epoch 52/100\n",
            "1191/1191 [==============================] - 62s 52ms/step - loss: 0.0528 - accuracy: 0.9844 - val_loss: 1.3754 - val_accuracy: 0.8150\n",
            "Epoch 53/100\n",
            "1191/1191 [==============================] - 62s 52ms/step - loss: 0.0627 - accuracy: 0.9815 - val_loss: 1.3192 - val_accuracy: 0.8269\n",
            "Epoch 54/100\n",
            "1191/1191 [==============================] - 62s 52ms/step - loss: 0.0657 - accuracy: 0.9824 - val_loss: 1.3747 - val_accuracy: 0.8209\n",
            "Epoch 55/100\n",
            "1191/1191 [==============================] - 62s 52ms/step - loss: 0.0569 - accuracy: 0.9834 - val_loss: 1.3255 - val_accuracy: 0.8379\n",
            "Epoch 56/100\n",
            "1191/1191 [==============================] - 62s 52ms/step - loss: 0.0578 - accuracy: 0.9845 - val_loss: 1.5874 - val_accuracy: 0.8120\n",
            "Epoch 57/100\n",
            "1191/1191 [==============================] - 62s 52ms/step - loss: 0.0637 - accuracy: 0.9826 - val_loss: 1.4724 - val_accuracy: 0.8289\n",
            "Epoch 58/100\n",
            "1191/1191 [==============================] - 62s 52ms/step - loss: 0.0551 - accuracy: 0.9846 - val_loss: 1.5432 - val_accuracy: 0.8254\n",
            "Epoch 59/100\n",
            "1191/1191 [==============================] - 62s 52ms/step - loss: 0.0696 - accuracy: 0.9815 - val_loss: 1.3917 - val_accuracy: 0.8354\n",
            "Epoch 60/100\n",
            "1191/1191 [==============================] - 62s 52ms/step - loss: 0.0611 - accuracy: 0.9831 - val_loss: 1.4864 - val_accuracy: 0.8254\n",
            "Epoch 61/100\n",
            "1191/1191 [==============================] - 63s 53ms/step - loss: 0.0518 - accuracy: 0.9851 - val_loss: 1.4716 - val_accuracy: 0.8264\n",
            "Epoch 62/100\n",
            "1191/1191 [==============================] - 62s 52ms/step - loss: 0.0616 - accuracy: 0.9831 - val_loss: 1.5581 - val_accuracy: 0.8219\n",
            "Epoch 63/100\n",
            "1191/1191 [==============================] - 62s 52ms/step - loss: 0.0621 - accuracy: 0.9834 - val_loss: 1.6249 - val_accuracy: 0.8309\n",
            "Epoch 64/100\n",
            "1191/1191 [==============================] - 62s 52ms/step - loss: 0.0549 - accuracy: 0.9856 - val_loss: 1.4679 - val_accuracy: 0.8424\n",
            "Epoch 65/100\n",
            "1191/1191 [==============================] - 62s 52ms/step - loss: 0.0487 - accuracy: 0.9868 - val_loss: 1.4967 - val_accuracy: 0.8429\n",
            "Epoch 66/100\n",
            "1191/1191 [==============================] - 62s 52ms/step - loss: 0.0576 - accuracy: 0.9843 - val_loss: 1.5019 - val_accuracy: 0.8359\n",
            "Epoch 67/100\n",
            "1191/1191 [==============================] - 62s 52ms/step - loss: 0.0676 - accuracy: 0.9832 - val_loss: 1.4959 - val_accuracy: 0.8234\n",
            "Epoch 68/100\n",
            "1191/1191 [==============================] - 62s 52ms/step - loss: 0.0644 - accuracy: 0.9835 - val_loss: 1.4923 - val_accuracy: 0.8214\n",
            "Epoch 69/100\n",
            "1191/1191 [==============================] - 62s 52ms/step - loss: 0.0448 - accuracy: 0.9881 - val_loss: 1.4123 - val_accuracy: 0.8359\n",
            "Epoch 70/100\n",
            "1191/1191 [==============================] - 62s 52ms/step - loss: 0.0483 - accuracy: 0.9868 - val_loss: 1.4396 - val_accuracy: 0.8404\n",
            "Epoch 71/100\n",
            "1191/1191 [==============================] - 62s 52ms/step - loss: 0.0580 - accuracy: 0.9849 - val_loss: 1.5755 - val_accuracy: 0.8359\n",
            "Epoch 72/100\n",
            "1191/1191 [==============================] - 62s 52ms/step - loss: 0.0523 - accuracy: 0.9867 - val_loss: 1.6190 - val_accuracy: 0.8329\n",
            "Epoch 73/100\n",
            "1191/1191 [==============================] - 62s 52ms/step - loss: 0.0516 - accuracy: 0.9860 - val_loss: 1.5669 - val_accuracy: 0.8439\n",
            "Epoch 74/100\n",
            "1191/1191 [==============================] - 62s 52ms/step - loss: 0.0524 - accuracy: 0.9867 - val_loss: 1.5759 - val_accuracy: 0.8294\n",
            "Epoch 75/100\n",
            "1191/1191 [==============================] - 62s 52ms/step - loss: 0.0529 - accuracy: 0.9856 - val_loss: 1.4765 - val_accuracy: 0.8384\n",
            "Epoch 76/100\n",
            "1191/1191 [==============================] - 62s 52ms/step - loss: 0.0506 - accuracy: 0.9867 - val_loss: 1.5097 - val_accuracy: 0.8354\n",
            "Epoch 77/100\n",
            "1191/1191 [==============================] - 62s 52ms/step - loss: 0.0496 - accuracy: 0.9882 - val_loss: 1.5709 - val_accuracy: 0.8289\n",
            "Epoch 78/100\n",
            "1191/1191 [==============================] - 62s 52ms/step - loss: 0.0587 - accuracy: 0.9850 - val_loss: 1.6765 - val_accuracy: 0.8219\n",
            "Epoch 79/100\n",
            "1191/1191 [==============================] - 62s 52ms/step - loss: 0.0412 - accuracy: 0.9887 - val_loss: 1.6658 - val_accuracy: 0.8329\n",
            "Epoch 80/100\n",
            "1191/1191 [==============================] - 62s 52ms/step - loss: 0.0532 - accuracy: 0.9868 - val_loss: 1.4460 - val_accuracy: 0.8454\n",
            "Epoch 81/100\n",
            "1191/1191 [==============================] - 62s 52ms/step - loss: 0.0485 - accuracy: 0.9874 - val_loss: 1.7551 - val_accuracy: 0.8214\n",
            "Epoch 82/100\n",
            "1191/1191 [==============================] - 62s 52ms/step - loss: 0.0480 - accuracy: 0.9877 - val_loss: 1.6759 - val_accuracy: 0.8259\n",
            "Epoch 83/100\n",
            "1191/1191 [==============================] - 62s 52ms/step - loss: 0.0580 - accuracy: 0.9858 - val_loss: 1.4267 - val_accuracy: 0.8484\n",
            "Epoch 84/100\n",
            "1191/1191 [==============================] - 62s 52ms/step - loss: 0.0491 - accuracy: 0.9876 - val_loss: 1.5858 - val_accuracy: 0.8349\n",
            "Epoch 85/100\n",
            "1191/1191 [==============================] - 62s 52ms/step - loss: 0.0427 - accuracy: 0.9893 - val_loss: 1.7115 - val_accuracy: 0.8364\n",
            "Epoch 86/100\n",
            "1191/1191 [==============================] - 62s 52ms/step - loss: 0.0518 - accuracy: 0.9868 - val_loss: 1.6826 - val_accuracy: 0.8354\n",
            "Epoch 87/100\n",
            "1191/1191 [==============================] - 62s 52ms/step - loss: 0.0521 - accuracy: 0.9869 - val_loss: 1.6530 - val_accuracy: 0.8434\n",
            "Epoch 88/100\n",
            "1191/1191 [==============================] - 62s 52ms/step - loss: 0.0495 - accuracy: 0.9889 - val_loss: 1.5951 - val_accuracy: 0.8494\n",
            "Epoch 89/100\n",
            "1191/1191 [==============================] - 62s 52ms/step - loss: 0.0433 - accuracy: 0.9888 - val_loss: 1.8013 - val_accuracy: 0.8339\n",
            "Epoch 90/100\n",
            "1191/1191 [==============================] - 62s 52ms/step - loss: 0.0571 - accuracy: 0.9873 - val_loss: 1.8660 - val_accuracy: 0.8369\n",
            "Epoch 91/100\n",
            "1191/1191 [==============================] - 62s 52ms/step - loss: 0.0518 - accuracy: 0.9884 - val_loss: 1.8473 - val_accuracy: 0.8349\n",
            "Epoch 92/100\n",
            "1191/1191 [==============================] - 62s 52ms/step - loss: 0.0402 - accuracy: 0.9902 - val_loss: 1.7646 - val_accuracy: 0.8289\n",
            "Epoch 93/100\n",
            "1191/1191 [==============================] - 62s 52ms/step - loss: 0.0678 - accuracy: 0.9851 - val_loss: 1.8456 - val_accuracy: 0.8414\n",
            "Epoch 94/100\n",
            "1191/1191 [==============================] - 62s 52ms/step - loss: 0.0420 - accuracy: 0.9903 - val_loss: 1.7955 - val_accuracy: 0.8309\n",
            "Epoch 95/100\n",
            "1191/1191 [==============================] - 62s 52ms/step - loss: 0.0526 - accuracy: 0.9873 - val_loss: 1.8345 - val_accuracy: 0.8314\n",
            "Epoch 96/100\n",
            "1191/1191 [==============================] - 62s 52ms/step - loss: 0.0392 - accuracy: 0.9902 - val_loss: 1.9247 - val_accuracy: 0.8334\n",
            "Epoch 97/100\n",
            "1191/1191 [==============================] - 62s 52ms/step - loss: 0.0509 - accuracy: 0.9877 - val_loss: 1.9429 - val_accuracy: 0.8299\n",
            "Epoch 98/100\n",
            "1191/1191 [==============================] - 62s 52ms/step - loss: 0.0548 - accuracy: 0.9877 - val_loss: 1.8982 - val_accuracy: 0.8289\n",
            "Epoch 99/100\n",
            "1191/1191 [==============================] - 62s 52ms/step - loss: 0.0508 - accuracy: 0.9889 - val_loss: 1.8241 - val_accuracy: 0.8304\n",
            "Epoch 100/100\n",
            "1191/1191 [==============================] - 62s 52ms/step - loss: 0.0384 - accuracy: 0.9913 - val_loss: 1.8203 - val_accuracy: 0.8374\n"
          ]
        },
        {
          "output_type": "display_data",
          "data": {
            "text/plain": [
              "<Figure size 640x480 with 1 Axes>"
            ],
            "image/png": "[encoded data removed]"
          },
          "metadata": {}
        }
      ],
      "source": [
        "import matplotlib.pyplot as plt\n",
        "\n",
        "# Assuming you have already trained your model and have a `history` object\n",
        "history = model3_CS.fit(x_train_CS, y_train_CS, epochs=100, batch_size=32, validation_data=(x_valid_CS, y_valid_CS))\n",
        "\n",
        "# Plot training vs validation accuracy\n",
        "plt.plot(history.history['accuracy'], label='Training Accuracy')\n",
        "plt.plot(history.history['val_accuracy'], label='Validation Accuracy')\n",
        "plt.xlabel('Epoch')\n",
        "plt.ylabel('Accuracy')\n",
        "plt.title('Training vs Validation Accuracy')\n",
        "plt.legend()\n",
        "plt.show()"
      ]
    },
    {
      "cell_type": "code",
      "source": [],
      "metadata": {
        "id": "AOBPEYd8ZMZ6"
      },
      "execution_count": null,
      "outputs": []
    },
    {
      "cell_type": "code",
      "execution_count": null,
      "metadata": {
        "id": "x0lfD9U7vyvn"
      },
      "outputs": [],
      "source": [
        "x_test_CS = np.reshape(x_test_CS, (16487, 300, 150, 1))"
      ]
    },
    {
      "cell_type": "code",
      "execution_count": null,
      "metadata": {
        "id": "fOpw0QYSlU-v",
        "colab": {
          "base_uri": "https://localhost:8080/"
        },
        "outputId": "547d68ff-d9c2-47e8-ccdf-b40bf4315660"
      },
      "outputs": [
        {
          "output_type": "stream",
          "name": "stdout",
          "text": [
            "516/516 [==============================] - 8s 15ms/step\n"
          ]
        }
      ],
      "source": [
        "# Predict classes using the test data\n",
        "predictions_CS = model3_CS.predict(x_test_CS)\n",
        "predicted_classes_CS = np.argmax(predictions_CS, axis=1)\n"
      ]
    },
    {
      "cell_type": "code",
      "execution_count": null,
      "metadata": {
        "id": "IKmlrerGpcIT"
      },
      "outputs": [],
      "source": [
        "# True classes\n",
        "true_classes_CS = np.argmax(y_test_CS, axis=1)"
      ]
    },
    {
      "cell_type": "code",
      "execution_count": null,
      "metadata": {
        "id": "du-sLoWmlltc",
        "colab": {
          "base_uri": "https://localhost:8080/"
        },
        "outputId": "945fbd3b-4784-41e0-ec31-3551f82e2081"
      },
      "outputs": [
        {
          "output_type": "stream",
          "name": "stdout",
          "text": [
            "Accuracy (CS): 0.7357918359919937\n"
          ]
        }
      ],
      "source": [
        "# Compare predicted classes with true classes and calculate accuracy\n",
        "accuracy_CS = np.mean(predicted_classes_CS == true_classes_CS)\n",
        "print(\"Accuracy (CS):\", accuracy_CS)"
      ]
    },
    {
      "cell_type": "code",
      "execution_count": null,
      "metadata": {
        "id": "9oCPIjf4lovn",
        "colab": {
          "base_uri": "https://localhost:8080/"
        },
        "outputId": "1ec3c66d-ea6a-4b9d-f564-334143e77e3a"
      },
      "outputs": [
        {
          "output_type": "stream",
          "name": "stdout",
          "text": [
            "Predicted Classes (CS): [ 0  1  2  3 47  5  6  7  8 33]\n",
            "True Classes (CS): [0 1 2 3 4 5 6 7 8 9]\n"
          ]
        }
      ],
      "source": [
        "# Print some of the predicted and true classes\n",
        "print(\"Predicted Classes (CS):\", predicted_classes_CS[:10])\n",
        "print(\"True Classes (CS):\", true_classes_CS[:10])"
      ]
    },
    {
      "cell_type": "code",
      "source": [
        "import matplotlib.pyplot as plt\n",
        "\n",
        "# Plot training vs validation loss\n",
        "plt.plot(history.history['loss'], label='Training Loss')\n",
        "plt.xlabel('Epoch')\n",
        "plt.ylabel('Loss')\n",
        "plt.title('Training vs Validation Loss')\n",
        "plt.legend()\n",
        "plt.show()\n"
      ],
      "metadata": {
        "id": "fJHX2VGNT_Y8",
        "colab": {
          "base_uri": "https://localhost:8080/",
          "height": 472
        },
        "outputId": "3a9d9d26-2245-4d1a-d9f7-dffe0e7aa9dc"
      },
      "execution_count": null,
      "outputs": [
        {
          "output_type": "display_data",
          "data": {
            "text/plain": [
              "<Figure size 640x480 with 1 Axes>"
            ],
            "image/png": "[encoded data removed]"
          },
          "metadata": {}
        }
      ]
    },
    {
      "cell_type": "markdown",
      "source": [],
      "metadata": {
        "id": "_0bKeo7Hf1Uw"
      }
    },
    {
      "cell_type": "code",
      "source": [
        "model3_CS.save('/content/drive/My Drive/dataset1/my_model_3_cs.keras')"
      ],
      "metadata": {
        "id": "TiD1XTqpM1Sh"
      },
      "execution_count": null,
      "outputs": []
    },
    {
      "cell_type": "code",
      "source": [
        "model3_CS.save('my_model3_cs.keras')"
      ],
      "metadata": {
        "id": "Z6UAr3VfNMy6"
      },
      "execution_count": null,
      "outputs": []
    },
    {
      "cell_type": "code",
      "execution_count": null,
      "metadata": {
        "id": "Q4FChbxACNus"
      },
      "outputs": [],
      "source": [
        "# Train the model\n",
        "#multi_cnn_model_CV.fit(x_train_CV, y_train_CV, validation_data=(x_valid_CV, y_valid_CV), epochs=150, batch_size=32)\n"
      ]
    },
    {
      "cell_type": "code",
      "source": [],
      "metadata": {
        "id": "TF14iNPDMW8g"
      },
      "execution_count": null,
      "outputs": []
    }
  ]
}