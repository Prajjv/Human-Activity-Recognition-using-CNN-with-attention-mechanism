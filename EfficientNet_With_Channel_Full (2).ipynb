{
  "cells": [
    {
      "cell_type": "code",
      "execution_count": null,
      "metadata": {
        "id": "ssNjisJBh7oa"
      },
      "outputs": [],
      "source": [
        "import numpy as np\n",
        "import h5py\n",
        "from sklearn.model_selection import train_test_split\n",
        "from keras.models import Sequential\n",
        "from keras.layers import LSTM, Dense\n",
        "from tensorflow.keras import layers, models"
      ]
    },
    {
      "cell_type": "code",
      "execution_count": null,
      "metadata": {
        "id": "f4-xFuMkmYu6"
      },
      "outputs": [],
      "source": [
        "num_classes = 60"
      ]
    },
    {
      "cell_type": "code",
      "execution_count": null,
      "metadata": {
        "colab": {
          "base_uri": "https://localhost:8080/"
        },
        "id": "gP7QODCvkAGu",
        "outputId": "e47592d9-d961-432e-92c6-b2cbfe01a072"
      },
      "outputs": [
        {
          "name": "stdout",
          "output_type": "stream",
          "text": [
            "Mounted at /content/drive\n"
          ]
        }
      ],
      "source": [
        "# Mount Google Drive to access files if necessary\n",
        "from google.colab import drive\n",
        "drive.mount('/content/drive')\n"
      ]
    },
    {
      "cell_type": "code",
      "execution_count": null,
      "metadata": {
        "id": "WWfi49aVkA0j"
      },
      "outputs": [],
      "source": [
        "# Path to your .h5 file in Google Drive\n",
        "file_path1 = '/content/drive/My Drive/dataset1/NTU_CS.h5'\n",
        "file_path2 = '/content/drive/My Drive/dataset1/NTU_CV.h5'\n"
      ]
    },
    {
      "cell_type": "code",
      "execution_count": null,
      "metadata": {
        "colab": {
          "base_uri": "https://localhost:8080/"
        },
        "id": "DrOZryGslQOM",
        "outputId": "68d641c1-1cab-4916-c136-ec76f8cf0a90"
      },
      "outputs": [
        {
          "name": "stdout",
          "output_type": "stream",
          "text": [
            "Keys in CS file: ['test_x', 'test_y', 'valid_x', 'valid_y', 'x', 'y']\n",
            "Keys in CV file: ['test_x', 'test_y', 'valid_x', 'valid_y', 'x', 'y']\n"
          ]
        }
      ],
      "source": [
        "# Load the NTU CS and CV datasets from .h5 files\n",
        "with h5py.File(file_path1, 'r') as cs_file, h5py.File(file_path2, 'r') as cv_file:\n",
        "    # List all keys in the files\n",
        "    print(\"Keys in CS file:\", list(cs_file.keys()))\n",
        "    print(\"Keys in CV file:\", list(cv_file.keys()))\n"
      ]
    },
    {
      "cell_type": "code",
      "execution_count": null,
      "metadata": {
        "colab": {
          "base_uri": "https://localhost:8080/",
          "height": 71
        },
        "id": "MwPR3LbnlkUO",
        "outputId": "d1252a4a-e199-4ce3-d975-c5a82881d982"
      },
      "outputs": [
        {
          "data": {
            "application/vnd.google.colaboratory.intrinsic+json": {
              "type": "string"
            },
            "text/plain": [
              "\"# Load the NTU CS and CV datasets from .h5 files\\nwith h5py.File(file_path1, 'r') as cs_file, h5py.File(file_path2, 'r') as cv_file:\\n    # Access the datasets using the keys\\n    cs_data = np.array(cs_file['x'])\\n    cs_labels = np.array(cs_file['y'])\\n    cv_data = np.array(cv_file['x'])\\n    cv_labels = np.array(cv_file['y'])\\n\""
            ]
          },
          "execution_count": 7,
          "metadata": {},
          "output_type": "execute_result"
        }
      ],
      "source": [
        "\"\"\"# Load the NTU CS and CV datasets from .h5 files\n",
        "with h5py.File(file_path1, 'r') as cs_file, h5py.File(file_path2, 'r') as cv_file:\n",
        "    # Access the datasets using the keys\n",
        "    cs_data = np.array(cs_file['x'])\n",
        "    cs_labels = np.array(cs_file['y'])\n",
        "    cv_data = np.array(cv_file['x'])\n",
        "    cv_labels = np.array(cv_file['y'])\n",
        "\"\"\""
      ]
    },
    {
      "cell_type": "code",
      "execution_count": null,
      "metadata": {
        "id": "XD7JPSS5xpH4"
      },
      "outputs": [],
      "source": [
        "# Load the NTU CS and CV datasets from .h5 files\n",
        "with h5py.File(file_path1, 'r') as cs_file, h5py.File(file_path2, 'r') as cv_file:\n",
        "    # Access the datasets using the keys\n",
        "    x_train_CS = np.array(cs_file['x'])\n",
        "    y_train_CS = np.array(cs_file['y'])\n",
        "    x_valid_CS = np.array(cs_file['valid_x'])\n",
        "    y_valid_CS = np.array(cs_file['valid_y'])\n",
        "    x_test_CS = np.array(cs_file['test_x'])\n",
        "    y_test_CS = np.array(cs_file['test_y'])\n",
        "\n",
        "    x_train_CV = np.array(cv_file['x'])\n",
        "    y_train_CV = np.array(cv_file['y'])\n",
        "    x_valid_CV = np.array(cv_file['valid_x'])\n",
        "    y_valid_CV = np.array(cv_file['valid_y'])\n",
        "    x_test_CV = np.array(cv_file['test_x'])\n",
        "    y_test_CV = np.array(cv_file['test_y'])\n",
        "\n"
      ]
    },
    {
      "cell_type": "code",
      "execution_count": null,
      "metadata": {
        "colab": {
          "base_uri": "https://localhost:8080/"
        },
        "id": "SoJ7JGwBVkSY",
        "outputId": "a84fadbf-7a21-4fd8-b11c-148dd5bd7643"
      },
      "outputs": [
        {
          "name": "stdout",
          "output_type": "stream",
          "text": [
            "Model: \"efficientnet_with_attention\"\n",
            "__________________________________________________________________________________________________\n",
            " Layer (type)                Output Shape                 Param #   Connected to                  \n",
            "==================================================================================================\n",
            " input_1 (InputLayer)        [(None, 300, 150, 1)]        0         []                            \n",
            "                                                                                                  \n",
            " conv1 (Conv2D)              (None, 150, 75, 64)          3200      ['input_1[0][0]']             \n",
            "                                                                                                  \n",
            " bn_conv1 (BatchNormalizati  (None, 150, 75, 64)          256       ['conv1[0][0]']               \n",
            " on)                                                                                              \n",
            "                                                                                                  \n",
            " activation (Activation)     (None, 150, 75, 64)          0         ['bn_conv1[0][0]']            \n",
            "                                                                                                  \n",
            " max_pooling2d (MaxPooling2  (None, 74, 37, 64)           0         ['activation[0][0]']          \n",
            " D)                                                                                               \n",
            "                                                                                                  \n",
            " res2_a_branch2a (Conv2D)    (None, 74, 37, 64)           36928     ['max_pooling2d[0][0]']       \n",
            "                                                                                                  \n",
            " bn2_a_branch2a (BatchNorma  (None, 74, 37, 64)           256       ['res2_a_branch2a[0][0]']     \n",
            " lization)                                                                                        \n",
            "                                                                                                  \n",
            " activation_1 (Activation)   (None, 74, 37, 64)           0         ['bn2_a_branch2a[0][0]']      \n",
            "                                                                                                  \n",
            " res2_a_branch2b (Conv2D)    (None, 74, 37, 64)           36928     ['activation_1[0][0]']        \n",
            "                                                                                                  \n",
            " res2_a_branch1 (Conv2D)     (None, 74, 37, 64)           4160      ['max_pooling2d[0][0]']       \n",
            "                                                                                                  \n",
            " bn2_a_branch2b (BatchNorma  (None, 74, 37, 64)           256       ['res2_a_branch2b[0][0]']     \n",
            " lization)                                                                                        \n",
            "                                                                                                  \n",
            " bn2_a_branch1 (BatchNormal  (None, 74, 37, 64)           256       ['res2_a_branch1[0][0]']      \n",
            " ization)                                                                                         \n",
            "                                                                                                  \n",
            " add (Add)                   (None, 74, 37, 64)           0         ['bn2_a_branch2b[0][0]',      \n",
            "                                                                     'bn2_a_branch1[0][0]']       \n",
            "                                                                                                  \n",
            " activation_2 (Activation)   (None, 74, 37, 64)           0         ['add[0][0]']                 \n",
            "                                                                                                  \n",
            " global_average_pooling2d (  (None, 64)                   0         ['activation_2[0][0]']        \n",
            " GlobalAveragePooling2D)                                                                          \n",
            "                                                                                                  \n",
            " global_max_pooling2d (Glob  (None, 64)                   0         ['activation_2[0][0]']        \n",
            " alMaxPooling2D)                                                                                  \n",
            "                                                                                                  \n",
            " dense (Dense)               (None, 4)                    260       ['global_average_pooling2d[0][\n",
            "                                                                    0]']                          \n",
            "                                                                                                  \n",
            " dense_2 (Dense)             (None, 4)                    260       ['global_max_pooling2d[0][0]']\n",
            "                                                                                                  \n",
            " dense_1 (Dense)             (None, 64)                   320       ['dense[0][0]']               \n",
            "                                                                                                  \n",
            " dense_3 (Dense)             (None, 64)                   320       ['dense_2[0][0]']             \n",
            "                                                                                                  \n",
            " reshape (Reshape)           (None, 1, 1, 64)             0         ['dense_1[0][0]']             \n",
            "                                                                                                  \n",
            " reshape_1 (Reshape)         (None, 1, 1, 64)             0         ['dense_3[0][0]']             \n",
            "                                                                                                  \n",
            " add_1 (Add)                 (None, 1, 1, 64)             0         ['reshape[0][0]',             \n",
            "                                                                     'reshape_1[0][0]']           \n",
            "                                                                                                  \n",
            " activation_3 (Activation)   (None, 1, 1, 64)             0         ['add_1[0][0]']               \n",
            "                                                                                                  \n",
            " multiply (Multiply)         (None, 74, 37, 64)           0         ['activation_2[0][0]',        \n",
            "                                                                     'activation_3[0][0]']        \n",
            "                                                                                                  \n",
            " res2_b_branch2a (Conv2D)    (None, 74, 37, 64)           36928     ['multiply[0][0]']            \n",
            "                                                                                                  \n",
            " bn2_b_branch2a (BatchNorma  (None, 74, 37, 64)           256       ['res2_b_branch2a[0][0]']     \n",
            " lization)                                                                                        \n",
            "                                                                                                  \n",
            " activation_4 (Activation)   (None, 74, 37, 64)           0         ['bn2_b_branch2a[0][0]']      \n",
            "                                                                                                  \n",
            " res2_b_branch2b (Conv2D)    (None, 74, 37, 64)           36928     ['activation_4[0][0]']        \n",
            "                                                                                                  \n",
            " res2_b_branch1 (Conv2D)     (None, 74, 37, 64)           4160      ['multiply[0][0]']            \n",
            "                                                                                                  \n",
            " bn2_b_branch2b (BatchNorma  (None, 74, 37, 64)           256       ['res2_b_branch2b[0][0]']     \n",
            " lization)                                                                                        \n",
            "                                                                                                  \n",
            " bn2_b_branch1 (BatchNormal  (None, 74, 37, 64)           256       ['res2_b_branch1[0][0]']      \n",
            " ization)                                                                                         \n",
            "                                                                                                  \n",
            " add_2 (Add)                 (None, 74, 37, 64)           0         ['bn2_b_branch2b[0][0]',      \n",
            "                                                                     'bn2_b_branch1[0][0]']       \n",
            "                                                                                                  \n",
            " activation_5 (Activation)   (None, 74, 37, 64)           0         ['add_2[0][0]']               \n",
            "                                                                                                  \n",
            " global_average_pooling2d_1  (None, 64)                   0         ['activation_5[0][0]']        \n",
            "  (GlobalAveragePooling2D)                                                                        \n",
            "                                                                                                  \n",
            " global_max_pooling2d_1 (Gl  (None, 64)                   0         ['activation_5[0][0]']        \n",
            " obalMaxPooling2D)                                                                                \n",
            "                                                                                                  \n",
            " dense_4 (Dense)             (None, 4)                    260       ['global_average_pooling2d_1[0\n",
            "                                                                    ][0]']                        \n",
            "                                                                                                  \n",
            " dense_6 (Dense)             (None, 4)                    260       ['global_max_pooling2d_1[0][0]\n",
            "                                                                    ']                            \n",
            "                                                                                                  \n",
            " dense_5 (Dense)             (None, 64)                   320       ['dense_4[0][0]']             \n",
            "                                                                                                  \n",
            " dense_7 (Dense)             (None, 64)                   320       ['dense_6[0][0]']             \n",
            "                                                                                                  \n",
            " reshape_2 (Reshape)         (None, 1, 1, 64)             0         ['dense_5[0][0]']             \n",
            "                                                                                                  \n",
            " reshape_3 (Reshape)         (None, 1, 1, 64)             0         ['dense_7[0][0]']             \n",
            "                                                                                                  \n",
            " add_3 (Add)                 (None, 1, 1, 64)             0         ['reshape_2[0][0]',           \n",
            "                                                                     'reshape_3[0][0]']           \n",
            "                                                                                                  \n",
            " activation_6 (Activation)   (None, 1, 1, 64)             0         ['add_3[0][0]']               \n",
            "                                                                                                  \n",
            " multiply_1 (Multiply)       (None, 74, 37, 64)           0         ['activation_5[0][0]',        \n",
            "                                                                     'activation_6[0][0]']        \n",
            "                                                                                                  \n",
            " res2_c_branch2a (Conv2D)    (None, 74, 37, 64)           36928     ['multiply_1[0][0]']          \n",
            "                                                                                                  \n",
            " bn2_c_branch2a (BatchNorma  (None, 74, 37, 64)           256       ['res2_c_branch2a[0][0]']     \n",
            " lization)                                                                                        \n",
            "                                                                                                  \n",
            " activation_7 (Activation)   (None, 74, 37, 64)           0         ['bn2_c_branch2a[0][0]']      \n",
            "                                                                                                  \n",
            " res2_c_branch2b (Conv2D)    (None, 74, 37, 64)           36928     ['activation_7[0][0]']        \n",
            "                                                                                                  \n",
            " res2_c_branch1 (Conv2D)     (None, 74, 37, 64)           4160      ['multiply_1[0][0]']          \n",
            "                                                                                                  \n",
            " bn2_c_branch2b (BatchNorma  (None, 74, 37, 64)           256       ['res2_c_branch2b[0][0]']     \n",
            " lization)                                                                                        \n",
            "                                                                                                  \n",
            " bn2_c_branch1 (BatchNormal  (None, 74, 37, 64)           256       ['res2_c_branch1[0][0]']      \n",
            " ization)                                                                                         \n",
            "                                                                                                  \n",
            " add_4 (Add)                 (None, 74, 37, 64)           0         ['bn2_c_branch2b[0][0]',      \n",
            "                                                                     'bn2_c_branch1[0][0]']       \n",
            "                                                                                                  \n",
            " activation_8 (Activation)   (None, 74, 37, 64)           0         ['add_4[0][0]']               \n",
            "                                                                                                  \n",
            " global_average_pooling2d_2  (None, 64)                   0         ['activation_8[0][0]']        \n",
            "  (GlobalAveragePooling2D)                                                                        \n",
            "                                                                                                  \n",
            " global_max_pooling2d_2 (Gl  (None, 64)                   0         ['activation_8[0][0]']        \n",
            " obalMaxPooling2D)                                                                                \n",
            "                                                                                                  \n",
            " dense_8 (Dense)             (None, 4)                    260       ['global_average_pooling2d_2[0\n",
            "                                                                    ][0]']                        \n",
            "                                                                                                  \n",
            " dense_10 (Dense)            (None, 4)                    260       ['global_max_pooling2d_2[0][0]\n",
            "                                                                    ']                            \n",
            "                                                                                                  \n",
            " dense_9 (Dense)             (None, 64)                   320       ['dense_8[0][0]']             \n",
            "                                                                                                  \n",
            " dense_11 (Dense)            (None, 64)                   320       ['dense_10[0][0]']            \n",
            "                                                                                                  \n",
            " reshape_4 (Reshape)         (None, 1, 1, 64)             0         ['dense_9[0][0]']             \n",
            "                                                                                                  \n",
            " reshape_5 (Reshape)         (None, 1, 1, 64)             0         ['dense_11[0][0]']            \n",
            "                                                                                                  \n",
            " add_5 (Add)                 (None, 1, 1, 64)             0         ['reshape_4[0][0]',           \n",
            "                                                                     'reshape_5[0][0]']           \n",
            "                                                                                                  \n",
            " activation_9 (Activation)   (None, 1, 1, 64)             0         ['add_5[0][0]']               \n",
            "                                                                                                  \n",
            " multiply_2 (Multiply)       (None, 74, 37, 64)           0         ['activation_8[0][0]',        \n",
            "                                                                     'activation_9[0][0]']        \n",
            "                                                                                                  \n",
            " res3_a_branch2a (Conv2D)    (None, 37, 19, 128)          73856     ['multiply_2[0][0]']          \n",
            "                                                                                                  \n",
            " bn3_a_branch2a (BatchNorma  (None, 37, 19, 128)          512       ['res3_a_branch2a[0][0]']     \n",
            " lization)                                                                                        \n",
            "                                                                                                  \n",
            " activation_10 (Activation)  (None, 37, 19, 128)          0         ['bn3_a_branch2a[0][0]']      \n",
            "                                                                                                  \n",
            " res3_a_branch2b (Conv2D)    (None, 37, 19, 128)          147584    ['activation_10[0][0]']       \n",
            "                                                                                                  \n",
            " res3_a_branch1 (Conv2D)     (None, 37, 19, 128)          8320      ['multiply_2[0][0]']          \n",
            "                                                                                                  \n",
            " bn3_a_branch2b (BatchNorma  (None, 37, 19, 128)          512       ['res3_a_branch2b[0][0]']     \n",
            " lization)                                                                                        \n",
            "                                                                                                  \n",
            " bn3_a_branch1 (BatchNormal  (None, 37, 19, 128)          512       ['res3_a_branch1[0][0]']      \n",
            " ization)                                                                                         \n",
            "                                                                                                  \n",
            " add_6 (Add)                 (None, 37, 19, 128)          0         ['bn3_a_branch2b[0][0]',      \n",
            "                                                                     'bn3_a_branch1[0][0]']       \n",
            "                                                                                                  \n",
            " activation_11 (Activation)  (None, 37, 19, 128)          0         ['add_6[0][0]']               \n",
            "                                                                                                  \n",
            " global_average_pooling2d_3  (None, 128)                  0         ['activation_11[0][0]']       \n",
            "  (GlobalAveragePooling2D)                                                                        \n",
            "                                                                                                  \n",
            " global_max_pooling2d_3 (Gl  (None, 128)                  0         ['activation_11[0][0]']       \n",
            " obalMaxPooling2D)                                                                                \n",
            "                                                                                                  \n",
            " dense_12 (Dense)            (None, 8)                    1032      ['global_average_pooling2d_3[0\n",
            "                                                                    ][0]']                        \n",
            "                                                                                                  \n",
            " dense_14 (Dense)            (None, 8)                    1032      ['global_max_pooling2d_3[0][0]\n",
            "                                                                    ']                            \n",
            "                                                                                                  \n",
            " dense_13 (Dense)            (None, 128)                  1152      ['dense_12[0][0]']            \n",
            "                                                                                                  \n",
            " dense_15 (Dense)            (None, 128)                  1152      ['dense_14[0][0]']            \n",
            "                                                                                                  \n",
            " reshape_6 (Reshape)         (None, 1, 1, 128)            0         ['dense_13[0][0]']            \n",
            "                                                                                                  \n",
            " reshape_7 (Reshape)         (None, 1, 1, 128)            0         ['dense_15[0][0]']            \n",
            "                                                                                                  \n",
            " add_7 (Add)                 (None, 1, 1, 128)            0         ['reshape_6[0][0]',           \n",
            "                                                                     'reshape_7[0][0]']           \n",
            "                                                                                                  \n",
            " activation_12 (Activation)  (None, 1, 1, 128)            0         ['add_7[0][0]']               \n",
            "                                                                                                  \n",
            " multiply_3 (Multiply)       (None, 37, 19, 128)          0         ['activation_11[0][0]',       \n",
            "                                                                     'activation_12[0][0]']       \n",
            "                                                                                                  \n",
            " res3_b_branch2a (Conv2D)    (None, 37, 19, 128)          147584    ['multiply_3[0][0]']          \n",
            "                                                                                                  \n",
            " bn3_b_branch2a (BatchNorma  (None, 37, 19, 128)          512       ['res3_b_branch2a[0][0]']     \n",
            " lization)                                                                                        \n",
            "                                                                                                  \n",
            " activation_13 (Activation)  (None, 37, 19, 128)          0         ['bn3_b_branch2a[0][0]']      \n",
            "                                                                                                  \n",
            " res3_b_branch2b (Conv2D)    (None, 37, 19, 128)          147584    ['activation_13[0][0]']       \n",
            "                                                                                                  \n",
            " res3_b_branch1 (Conv2D)     (None, 37, 19, 128)          16512     ['multiply_3[0][0]']          \n",
            "                                                                                                  \n",
            " bn3_b_branch2b (BatchNorma  (None, 37, 19, 128)          512       ['res3_b_branch2b[0][0]']     \n",
            " lization)                                                                                        \n",
            "                                                                                                  \n",
            " bn3_b_branch1 (BatchNormal  (None, 37, 19, 128)          512       ['res3_b_branch1[0][0]']      \n",
            " ization)                                                                                         \n",
            "                                                                                                  \n",
            " add_8 (Add)                 (None, 37, 19, 128)          0         ['bn3_b_branch2b[0][0]',      \n",
            "                                                                     'bn3_b_branch1[0][0]']       \n",
            "                                                                                                  \n",
            " activation_14 (Activation)  (None, 37, 19, 128)          0         ['add_8[0][0]']               \n",
            "                                                                                                  \n",
            " global_average_pooling2d_4  (None, 128)                  0         ['activation_14[0][0]']       \n",
            "  (GlobalAveragePooling2D)                                                                        \n",
            "                                                                                                  \n",
            " global_max_pooling2d_4 (Gl  (None, 128)                  0         ['activation_14[0][0]']       \n",
            " obalMaxPooling2D)                                                                                \n",
            "                                                                                                  \n",
            " dense_16 (Dense)            (None, 8)                    1032      ['global_average_pooling2d_4[0\n",
            "                                                                    ][0]']                        \n",
            "                                                                                                  \n",
            " dense_18 (Dense)            (None, 8)                    1032      ['global_max_pooling2d_4[0][0]\n",
            "                                                                    ']                            \n",
            "                                                                                                  \n",
            " dense_17 (Dense)            (None, 128)                  1152      ['dense_16[0][0]']            \n",
            "                                                                                                  \n",
            " dense_19 (Dense)            (None, 128)                  1152      ['dense_18[0][0]']            \n",
            "                                                                                                  \n",
            " reshape_8 (Reshape)         (None, 1, 1, 128)            0         ['dense_17[0][0]']            \n",
            "                                                                                                  \n",
            " reshape_9 (Reshape)         (None, 1, 1, 128)            0         ['dense_19[0][0]']            \n",
            "                                                                                                  \n",
            " add_9 (Add)                 (None, 1, 1, 128)            0         ['reshape_8[0][0]',           \n",
            "                                                                     'reshape_9[0][0]']           \n",
            "                                                                                                  \n",
            " activation_15 (Activation)  (None, 1, 1, 128)            0         ['add_9[0][0]']               \n",
            "                                                                                                  \n",
            " multiply_4 (Multiply)       (None, 37, 19, 128)          0         ['activation_14[0][0]',       \n",
            "                                                                     'activation_15[0][0]']       \n",
            "                                                                                                  \n",
            " res3_c_branch2a (Conv2D)    (None, 37, 19, 128)          147584    ['multiply_4[0][0]']          \n",
            "                                                                                                  \n",
            " bn3_c_branch2a (BatchNorma  (None, 37, 19, 128)          512       ['res3_c_branch2a[0][0]']     \n",
            " lization)                                                                                        \n",
            "                                                                                                  \n",
            " activation_16 (Activation)  (None, 37, 19, 128)          0         ['bn3_c_branch2a[0][0]']      \n",
            "                                                                                                  \n",
            " res3_c_branch2b (Conv2D)    (None, 37, 19, 128)          147584    ['activation_16[0][0]']       \n",
            "                                                                                                  \n",
            " res3_c_branch1 (Conv2D)     (None, 37, 19, 128)          16512     ['multiply_4[0][0]']          \n",
            "                                                                                                  \n",
            " bn3_c_branch2b (BatchNorma  (None, 37, 19, 128)          512       ['res3_c_branch2b[0][0]']     \n",
            " lization)                                                                                        \n",
            "                                                                                                  \n",
            " bn3_c_branch1 (BatchNormal  (None, 37, 19, 128)          512       ['res3_c_branch1[0][0]']      \n",
            " ization)                                                                                         \n",
            "                                                                                                  \n",
            " add_10 (Add)                (None, 37, 19, 128)          0         ['bn3_c_branch2b[0][0]',      \n",
            "                                                                     'bn3_c_branch1[0][0]']       \n",
            "                                                                                                  \n",
            " activation_17 (Activation)  (None, 37, 19, 128)          0         ['add_10[0][0]']              \n",
            "                                                                                                  \n",
            " global_average_pooling2d_5  (None, 128)                  0         ['activation_17[0][0]']       \n",
            "  (GlobalAveragePooling2D)                                                                        \n",
            "                                                                                                  \n",
            " global_max_pooling2d_5 (Gl  (None, 128)                  0         ['activation_17[0][0]']       \n",
            " obalMaxPooling2D)                                                                                \n",
            "                                                                                                  \n",
            " dense_20 (Dense)            (None, 8)                    1032      ['global_average_pooling2d_5[0\n",
            "                                                                    ][0]']                        \n",
            "                                                                                                  \n",
            " dense_22 (Dense)            (None, 8)                    1032      ['global_max_pooling2d_5[0][0]\n",
            "                                                                    ']                            \n",
            "                                                                                                  \n",
            " dense_21 (Dense)            (None, 128)                  1152      ['dense_20[0][0]']            \n",
            "                                                                                                  \n",
            " dense_23 (Dense)            (None, 128)                  1152      ['dense_22[0][0]']            \n",
            "                                                                                                  \n",
            " reshape_10 (Reshape)        (None, 1, 1, 128)            0         ['dense_21[0][0]']            \n",
            "                                                                                                  \n",
            " reshape_11 (Reshape)        (None, 1, 1, 128)            0         ['dense_23[0][0]']            \n",
            "                                                                                                  \n",
            " add_11 (Add)                (None, 1, 1, 128)            0         ['reshape_10[0][0]',          \n",
            "                                                                     'reshape_11[0][0]']          \n",
            "                                                                                                  \n",
            " activation_18 (Activation)  (None, 1, 1, 128)            0         ['add_11[0][0]']              \n",
            "                                                                                                  \n",
            " multiply_5 (Multiply)       (None, 37, 19, 128)          0         ['activation_17[0][0]',       \n",
            "                                                                     'activation_18[0][0]']       \n",
            "                                                                                                  \n",
            " res3_d_branch2a (Conv2D)    (None, 37, 19, 128)          147584    ['multiply_5[0][0]']          \n",
            "                                                                                                  \n",
            " bn3_d_branch2a (BatchNorma  (None, 37, 19, 128)          512       ['res3_d_branch2a[0][0]']     \n",
            " lization)                                                                                        \n",
            "                                                                                                  \n",
            " activation_19 (Activation)  (None, 37, 19, 128)          0         ['bn3_d_branch2a[0][0]']      \n",
            "                                                                                                  \n",
            " res3_d_branch2b (Conv2D)    (None, 37, 19, 128)          147584    ['activation_19[0][0]']       \n",
            "                                                                                                  \n",
            " res3_d_branch1 (Conv2D)     (None, 37, 19, 128)          16512     ['multiply_5[0][0]']          \n",
            "                                                                                                  \n",
            " bn3_d_branch2b (BatchNorma  (None, 37, 19, 128)          512       ['res3_d_branch2b[0][0]']     \n",
            " lization)                                                                                        \n",
            "                                                                                                  \n",
            " bn3_d_branch1 (BatchNormal  (None, 37, 19, 128)          512       ['res3_d_branch1[0][0]']      \n",
            " ization)                                                                                         \n",
            "                                                                                                  \n",
            " add_12 (Add)                (None, 37, 19, 128)          0         ['bn3_d_branch2b[0][0]',      \n",
            "                                                                     'bn3_d_branch1[0][0]']       \n",
            "                                                                                                  \n",
            " activation_20 (Activation)  (None, 37, 19, 128)          0         ['add_12[0][0]']              \n",
            "                                                                                                  \n",
            " global_average_pooling2d_6  (None, 128)                  0         ['activation_20[0][0]']       \n",
            "  (GlobalAveragePooling2D)                                                                        \n",
            "                                                                                                  \n",
            " global_max_pooling2d_6 (Gl  (None, 128)                  0         ['activation_20[0][0]']       \n",
            " obalMaxPooling2D)                                                                                \n",
            "                                                                                                  \n",
            " dense_24 (Dense)            (None, 8)                    1032      ['global_average_pooling2d_6[0\n",
            "                                                                    ][0]']                        \n",
            "                                                                                                  \n",
            " dense_26 (Dense)            (None, 8)                    1032      ['global_max_pooling2d_6[0][0]\n",
            "                                                                    ']                            \n",
            "                                                                                                  \n",
            " dense_25 (Dense)            (None, 128)                  1152      ['dense_24[0][0]']            \n",
            "                                                                                                  \n",
            " dense_27 (Dense)            (None, 128)                  1152      ['dense_26[0][0]']            \n",
            "                                                                                                  \n",
            " reshape_12 (Reshape)        (None, 1, 1, 128)            0         ['dense_25[0][0]']            \n",
            "                                                                                                  \n",
            " reshape_13 (Reshape)        (None, 1, 1, 128)            0         ['dense_27[0][0]']            \n",
            "                                                                                                  \n",
            " add_13 (Add)                (None, 1, 1, 128)            0         ['reshape_12[0][0]',          \n",
            "                                                                     'reshape_13[0][0]']          \n",
            "                                                                                                  \n",
            " activation_21 (Activation)  (None, 1, 1, 128)            0         ['add_13[0][0]']              \n",
            "                                                                                                  \n",
            " multiply_6 (Multiply)       (None, 37, 19, 128)          0         ['activation_20[0][0]',       \n",
            "                                                                     'activation_21[0][0]']       \n",
            "                                                                                                  \n",
            " res4_a_branch2a (Conv2D)    (None, 19, 10, 256)          295168    ['multiply_6[0][0]']          \n",
            "                                                                                                  \n",
            " bn4_a_branch2a (BatchNorma  (None, 19, 10, 256)          1024      ['res4_a_branch2a[0][0]']     \n",
            " lization)                                                                                        \n",
            "                                                                                                  \n",
            " activation_22 (Activation)  (None, 19, 10, 256)          0         ['bn4_a_branch2a[0][0]']      \n",
            "                                                                                                  \n",
            " res4_a_branch2b (Conv2D)    (None, 19, 10, 256)          590080    ['activation_22[0][0]']       \n",
            "                                                                                                  \n",
            " res4_a_branch1 (Conv2D)     (None, 19, 10, 256)          33024     ['multiply_6[0][0]']          \n",
            "                                                                                                  \n",
            " bn4_a_branch2b (BatchNorma  (None, 19, 10, 256)          1024      ['res4_a_branch2b[0][0]']     \n",
            " lization)                                                                                        \n",
            "                                                                                                  \n",
            " bn4_a_branch1 (BatchNormal  (None, 19, 10, 256)          1024      ['res4_a_branch1[0][0]']      \n",
            " ization)                                                                                         \n",
            "                                                                                                  \n",
            " add_14 (Add)                (None, 19, 10, 256)          0         ['bn4_a_branch2b[0][0]',      \n",
            "                                                                     'bn4_a_branch1[0][0]']       \n",
            "                                                                                                  \n",
            " activation_23 (Activation)  (None, 19, 10, 256)          0         ['add_14[0][0]']              \n",
            "                                                                                                  \n",
            " global_average_pooling2d_7  (None, 256)                  0         ['activation_23[0][0]']       \n",
            "  (GlobalAveragePooling2D)                                                                        \n",
            "                                                                                                  \n",
            " global_max_pooling2d_7 (Gl  (None, 256)                  0         ['activation_23[0][0]']       \n",
            " obalMaxPooling2D)                                                                                \n",
            "                                                                                                  \n",
            " dense_28 (Dense)            (None, 16)                   4112      ['global_average_pooling2d_7[0\n",
            "                                                                    ][0]']                        \n",
            "                                                                                                  \n",
            " dense_30 (Dense)            (None, 16)                   4112      ['global_max_pooling2d_7[0][0]\n",
            "                                                                    ']                            \n",
            "                                                                                                  \n",
            " dense_29 (Dense)            (None, 256)                  4352      ['dense_28[0][0]']            \n",
            "                                                                                                  \n",
            " dense_31 (Dense)            (None, 256)                  4352      ['dense_30[0][0]']            \n",
            "                                                                                                  \n",
            " reshape_14 (Reshape)        (None, 1, 1, 256)            0         ['dense_29[0][0]']            \n",
            "                                                                                                  \n",
            " reshape_15 (Reshape)        (None, 1, 1, 256)            0         ['dense_31[0][0]']            \n",
            "                                                                                                  \n",
            " add_15 (Add)                (None, 1, 1, 256)            0         ['reshape_14[0][0]',          \n",
            "                                                                     'reshape_15[0][0]']          \n",
            "                                                                                                  \n",
            " activation_24 (Activation)  (None, 1, 1, 256)            0         ['add_15[0][0]']              \n",
            "                                                                                                  \n",
            " multiply_7 (Multiply)       (None, 19, 10, 256)          0         ['activation_23[0][0]',       \n",
            "                                                                     'activation_24[0][0]']       \n",
            "                                                                                                  \n",
            " res4_b_branch2a (Conv2D)    (None, 19, 10, 256)          590080    ['multiply_7[0][0]']          \n",
            "                                                                                                  \n",
            " bn4_b_branch2a (BatchNorma  (None, 19, 10, 256)          1024      ['res4_b_branch2a[0][0]']     \n",
            " lization)                                                                                        \n",
            "                                                                                                  \n",
            " activation_25 (Activation)  (None, 19, 10, 256)          0         ['bn4_b_branch2a[0][0]']      \n",
            "                                                                                                  \n",
            " res4_b_branch2b (Conv2D)    (None, 19, 10, 256)          590080    ['activation_25[0][0]']       \n",
            "                                                                                                  \n",
            " res4_b_branch1 (Conv2D)     (None, 19, 10, 256)          65792     ['multiply_7[0][0]']          \n",
            "                                                                                                  \n",
            " bn4_b_branch2b (BatchNorma  (None, 19, 10, 256)          1024      ['res4_b_branch2b[0][0]']     \n",
            " lization)                                                                                        \n",
            "                                                                                                  \n",
            " bn4_b_branch1 (BatchNormal  (None, 19, 10, 256)          1024      ['res4_b_branch1[0][0]']      \n",
            " ization)                                                                                         \n",
            "                                                                                                  \n",
            " add_16 (Add)                (None, 19, 10, 256)          0         ['bn4_b_branch2b[0][0]',      \n",
            "                                                                     'bn4_b_branch1[0][0]']       \n",
            "                                                                                                  \n",
            " activation_26 (Activation)  (None, 19, 10, 256)          0         ['add_16[0][0]']              \n",
            "                                                                                                  \n",
            " global_average_pooling2d_8  (None, 256)                  0         ['activation_26[0][0]']       \n",
            "  (GlobalAveragePooling2D)                                                                        \n",
            "                                                                                                  \n",
            " global_max_pooling2d_8 (Gl  (None, 256)                  0         ['activation_26[0][0]']       \n",
            " obalMaxPooling2D)                                                                                \n",
            "                                                                                                  \n",
            " dense_32 (Dense)            (None, 16)                   4112      ['global_average_pooling2d_8[0\n",
            "                                                                    ][0]']                        \n",
            "                                                                                                  \n",
            " dense_34 (Dense)            (None, 16)                   4112      ['global_max_pooling2d_8[0][0]\n",
            "                                                                    ']                            \n",
            "                                                                                                  \n",
            " dense_33 (Dense)            (None, 256)                  4352      ['dense_32[0][0]']            \n",
            "                                                                                                  \n",
            " dense_35 (Dense)            (None, 256)                  4352      ['dense_34[0][0]']            \n",
            "                                                                                                  \n",
            " reshape_16 (Reshape)        (None, 1, 1, 256)            0         ['dense_33[0][0]']            \n",
            "                                                                                                  \n",
            " reshape_17 (Reshape)        (None, 1, 1, 256)            0         ['dense_35[0][0]']            \n",
            "                                                                                                  \n",
            " add_17 (Add)                (None, 1, 1, 256)            0         ['reshape_16[0][0]',          \n",
            "                                                                     'reshape_17[0][0]']          \n",
            "                                                                                                  \n",
            " activation_27 (Activation)  (None, 1, 1, 256)            0         ['add_17[0][0]']              \n",
            "                                                                                                  \n",
            " multiply_8 (Multiply)       (None, 19, 10, 256)          0         ['activation_26[0][0]',       \n",
            "                                                                     'activation_27[0][0]']       \n",
            "                                                                                                  \n",
            " res4_c_branch2a (Conv2D)    (None, 19, 10, 256)          590080    ['multiply_8[0][0]']          \n",
            "                                                                                                  \n",
            " bn4_c_branch2a (BatchNorma  (None, 19, 10, 256)          1024      ['res4_c_branch2a[0][0]']     \n",
            " lization)                                                                                        \n",
            "                                                                                                  \n",
            " activation_28 (Activation)  (None, 19, 10, 256)          0         ['bn4_c_branch2a[0][0]']      \n",
            "                                                                                                  \n",
            " res4_c_branch2b (Conv2D)    (None, 19, 10, 256)          590080    ['activation_28[0][0]']       \n",
            "                                                                                                  \n",
            " res4_c_branch1 (Conv2D)     (None, 19, 10, 256)          65792     ['multiply_8[0][0]']          \n",
            "                                                                                                  \n",
            " bn4_c_branch2b (BatchNorma  (None, 19, 10, 256)          1024      ['res4_c_branch2b[0][0]']     \n",
            " lization)                                                                                        \n",
            "                                                                                                  \n",
            " bn4_c_branch1 (BatchNormal  (None, 19, 10, 256)          1024      ['res4_c_branch1[0][0]']      \n",
            " ization)                                                                                         \n",
            "                                                                                                  \n",
            " add_18 (Add)                (None, 19, 10, 256)          0         ['bn4_c_branch2b[0][0]',      \n",
            "                                                                     'bn4_c_branch1[0][0]']       \n",
            "                                                                                                  \n",
            " activation_29 (Activation)  (None, 19, 10, 256)          0         ['add_18[0][0]']              \n",
            "                                                                                                  \n",
            " global_average_pooling2d_9  (None, 256)                  0         ['activation_29[0][0]']       \n",
            "  (GlobalAveragePooling2D)                                                                        \n",
            "                                                                                                  \n",
            " global_max_pooling2d_9 (Gl  (None, 256)                  0         ['activation_29[0][0]']       \n",
            " obalMaxPooling2D)                                                                                \n",
            "                                                                                                  \n",
            " dense_36 (Dense)            (None, 16)                   4112      ['global_average_pooling2d_9[0\n",
            "                                                                    ][0]']                        \n",
            "                                                                                                  \n",
            " dense_38 (Dense)            (None, 16)                   4112      ['global_max_pooling2d_9[0][0]\n",
            "                                                                    ']                            \n",
            "                                                                                                  \n",
            " dense_37 (Dense)            (None, 256)                  4352      ['dense_36[0][0]']            \n",
            "                                                                                                  \n",
            " dense_39 (Dense)            (None, 256)                  4352      ['dense_38[0][0]']            \n",
            "                                                                                                  \n",
            " reshape_18 (Reshape)        (None, 1, 1, 256)            0         ['dense_37[0][0]']            \n",
            "                                                                                                  \n",
            " reshape_19 (Reshape)        (None, 1, 1, 256)            0         ['dense_39[0][0]']            \n",
            "                                                                                                  \n",
            " add_19 (Add)                (None, 1, 1, 256)            0         ['reshape_18[0][0]',          \n",
            "                                                                     'reshape_19[0][0]']          \n",
            "                                                                                                  \n",
            " activation_30 (Activation)  (None, 1, 1, 256)            0         ['add_19[0][0]']              \n",
            "                                                                                                  \n",
            " multiply_9 (Multiply)       (None, 19, 10, 256)          0         ['activation_29[0][0]',       \n",
            "                                                                     'activation_30[0][0]']       \n",
            "                                                                                                  \n",
            " res4_d_branch2a (Conv2D)    (None, 19, 10, 256)          590080    ['multiply_9[0][0]']          \n",
            "                                                                                                  \n",
            " bn4_d_branch2a (BatchNorma  (None, 19, 10, 256)          1024      ['res4_d_branch2a[0][0]']     \n",
            " lization)                                                                                        \n",
            "                                                                                                  \n",
            " activation_31 (Activation)  (None, 19, 10, 256)          0         ['bn4_d_branch2a[0][0]']      \n",
            "                                                                                                  \n",
            " res4_d_branch2b (Conv2D)    (None, 19, 10, 256)          590080    ['activation_31[0][0]']       \n",
            "                                                                                                  \n",
            " res4_d_branch1 (Conv2D)     (None, 19, 10, 256)          65792     ['multiply_9[0][0]']          \n",
            "                                                                                                  \n",
            " bn4_d_branch2b (BatchNorma  (None, 19, 10, 256)          1024      ['res4_d_branch2b[0][0]']     \n",
            " lization)                                                                                        \n",
            "                                                                                                  \n",
            " bn4_d_branch1 (BatchNormal  (None, 19, 10, 256)          1024      ['res4_d_branch1[0][0]']      \n",
            " ization)                                                                                         \n",
            "                                                                                                  \n",
            " add_20 (Add)                (None, 19, 10, 256)          0         ['bn4_d_branch2b[0][0]',      \n",
            "                                                                     'bn4_d_branch1[0][0]']       \n",
            "                                                                                                  \n",
            " activation_32 (Activation)  (None, 19, 10, 256)          0         ['add_20[0][0]']              \n",
            "                                                                                                  \n",
            " global_average_pooling2d_1  (None, 256)                  0         ['activation_32[0][0]']       \n",
            " 0 (GlobalAveragePooling2D)                                                                       \n",
            "                                                                                                  \n",
            " global_max_pooling2d_10 (G  (None, 256)                  0         ['activation_32[0][0]']       \n",
            " lobalMaxPooling2D)                                                                               \n",
            "                                                                                                  \n",
            " dense_40 (Dense)            (None, 16)                   4112      ['global_average_pooling2d_10[\n",
            "                                                                    0][0]']                       \n",
            "                                                                                                  \n",
            " dense_42 (Dense)            (None, 16)                   4112      ['global_max_pooling2d_10[0][0\n",
            "                                                                    ]']                           \n",
            "                                                                                                  \n",
            " dense_41 (Dense)            (None, 256)                  4352      ['dense_40[0][0]']            \n",
            "                                                                                                  \n",
            " dense_43 (Dense)            (None, 256)                  4352      ['dense_42[0][0]']            \n",
            "                                                                                                  \n",
            " reshape_20 (Reshape)        (None, 1, 1, 256)            0         ['dense_41[0][0]']            \n",
            "                                                                                                  \n",
            " reshape_21 (Reshape)        (None, 1, 1, 256)            0         ['dense_43[0][0]']            \n",
            "                                                                                                  \n",
            " add_21 (Add)                (None, 1, 1, 256)            0         ['reshape_20[0][0]',          \n",
            "                                                                     'reshape_21[0][0]']          \n",
            "                                                                                                  \n",
            " activation_33 (Activation)  (None, 1, 1, 256)            0         ['add_21[0][0]']              \n",
            "                                                                                                  \n",
            " multiply_10 (Multiply)      (None, 19, 10, 256)          0         ['activation_32[0][0]',       \n",
            "                                                                     'activation_33[0][0]']       \n",
            "                                                                                                  \n",
            " res4_e_branch2a (Conv2D)    (None, 19, 10, 256)          590080    ['multiply_10[0][0]']         \n",
            "                                                                                                  \n",
            " bn4_e_branch2a (BatchNorma  (None, 19, 10, 256)          1024      ['res4_e_branch2a[0][0]']     \n",
            " lization)                                                                                        \n",
            "                                                                                                  \n",
            " activation_34 (Activation)  (None, 19, 10, 256)          0         ['bn4_e_branch2a[0][0]']      \n",
            "                                                                                                  \n",
            " res4_e_branch2b (Conv2D)    (None, 19, 10, 256)          590080    ['activation_34[0][0]']       \n",
            "                                                                                                  \n",
            " res4_e_branch1 (Conv2D)     (None, 19, 10, 256)          65792     ['multiply_10[0][0]']         \n",
            "                                                                                                  \n",
            " bn4_e_branch2b (BatchNorma  (None, 19, 10, 256)          1024      ['res4_e_branch2b[0][0]']     \n",
            " lization)                                                                                        \n",
            "                                                                                                  \n",
            " bn4_e_branch1 (BatchNormal  (None, 19, 10, 256)          1024      ['res4_e_branch1[0][0]']      \n",
            " ization)                                                                                         \n",
            "                                                                                                  \n",
            " add_22 (Add)                (None, 19, 10, 256)          0         ['bn4_e_branch2b[0][0]',      \n",
            "                                                                     'bn4_e_branch1[0][0]']       \n",
            "                                                                                                  \n",
            " activation_35 (Activation)  (None, 19, 10, 256)          0         ['add_22[0][0]']              \n",
            "                                                                                                  \n",
            " global_average_pooling2d_1  (None, 256)                  0         ['activation_35[0][0]']       \n",
            " 1 (GlobalAveragePooling2D)                                                                       \n",
            "                                                                                                  \n",
            " global_max_pooling2d_11 (G  (None, 256)                  0         ['activation_35[0][0]']       \n",
            " lobalMaxPooling2D)                                                                               \n",
            "                                                                                                  \n",
            " dense_44 (Dense)            (None, 16)                   4112      ['global_average_pooling2d_11[\n",
            "                                                                    0][0]']                       \n",
            "                                                                                                  \n",
            " dense_46 (Dense)            (None, 16)                   4112      ['global_max_pooling2d_11[0][0\n",
            "                                                                    ]']                           \n",
            "                                                                                                  \n",
            " dense_45 (Dense)            (None, 256)                  4352      ['dense_44[0][0]']            \n",
            "                                                                                                  \n",
            " dense_47 (Dense)            (None, 256)                  4352      ['dense_46[0][0]']            \n",
            "                                                                                                  \n",
            " reshape_22 (Reshape)        (None, 1, 1, 256)            0         ['dense_45[0][0]']            \n",
            "                                                                                                  \n",
            " reshape_23 (Reshape)        (None, 1, 1, 256)            0         ['dense_47[0][0]']            \n",
            "                                                                                                  \n",
            " add_23 (Add)                (None, 1, 1, 256)            0         ['reshape_22[0][0]',          \n",
            "                                                                     'reshape_23[0][0]']          \n",
            "                                                                                                  \n",
            " activation_36 (Activation)  (None, 1, 1, 256)            0         ['add_23[0][0]']              \n",
            "                                                                                                  \n",
            " multiply_11 (Multiply)      (None, 19, 10, 256)          0         ['activation_35[0][0]',       \n",
            "                                                                     'activation_36[0][0]']       \n",
            "                                                                                                  \n",
            " res4_f_branch2a (Conv2D)    (None, 19, 10, 256)          590080    ['multiply_11[0][0]']         \n",
            "                                                                                                  \n",
            " bn4_f_branch2a (BatchNorma  (None, 19, 10, 256)          1024      ['res4_f_branch2a[0][0]']     \n",
            " lization)                                                                                        \n",
            "                                                                                                  \n",
            " activation_37 (Activation)  (None, 19, 10, 256)          0         ['bn4_f_branch2a[0][0]']      \n",
            "                                                                                                  \n",
            " res4_f_branch2b (Conv2D)    (None, 19, 10, 256)          590080    ['activation_37[0][0]']       \n",
            "                                                                                                  \n",
            " res4_f_branch1 (Conv2D)     (None, 19, 10, 256)          65792     ['multiply_11[0][0]']         \n",
            "                                                                                                  \n",
            " bn4_f_branch2b (BatchNorma  (None, 19, 10, 256)          1024      ['res4_f_branch2b[0][0]']     \n",
            " lization)                                                                                        \n",
            "                                                                                                  \n",
            " bn4_f_branch1 (BatchNormal  (None, 19, 10, 256)          1024      ['res4_f_branch1[0][0]']      \n",
            " ization)                                                                                         \n",
            "                                                                                                  \n",
            " add_24 (Add)                (None, 19, 10, 256)          0         ['bn4_f_branch2b[0][0]',      \n",
            "                                                                     'bn4_f_branch1[0][0]']       \n",
            "                                                                                                  \n",
            " activation_38 (Activation)  (None, 19, 10, 256)          0         ['add_24[0][0]']              \n",
            "                                                                                                  \n",
            " global_average_pooling2d_1  (None, 256)                  0         ['activation_38[0][0]']       \n",
            " 2 (GlobalAveragePooling2D)                                                                       \n",
            "                                                                                                  \n",
            " global_max_pooling2d_12 (G  (None, 256)                  0         ['activation_38[0][0]']       \n",
            " lobalMaxPooling2D)                                                                               \n",
            "                                                                                                  \n",
            " dense_48 (Dense)            (None, 16)                   4112      ['global_average_pooling2d_12[\n",
            "                                                                    0][0]']                       \n",
            "                                                                                                  \n",
            " dense_50 (Dense)            (None, 16)                   4112      ['global_max_pooling2d_12[0][0\n",
            "                                                                    ]']                           \n",
            "                                                                                                  \n",
            " dense_49 (Dense)            (None, 256)                  4352      ['dense_48[0][0]']            \n",
            "                                                                                                  \n",
            " dense_51 (Dense)            (None, 256)                  4352      ['dense_50[0][0]']            \n",
            "                                                                                                  \n",
            " reshape_24 (Reshape)        (None, 1, 1, 256)            0         ['dense_49[0][0]']            \n",
            "                                                                                                  \n",
            " reshape_25 (Reshape)        (None, 1, 1, 256)            0         ['dense_51[0][0]']            \n",
            "                                                                                                  \n",
            " add_25 (Add)                (None, 1, 1, 256)            0         ['reshape_24[0][0]',          \n",
            "                                                                     'reshape_25[0][0]']          \n",
            "                                                                                                  \n",
            " activation_39 (Activation)  (None, 1, 1, 256)            0         ['add_25[0][0]']              \n",
            "                                                                                                  \n",
            " multiply_12 (Multiply)      (None, 19, 10, 256)          0         ['activation_38[0][0]',       \n",
            "                                                                     'activation_39[0][0]']       \n",
            "                                                                                                  \n",
            " res5_a_branch2a (Conv2D)    (None, 10, 5, 512)           1180160   ['multiply_12[0][0]']         \n",
            "                                                                                                  \n",
            " bn5_a_branch2a (BatchNorma  (None, 10, 5, 512)           2048      ['res5_a_branch2a[0][0]']     \n",
            " lization)                                                                                        \n",
            "                                                                                                  \n",
            " activation_40 (Activation)  (None, 10, 5, 512)           0         ['bn5_a_branch2a[0][0]']      \n",
            "                                                                                                  \n",
            " res5_a_branch2b (Conv2D)    (None, 10, 5, 512)           2359808   ['activation_40[0][0]']       \n",
            "                                                                                                  \n",
            " res5_a_branch1 (Conv2D)     (None, 10, 5, 512)           131584    ['multiply_12[0][0]']         \n",
            "                                                                                                  \n",
            " bn5_a_branch2b (BatchNorma  (None, 10, 5, 512)           2048      ['res5_a_branch2b[0][0]']     \n",
            " lization)                                                                                        \n",
            "                                                                                                  \n",
            " bn5_a_branch1 (BatchNormal  (None, 10, 5, 512)           2048      ['res5_a_branch1[0][0]']      \n",
            " ization)                                                                                         \n",
            "                                                                                                  \n",
            " add_26 (Add)                (None, 10, 5, 512)           0         ['bn5_a_branch2b[0][0]',      \n",
            "                                                                     'bn5_a_branch1[0][0]']       \n",
            "                                                                                                  \n",
            " activation_41 (Activation)  (None, 10, 5, 512)           0         ['add_26[0][0]']              \n",
            "                                                                                                  \n",
            " global_average_pooling2d_1  (None, 512)                  0         ['activation_41[0][0]']       \n",
            " 3 (GlobalAveragePooling2D)                                                                       \n",
            "                                                                                                  \n",
            " global_max_pooling2d_13 (G  (None, 512)                  0         ['activation_41[0][0]']       \n",
            " lobalMaxPooling2D)                                                                               \n",
            "                                                                                                  \n",
            " dense_52 (Dense)            (None, 32)                   16416     ['global_average_pooling2d_13[\n",
            "                                                                    0][0]']                       \n",
            "                                                                                                  \n",
            " dense_54 (Dense)            (None, 32)                   16416     ['global_max_pooling2d_13[0][0\n",
            "                                                                    ]']                           \n",
            "                                                                                                  \n",
            " dense_53 (Dense)            (None, 512)                  16896     ['dense_52[0][0]']            \n",
            "                                                                                                  \n",
            " dense_55 (Dense)            (None, 512)                  16896     ['dense_54[0][0]']            \n",
            "                                                                                                  \n",
            " reshape_26 (Reshape)        (None, 1, 1, 512)            0         ['dense_53[0][0]']            \n",
            "                                                                                                  \n",
            " reshape_27 (Reshape)        (None, 1, 1, 512)            0         ['dense_55[0][0]']            \n",
            "                                                                                                  \n",
            " add_27 (Add)                (None, 1, 1, 512)            0         ['reshape_26[0][0]',          \n",
            "                                                                     'reshape_27[0][0]']          \n",
            "                                                                                                  \n",
            " activation_42 (Activation)  (None, 1, 1, 512)            0         ['add_27[0][0]']              \n",
            "                                                                                                  \n",
            " multiply_13 (Multiply)      (None, 10, 5, 512)           0         ['activation_41[0][0]',       \n",
            "                                                                     'activation_42[0][0]']       \n",
            "                                                                                                  \n",
            " res5_b_branch2a (Conv2D)    (None, 10, 5, 512)           2359808   ['multiply_13[0][0]']         \n",
            "                                                                                                  \n",
            " bn5_b_branch2a (BatchNorma  (None, 10, 5, 512)           2048      ['res5_b_branch2a[0][0]']     \n",
            " lization)                                                                                        \n",
            "                                                                                                  \n",
            " activation_43 (Activation)  (None, 10, 5, 512)           0         ['bn5_b_branch2a[0][0]']      \n",
            "                                                                                                  \n",
            " res5_b_branch2b (Conv2D)    (None, 10, 5, 512)           2359808   ['activation_43[0][0]']       \n",
            "                                                                                                  \n",
            " res5_b_branch1 (Conv2D)     (None, 10, 5, 512)           262656    ['multiply_13[0][0]']         \n",
            "                                                                                                  \n",
            " bn5_b_branch2b (BatchNorma  (None, 10, 5, 512)           2048      ['res5_b_branch2b[0][0]']     \n",
            " lization)                                                                                        \n",
            "                                                                                                  \n",
            " bn5_b_branch1 (BatchNormal  (None, 10, 5, 512)           2048      ['res5_b_branch1[0][0]']      \n",
            " ization)                                                                                         \n",
            "                                                                                                  \n",
            " add_28 (Add)                (None, 10, 5, 512)           0         ['bn5_b_branch2b[0][0]',      \n",
            "                                                                     'bn5_b_branch1[0][0]']       \n",
            "                                                                                                  \n",
            " activation_44 (Activation)  (None, 10, 5, 512)           0         ['add_28[0][0]']              \n",
            "                                                                                                  \n",
            " global_average_pooling2d_1  (None, 512)                  0         ['activation_44[0][0]']       \n",
            " 4 (GlobalAveragePooling2D)                                                                       \n",
            "                                                                                                  \n",
            " global_max_pooling2d_14 (G  (None, 512)                  0         ['activation_44[0][0]']       \n",
            " lobalMaxPooling2D)                                                                               \n",
            "                                                                                                  \n",
            " dense_56 (Dense)            (None, 32)                   16416     ['global_average_pooling2d_14[\n",
            "                                                                    0][0]']                       \n",
            "                                                                                                  \n",
            " dense_58 (Dense)            (None, 32)                   16416     ['global_max_pooling2d_14[0][0\n",
            "                                                                    ]']                           \n",
            "                                                                                                  \n",
            " dense_57 (Dense)            (None, 512)                  16896     ['dense_56[0][0]']            \n",
            "                                                                                                  \n",
            " dense_59 (Dense)            (None, 512)                  16896     ['dense_58[0][0]']            \n",
            "                                                                                                  \n",
            " reshape_28 (Reshape)        (None, 1, 1, 512)            0         ['dense_57[0][0]']            \n",
            "                                                                                                  \n",
            " reshape_29 (Reshape)        (None, 1, 1, 512)            0         ['dense_59[0][0]']            \n",
            "                                                                                                  \n",
            " add_29 (Add)                (None, 1, 1, 512)            0         ['reshape_28[0][0]',          \n",
            "                                                                     'reshape_29[0][0]']          \n",
            "                                                                                                  \n",
            " activation_45 (Activation)  (None, 1, 1, 512)            0         ['add_29[0][0]']              \n",
            "                                                                                                  \n",
            " multiply_14 (Multiply)      (None, 10, 5, 512)           0         ['activation_44[0][0]',       \n",
            "                                                                     'activation_45[0][0]']       \n",
            "                                                                                                  \n",
            " res5_c_branch2a (Conv2D)    (None, 10, 5, 512)           2359808   ['multiply_14[0][0]']         \n",
            "                                                                                                  \n",
            " bn5_c_branch2a (BatchNorma  (None, 10, 5, 512)           2048      ['res5_c_branch2a[0][0]']     \n",
            " lization)                                                                                        \n",
            "                                                                                                  \n",
            " activation_46 (Activation)  (None, 10, 5, 512)           0         ['bn5_c_branch2a[0][0]']      \n",
            "                                                                                                  \n",
            " res5_c_branch2b (Conv2D)    (None, 10, 5, 512)           2359808   ['activation_46[0][0]']       \n",
            "                                                                                                  \n",
            " res5_c_branch1 (Conv2D)     (None, 10, 5, 512)           262656    ['multiply_14[0][0]']         \n",
            "                                                                                                  \n",
            " bn5_c_branch2b (BatchNorma  (None, 10, 5, 512)           2048      ['res5_c_branch2b[0][0]']     \n",
            " lization)                                                                                        \n",
            "                                                                                                  \n",
            " bn5_c_branch1 (BatchNormal  (None, 10, 5, 512)           2048      ['res5_c_branch1[0][0]']      \n",
            " ization)                                                                                         \n",
            "                                                                                                  \n",
            " add_30 (Add)                (None, 10, 5, 512)           0         ['bn5_c_branch2b[0][0]',      \n",
            "                                                                     'bn5_c_branch1[0][0]']       \n",
            "                                                                                                  \n",
            " activation_47 (Activation)  (None, 10, 5, 512)           0         ['add_30[0][0]']              \n",
            "                                                                                                  \n",
            " global_average_pooling2d_1  (None, 512)                  0         ['activation_47[0][0]']       \n",
            " 5 (GlobalAveragePooling2D)                                                                       \n",
            "                                                                                                  \n",
            " global_max_pooling2d_15 (G  (None, 512)                  0         ['activation_47[0][0]']       \n",
            " lobalMaxPooling2D)                                                                               \n",
            "                                                                                                  \n",
            " dense_60 (Dense)            (None, 32)                   16416     ['global_average_pooling2d_15[\n",
            "                                                                    0][0]']                       \n",
            "                                                                                                  \n",
            " dense_62 (Dense)            (None, 32)                   16416     ['global_max_pooling2d_15[0][0\n",
            "                                                                    ]']                           \n",
            "                                                                                                  \n",
            " dense_61 (Dense)            (None, 512)                  16896     ['dense_60[0][0]']            \n",
            "                                                                                                  \n",
            " dense_63 (Dense)            (None, 512)                  16896     ['dense_62[0][0]']            \n",
            "                                                                                                  \n",
            " reshape_30 (Reshape)        (None, 1, 1, 512)            0         ['dense_61[0][0]']            \n",
            "                                                                                                  \n",
            " reshape_31 (Reshape)        (None, 1, 1, 512)            0         ['dense_63[0][0]']            \n",
            "                                                                                                  \n",
            " add_31 (Add)                (None, 1, 1, 512)            0         ['reshape_30[0][0]',          \n",
            "                                                                     'reshape_31[0][0]']          \n",
            "                                                                                                  \n",
            " activation_48 (Activation)  (None, 1, 1, 512)            0         ['add_31[0][0]']              \n",
            "                                                                                                  \n",
            " multiply_15 (Multiply)      (None, 10, 5, 512)           0         ['activation_47[0][0]',       \n",
            "                                                                     'activation_48[0][0]']       \n",
            "                                                                                                  \n",
            " max_pool (MaxPooling2D)     (None, 5, 2, 512)            0         ['multiply_15[0][0]']         \n",
            "                                                                                                  \n",
            " flatten (Flatten)           (None, 5120)                 0         ['max_pool[0][0]']            \n",
            "                                                                                                  \n",
            " fc60 (Dense)                (None, 60)                   307260    ['flatten[0][0]']             \n",
            "                                                                                                  \n",
            "==================================================================================================\n",
            "Total params: 22861396 (87.21 MB)\n",
            "Trainable params: 22838612 (87.12 MB)\n",
            "Non-trainable params: 22784 (89.00 KB)\n",
            "__________________________________________________________________________________________________\n",
            "None\n"
          ]
        }
      ],
      "source": [
        "from tensorflow.keras.models import Model\n",
        "from tensorflow.keras.layers import Conv2D, MaxPooling2D, Flatten, Dense, Input, Add, Activation, BatchNormalization, AveragePooling2D, Reshape\n",
        "from tensorflow.keras.layers import GlobalAveragePooling2D, GlobalMaxPooling2D, Reshape, Dense, Multiply, Add\n",
        "\n",
        "def residual_block(input_tensor, filters, kernel_size, stage, block, strides=(1, 1)):\n",
        "    conv_name_base = f\"res{stage}_{block}_branch\"\n",
        "    bn_name_base = f\"bn{stage}_{block}_branch\"\n",
        "\n",
        "    x = Conv2D(filters, kernel_size, strides=strides, padding='same', name=conv_name_base + '2a')(input_tensor)\n",
        "    x = BatchNormalization(axis=3, name=bn_name_base + '2a')(x)\n",
        "    x = Activation('relu')(x)\n",
        "\n",
        "    x = Conv2D(filters, kernel_size, padding='same', name=conv_name_base + '2b')(x)\n",
        "    x = BatchNormalization(axis=3, name=bn_name_base + '2b')(x)\n",
        "\n",
        "    shortcut = Conv2D(filters, (1, 1), strides=strides, name=conv_name_base + '1')(input_tensor)\n",
        "    shortcut = BatchNormalization(axis=3, name=bn_name_base + '1')(shortcut)\n",
        "\n",
        "    x = Add()([x, shortcut])\n",
        "    x = Activation('relu')(x)\n",
        "    return x\n",
        "\n",
        "def channel_attention(input_tensor, ratio):\n",
        "    filters = input_tensor.shape[-1]\n",
        "\n",
        "    avg_pool = GlobalAveragePooling2D()(input_tensor)\n",
        "    avg_pool = Dense(filters // ratio, activation='relu')(avg_pool)\n",
        "    avg_pool = Dense(filters, activation='sigmoid')(avg_pool)\n",
        "    avg_pool = Reshape((1, 1, filters))(avg_pool)\n",
        "\n",
        "    max_pool = GlobalMaxPooling2D()(input_tensor)\n",
        "    max_pool = Dense(filters // ratio, activation='relu')(max_pool)\n",
        "    max_pool = Dense(filters, activation='sigmoid')(max_pool)\n",
        "    max_pool = Reshape((1, 1, filters))(max_pool)\n",
        "\n",
        "    output_tensor = Add()([avg_pool, max_pool])\n",
        "    output_tensor = Activation('sigmoid')(output_tensor)\n",
        "    return Multiply()([input_tensor, output_tensor])\n",
        "\n",
        "def EfficientNet_with_attention(input_shape, num_classes):\n",
        "    inputs = Input(shape=input_shape)\n",
        "\n",
        "    # Implement EfficientNet architecture here\n",
        "\n",
        "    x = Conv2D(64, (7, 7), strides=(2, 2), padding='same', name='conv1')(inputs)\n",
        "    x = BatchNormalization(axis=3, name='bn_conv1')(x)\n",
        "    x = Activation('relu')(x)\n",
        "    x = MaxPooling2D((3, 3), strides=(2, 2))(x)\n",
        "\n",
        "    x = residual_block(x, 64, (3, 3), stage=2, block='a', strides=(1, 1))\n",
        "    x = channel_attention(x, 16)  # Applying channel attention\n",
        "    x = residual_block(x, 64, (3, 3), stage=2, block='b')\n",
        "    x = channel_attention(x, 16)  # Applying channel attention\n",
        "    x = residual_block(x, 64, (3, 3), stage=2, block='c')\n",
        "    x = channel_attention(x, 16)  # Applying channel attention\n",
        "\n",
        "    x = residual_block(x, 128, (3, 3), stage=3, block='a', strides=(2, 2))\n",
        "    x = channel_attention(x, 16)  # Applying channel attention\n",
        "    x = residual_block(x, 128, (3, 3), stage=3, block='b')\n",
        "    x = channel_attention(x, 16)  # Applying channel attention\n",
        "    x = residual_block(x, 128, (3, 3), stage=3, block='c')\n",
        "    x = channel_attention(x, 16)  # Applying channel attention\n",
        "    x = residual_block(x, 128, (3, 3), stage=3, block='d')\n",
        "    x = channel_attention(x, 16)  # Applying channel attention\n",
        "\n",
        "    x = residual_block(x, 256, (3, 3), stage=4, block='a', strides=(2, 2))\n",
        "    x = channel_attention(x, 16)  # Applying channel attention\n",
        "    x = residual_block(x, 256, (3, 3), stage=4, block='b')\n",
        "    x = channel_attention(x, 16)  # Applying channel attention\n",
        "    x = residual_block(x, 256, (3, 3), stage=4, block='c')\n",
        "    x = channel_attention(x, 16)  # Applying channel attention\n",
        "    x = residual_block(x, 256, (3, 3), stage=4, block='d')\n",
        "    x = channel_attention(x, 16)  # Applying channel attention\n",
        "    x = residual_block(x, 256, (3, 3), stage=4, block='e')\n",
        "    x = channel_attention(x, 16)  # Applying channel attention\n",
        "    x = residual_block(x, 256, (3, 3), stage=4, block='f')\n",
        "    x = channel_attention(x, 16)  # Applying channel attention\n",
        "\n",
        "    x = residual_block(x, 512, (3, 3), stage=5, block='a', strides=(2, 2))\n",
        "    x = channel_attention(x, 16)  # Applying channel attention\n",
        "    x = residual_block(x, 512, (3, 3), stage=5, block='b')\n",
        "    x = channel_attention(x, 16)  # Applying channel attention\n",
        "    x = residual_block(x, 512, (3, 3), stage=5, block='c')\n",
        "    x = channel_attention(x, 16)  # Applying channel attention\n",
        "\n",
        "    x = MaxPooling2D((2, 2), name='max_pool')(x)\n",
        "\n",
        "    x = Flatten()(x)\n",
        "    x = Dense(num_classes, activation='softmax', name='fc' + str(num_classes))(x)\n",
        "\n",
        "    model = Model(inputs=inputs, outputs=x, name='efficientnet_with_attention')\n",
        "\n",
        "    return model\n",
        "\n",
        "# Assuming your input parameters\n",
        "num_classes = 60\n",
        "segment_length = 300\n",
        "num_features = 150\n",
        "\n",
        "# Create the modified EfficientNet model with channel attention\n",
        "input_shape = (segment_length, num_features, 1)  # Assuming grayscale images\n",
        "efficientnet_model_with_attention = EfficientNet_with_attention(input_shape, num_classes)\n",
        "\n",
        "# Print model architecture\n",
        "print(efficientnet_model_with_attention.summary())\n"
      ]
    },
    {
      "cell_type": "code",
      "execution_count": null,
      "metadata": {
        "id": "zhanEADTmmOO"
      },
      "outputs": [],
      "source": [
        "# Set the parameters\n",
        "#num_segments = 1 # You can adjust this based on your requirements\n",
        "#segment_length = 237\n",
        "#num_features = 150  # Assuming each frame has 150 features\n"
      ]
    },
    {
      "cell_type": "code",
      "execution_count": null,
      "metadata": {
        "colab": {
          "base_uri": "https://localhost:8080/"
        },
        "id": "7CdhHz2gvH1j",
        "outputId": "0d96d7f0-85eb-4413-be3d-09f918d91fc6"
      },
      "outputs": [
        {
          "name": "stdout",
          "output_type": "stream",
          "text": [
            "(38086, 300, 150)\n"
          ]
        }
      ],
      "source": [
        "print(x_train_CS.shape)"
      ]
    },
    {
      "cell_type": "code",
      "execution_count": null,
      "metadata": {
        "colab": {
          "base_uri": "https://localhost:8080/"
        },
        "id": "rMvU4ewfviyc",
        "outputId": "70765c2e-86dc-4968-9273-c13661ab45c9"
      },
      "outputs": [
        {
          "name": "stdout",
          "output_type": "stream",
          "text": [
            "(38086, 60)\n"
          ]
        }
      ],
      "source": [
        "print(y_train_CS.shape)"
      ]
    },
    {
      "cell_type": "code",
      "execution_count": null,
      "metadata": {
        "colab": {
          "base_uri": "https://localhost:8080/"
        },
        "id": "nEXOZnVrvH1l",
        "outputId": "b3dbc823-dbc6-432f-ddee-f09d751c6206"
      },
      "outputs": [
        {
          "name": "stdout",
          "output_type": "stream",
          "text": [
            "(2005, 300, 150)\n"
          ]
        }
      ],
      "source": [
        "print(x_valid_CS.shape)"
      ]
    },
    {
      "cell_type": "code",
      "execution_count": null,
      "metadata": {
        "colab": {
          "base_uri": "https://localhost:8080/"
        },
        "id": "dg4mFqQgvy8X",
        "outputId": "18a8f05e-d572-49bd-c936-a131c33a42fb"
      },
      "outputs": [
        {
          "name": "stdout",
          "output_type": "stream",
          "text": [
            "(2005, 60)\n"
          ]
        }
      ],
      "source": [
        "print(y_valid_CS.shape)"
      ]
    },
    {
      "cell_type": "code",
      "execution_count": null,
      "metadata": {
        "colab": {
          "base_uri": "https://localhost:8080/"
        },
        "id": "BhGdnMS9vH1m",
        "outputId": "8f144b7c-174e-4001-e52a-64232c067ede"
      },
      "outputs": [
        {
          "name": "stdout",
          "output_type": "stream",
          "text": [
            "(16487, 300, 150)\n"
          ]
        }
      ],
      "source": [
        "print(x_test_CS.shape)"
      ]
    },
    {
      "cell_type": "code",
      "execution_count": null,
      "metadata": {
        "colab": {
          "base_uri": "https://localhost:8080/"
        },
        "id": "nHv-h3zNwTtk",
        "outputId": "a8e05814-47ac-4ce0-d959-c8b46ded7d31"
      },
      "outputs": [
        {
          "name": "stdout",
          "output_type": "stream",
          "text": [
            "(16487, 60)\n"
          ]
        }
      ],
      "source": [
        "print(y_test_CS.shape)"
      ]
    },
    {
      "cell_type": "code",
      "execution_count": null,
      "metadata": {
        "colab": {
          "base_uri": "https://localhost:8080/"
        },
        "id": "RRnRhPtkvH1l",
        "outputId": "668d288b-1841-4783-b969-d15e5623e276"
      },
      "outputs": [
        {
          "name": "stdout",
          "output_type": "stream",
          "text": [
            "(35763, 300, 150)\n"
          ]
        }
      ],
      "source": [
        "print(x_train_CV.shape)"
      ]
    },
    {
      "cell_type": "code",
      "execution_count": null,
      "metadata": {
        "colab": {
          "base_uri": "https://localhost:8080/"
        },
        "id": "NV1eFZO0vnKs",
        "outputId": "17ce5a33-dbfa-4c67-9ba3-ee6a32ee466a"
      },
      "outputs": [
        {
          "name": "stdout",
          "output_type": "stream",
          "text": [
            "(35763, 60)\n"
          ]
        }
      ],
      "source": [
        "print(y_train_CV.shape)"
      ]
    },
    {
      "cell_type": "code",
      "execution_count": null,
      "metadata": {
        "colab": {
          "base_uri": "https://localhost:8080/"
        },
        "id": "_ke5uMEawABY",
        "outputId": "cd7dc28c-dbef-4344-d24b-e4bab3552c00"
      },
      "outputs": [
        {
          "name": "stdout",
          "output_type": "stream",
          "text": [
            "(1883, 300, 150)\n"
          ]
        }
      ],
      "source": [
        "print(x_valid_CV.shape)"
      ]
    },
    {
      "cell_type": "code",
      "execution_count": null,
      "metadata": {
        "colab": {
          "base_uri": "https://localhost:8080/"
        },
        "id": "24QIYHRdwBMW",
        "outputId": "9285deb2-05a7-435c-a4fe-540954b532ee"
      },
      "outputs": [
        {
          "name": "stdout",
          "output_type": "stream",
          "text": [
            "(1883, 60)\n"
          ]
        }
      ],
      "source": [
        "print(y_valid_CV.shape)"
      ]
    },
    {
      "cell_type": "code",
      "execution_count": null,
      "metadata": {
        "colab": {
          "base_uri": "https://localhost:8080/"
        },
        "id": "uJNy30yuvbh6",
        "outputId": "f447f922-a24a-4b7d-a5ee-a88927071960"
      },
      "outputs": [
        {
          "name": "stdout",
          "output_type": "stream",
          "text": [
            "(18932, 300, 150)\n"
          ]
        }
      ],
      "source": [
        "print(x_test_CV.shape)"
      ]
    },
    {
      "cell_type": "code",
      "execution_count": null,
      "metadata": {
        "colab": {
          "base_uri": "https://localhost:8080/"
        },
        "id": "rynjwSPHwmYi",
        "outputId": "4f5cb3fb-9d1e-44ad-97c5-f6d750dd5dec"
      },
      "outputs": [
        {
          "name": "stdout",
          "output_type": "stream",
          "text": [
            "(18932, 60)\n"
          ]
        }
      ],
      "source": [
        "print(y_test_CV.shape)"
      ]
    },
    {
      "cell_type": "code",
      "execution_count": null,
      "metadata": {
        "id": "LDoDTAl1w4t6"
      },
      "outputs": [],
      "source": [
        "x_train_CS = np.reshape(x_train_CS, (38086, 300, 150))\n"
      ]
    },
    {
      "cell_type": "code",
      "execution_count": null,
      "metadata": {
        "id": "d963S0JCynH-"
      },
      "outputs": [],
      "source": [
        "x_valid_CS = np.reshape(x_valid_CS, (2005, 300, 150))"
      ]
    },
    {
      "cell_type": "code",
      "execution_count": null,
      "metadata": {
        "id": "wxrXpGHoyn1B"
      },
      "outputs": [],
      "source": [
        "x_test_CS = np.reshape(x_test_CS, (16487,1, 300, 150))"
      ]
    },
    {
      "cell_type": "code",
      "execution_count": null,
      "metadata": {
        "id": "W6MWmuZp0DWw"
      },
      "outputs": [],
      "source": []
    },
    {
      "cell_type": "code",
      "execution_count": null,
      "metadata": {
        "id": "-A9s7pRW0Drb"
      },
      "outputs": [],
      "source": [
        "x_train_CV = np.reshape(x_train_CV, (35763,300, 150))\n"
      ]
    },
    {
      "cell_type": "code",
      "execution_count": null,
      "metadata": {
        "id": "ZTgfd8ym0Drc"
      },
      "outputs": [],
      "source": [
        "x_valid_CV = np.reshape(x_valid_CV, (1883, 300, 150))"
      ]
    },
    {
      "cell_type": "code",
      "execution_count": null,
      "metadata": {
        "id": "qYmAbwRM0Drc"
      },
      "outputs": [],
      "source": [
        "x_test_CV = np.reshape(x_test_CV, (18932,1, 300, 150))"
      ]
    },
    {
      "cell_type": "code",
      "execution_count": null,
      "metadata": {
        "id": "6oO_ycwpl4Cy"
      },
      "outputs": [],
      "source": [
        "# Define the Part-Aware LSTM model\n",
        "num_classes = 60  # Assuming there are 60 action classes\n",
        "model1 = EfficientNet_with_attention(input_shape, num_classes)"
      ]
    },
    {
      "cell_type": "code",
      "execution_count": null,
      "metadata": {
        "id": "-TUBRGf7mWX7"
      },
      "outputs": [],
      "source": [
        "# Compile the model\n",
        "model1.compile(optimizer='adam', loss='categorical_crossentropy', metrics=['accuracy'])\n"
      ]
    },
    {
      "cell_type": "code",
      "execution_count": null,
      "metadata": {
        "id": "M4A4gSrnFEhI"
      },
      "outputs": [],
      "source": [
        "# Train the model\n",
        "#multi_cnn_model_CS.fit(x_train_CS, y_train_CS, validation_data=(x_valid_CS, y_valid_CS), epochs=150, batch_size=32)\n"
      ]
    },
    {
      "cell_type": "code",
      "execution_count": null,
      "metadata": {
        "colab": {
          "background_save": true,
          "base_uri": "https://localhost:8080/"
        },
        "id": "NxJGPBnHFGUP",
        "outputId": "cb4165cc-ec65-4946-960c-f627d0611ed8"
      },
      "outputs": [
        {
          "name": "stdout",
          "output_type": "stream",
          "text": [
            "Epoch 1/100\n",
            "1191/1191 [==============================] - 169s 98ms/step - loss: 2.4142 - accuracy: 0.3258 - val_loss: 1.9570 - val_accuracy: 0.4459\n",
            "Epoch 2/100\n",
            "1191/1191 [==============================] - 113s 95ms/step - loss: 1.4996 - accuracy: 0.5425 - val_loss: 1.4691 - val_accuracy: 0.5621\n",
            "Epoch 3/100\n",
            "1191/1191 [==============================] - 113s 95ms/step - loss: 1.1939 - accuracy: 0.6264 - val_loss: 1.2884 - val_accuracy: 0.6160\n",
            "Epoch 4/100\n",
            "1191/1191 [==============================] - 113s 95ms/step - loss: 1.0153 - accuracy: 0.6825 - val_loss: 1.1031 - val_accuracy: 0.6499\n",
            "Epoch 5/100\n",
            "1191/1191 [==============================] - 113s 95ms/step - loss: 0.8807 - accuracy: 0.7187 - val_loss: 1.2199 - val_accuracy: 0.6364\n",
            "Epoch 6/100\n",
            "1191/1191 [==============================] - 113s 95ms/step - loss: 0.7846 - accuracy: 0.7484 - val_loss: 0.8257 - val_accuracy: 0.7392\n",
            "Epoch 7/100\n",
            "1191/1191 [==============================] - 113s 95ms/step - loss: 0.6872 - accuracy: 0.7776 - val_loss: 0.9659 - val_accuracy: 0.7167\n",
            "Epoch 8/100\n",
            "1191/1191 [==============================] - 113s 95ms/step - loss: 0.6089 - accuracy: 0.8016 - val_loss: 0.9051 - val_accuracy: 0.7307\n",
            "Epoch 9/100\n",
            "1191/1191 [==============================] - 113s 95ms/step - loss: 0.5318 - accuracy: 0.8236 - val_loss: 0.7167 - val_accuracy: 0.7786\n",
            "Epoch 10/100\n",
            "1191/1191 [==============================] - 113s 95ms/step - loss: 0.4605 - accuracy: 0.8461 - val_loss: 0.9750 - val_accuracy: 0.7177\n",
            "Epoch 11/100\n",
            "1191/1191 [==============================] - 113s 95ms/step - loss: 0.3982 - accuracy: 0.8670 - val_loss: 0.7037 - val_accuracy: 0.7925\n",
            "Epoch 12/100\n",
            "1191/1191 [==============================] - 113s 95ms/step - loss: 0.3416 - accuracy: 0.8828 - val_loss: 0.6866 - val_accuracy: 0.8020\n",
            "Epoch 13/100\n",
            "1191/1191 [==============================] - 113s 95ms/step - loss: 0.2917 - accuracy: 0.8993 - val_loss: 0.6898 - val_accuracy: 0.8120\n",
            "Epoch 14/100\n",
            "1191/1191 [==============================] - 113s 95ms/step - loss: 0.2510 - accuracy: 0.9142 - val_loss: 0.6760 - val_accuracy: 0.8155\n",
            "Epoch 15/100\n",
            "1191/1191 [==============================] - 113s 95ms/step - loss: 0.2189 - accuracy: 0.9236 - val_loss: 0.7531 - val_accuracy: 0.8020\n",
            "Epoch 16/100\n",
            "1191/1191 [==============================] - 113s 95ms/step - loss: 0.1863 - accuracy: 0.9348 - val_loss: 0.7679 - val_accuracy: 0.8000\n",
            "Epoch 17/100\n",
            "1191/1191 [==============================] - 113s 95ms/step - loss: 0.1588 - accuracy: 0.9458 - val_loss: 0.7695 - val_accuracy: 0.8150\n",
            "Epoch 18/100\n",
            "1191/1191 [==============================] - 113s 95ms/step - loss: 0.1469 - accuracy: 0.9488 - val_loss: 0.7493 - val_accuracy: 0.8259\n",
            "Epoch 19/100\n",
            "1191/1191 [==============================] - 113s 95ms/step - loss: 0.1287 - accuracy: 0.9552 - val_loss: 0.8181 - val_accuracy: 0.8115\n",
            "Epoch 20/100\n",
            "1191/1191 [==============================] - 113s 95ms/step - loss: 0.1130 - accuracy: 0.9612 - val_loss: 0.8451 - val_accuracy: 0.8065\n",
            "Epoch 21/100\n",
            "1191/1191 [==============================] - 113s 95ms/step - loss: 0.1049 - accuracy: 0.9642 - val_loss: 0.8993 - val_accuracy: 0.8095\n",
            "Epoch 22/100\n",
            "1191/1191 [==============================] - 113s 95ms/step - loss: 0.0985 - accuracy: 0.9663 - val_loss: 0.8602 - val_accuracy: 0.8175\n",
            "Epoch 23/100\n",
            "1191/1191 [==============================] - 113s 95ms/step - loss: 0.0996 - accuracy: 0.9660 - val_loss: 0.8768 - val_accuracy: 0.8244\n",
            "Epoch 24/100\n",
            "1191/1191 [==============================] - 113s 95ms/step - loss: 0.0837 - accuracy: 0.9718 - val_loss: 0.8819 - val_accuracy: 0.8160\n",
            "Epoch 25/100\n",
            "1191/1191 [==============================] - 113s 95ms/step - loss: 0.0765 - accuracy: 0.9740 - val_loss: 0.9035 - val_accuracy: 0.8224\n",
            "Epoch 26/100\n",
            "1191/1191 [==============================] - 113s 95ms/step - loss: 0.0767 - accuracy: 0.9736 - val_loss: 0.8947 - val_accuracy: 0.8160\n",
            "Epoch 27/100\n",
            "1191/1191 [==============================] - 113s 95ms/step - loss: 0.0649 - accuracy: 0.9776 - val_loss: 1.0647 - val_accuracy: 0.8025\n",
            "Epoch 28/100\n",
            "1191/1191 [==============================] - 113s 95ms/step - loss: 0.0682 - accuracy: 0.9770 - val_loss: 1.0218 - val_accuracy: 0.8135\n",
            "Epoch 29/100\n",
            "1191/1191 [==============================] - 113s 95ms/step - loss: 0.0661 - accuracy: 0.9771 - val_loss: 1.0215 - val_accuracy: 0.7990\n",
            "Epoch 30/100\n",
            "1191/1191 [==============================] - 113s 95ms/step - loss: 0.0619 - accuracy: 0.9794 - val_loss: 0.9606 - val_accuracy: 0.8150\n",
            "Epoch 31/100\n",
            "1191/1191 [==============================] - 113s 95ms/step - loss: 0.0617 - accuracy: 0.9796 - val_loss: 0.9540 - val_accuracy: 0.8195\n",
            "Epoch 32/100\n",
            "1191/1191 [==============================] - 113s 95ms/step - loss: 0.0528 - accuracy: 0.9827 - val_loss: 0.9993 - val_accuracy: 0.8200\n",
            "Epoch 33/100\n",
            "1191/1191 [==============================] - 113s 95ms/step - loss: 0.0553 - accuracy: 0.9815 - val_loss: 0.9062 - val_accuracy: 0.8204\n",
            "Epoch 34/100\n",
            "1191/1191 [==============================] - 113s 95ms/step - loss: 0.0524 - accuracy: 0.9828 - val_loss: 0.9842 - val_accuracy: 0.8224\n",
            "Epoch 35/100\n",
            "1191/1191 [==============================] - 113s 95ms/step - loss: 0.0521 - accuracy: 0.9834 - val_loss: 0.9160 - val_accuracy: 0.8249\n",
            "Epoch 36/100\n",
            "1191/1191 [==============================] - 113s 95ms/step - loss: 0.0511 - accuracy: 0.9829 - val_loss: 0.8797 - val_accuracy: 0.8339\n",
            "Epoch 37/100\n",
            "1191/1191 [==============================] - 113s 95ms/step - loss: 0.0422 - accuracy: 0.9859 - val_loss: 1.0190 - val_accuracy: 0.8110\n",
            "Epoch 38/100\n",
            "1191/1191 [==============================] - 113s 95ms/step - loss: 0.0497 - accuracy: 0.9844 - val_loss: 1.0710 - val_accuracy: 0.8110\n",
            "Epoch 39/100\n",
            "1191/1191 [==============================] - 113s 95ms/step - loss: 0.0423 - accuracy: 0.9861 - val_loss: 0.9887 - val_accuracy: 0.8299\n",
            "Epoch 40/100\n",
            "1191/1191 [==============================] - 113s 95ms/step - loss: 0.0428 - accuracy: 0.9858 - val_loss: 0.9905 - val_accuracy: 0.8359\n",
            "Epoch 41/100\n",
            "1191/1191 [==============================] - 113s 95ms/step - loss: 0.0455 - accuracy: 0.9844 - val_loss: 1.0515 - val_accuracy: 0.8269\n",
            "Epoch 42/100\n",
            "1191/1191 [==============================] - 113s 95ms/step - loss: 0.0388 - accuracy: 0.9874 - val_loss: 1.0198 - val_accuracy: 0.8294\n",
            "Epoch 43/100\n",
            "1191/1191 [==============================] - 113s 95ms/step - loss: 0.0333 - accuracy: 0.9893 - val_loss: 1.0300 - val_accuracy: 0.8339\n",
            "Epoch 44/100\n",
            "1191/1191 [==============================] - 113s 95ms/step - loss: 0.0407 - accuracy: 0.9865 - val_loss: 1.1959 - val_accuracy: 0.8244\n",
            "Epoch 45/100\n",
            "1191/1191 [==============================] - 113s 95ms/step - loss: 0.0379 - accuracy: 0.9874 - val_loss: 1.0755 - val_accuracy: 0.8244\n",
            "Epoch 46/100\n",
            "1191/1191 [==============================] - 113s 95ms/step - loss: 0.0378 - accuracy: 0.9873 - val_loss: 1.1473 - val_accuracy: 0.8244\n",
            "Epoch 47/100\n",
            "1191/1191 [==============================] - 113s 95ms/step - loss: 0.0363 - accuracy: 0.9883 - val_loss: 1.0581 - val_accuracy: 0.8249\n",
            "Epoch 48/100\n",
            "1191/1191 [==============================] - 113s 95ms/step - loss: 0.0342 - accuracy: 0.9889 - val_loss: 0.9925 - val_accuracy: 0.8309\n",
            "Epoch 49/100\n",
            "1191/1191 [==============================] - 113s 95ms/step - loss: 0.0323 - accuracy: 0.9897 - val_loss: 1.1228 - val_accuracy: 0.8200\n",
            "Epoch 50/100\n",
            "1191/1191 [==============================] - 113s 95ms/step - loss: 0.0329 - accuracy: 0.9892 - val_loss: 1.1709 - val_accuracy: 0.8035\n",
            "Epoch 51/100\n",
            "1191/1191 [==============================] - 113s 95ms/step - loss: 0.0313 - accuracy: 0.9899 - val_loss: 1.1894 - val_accuracy: 0.8229\n",
            "Epoch 52/100\n",
            "1191/1191 [==============================] - 113s 95ms/step - loss: 0.0327 - accuracy: 0.9895 - val_loss: 1.1830 - val_accuracy: 0.8120\n",
            "Epoch 53/100\n",
            "1191/1191 [==============================] - 113s 95ms/step - loss: 0.0326 - accuracy: 0.9895 - val_loss: 1.1082 - val_accuracy: 0.8264\n",
            "Epoch 54/100\n",
            "1191/1191 [==============================] - 113s 95ms/step - loss: 0.0250 - accuracy: 0.9913 - val_loss: 1.1494 - val_accuracy: 0.8160\n",
            "Epoch 55/100\n",
            "1191/1191 [==============================] - 113s 95ms/step - loss: 0.0328 - accuracy: 0.9894 - val_loss: 1.1485 - val_accuracy: 0.8284\n",
            "Epoch 56/100\n",
            "1191/1191 [==============================] - 113s 95ms/step - loss: 0.0309 - accuracy: 0.9899 - val_loss: 1.0264 - val_accuracy: 0.8304\n",
            "Epoch 57/100\n",
            "1191/1191 [==============================] - 113s 95ms/step - loss: 0.0265 - accuracy: 0.9917 - val_loss: 1.0787 - val_accuracy: 0.8359\n",
            "Epoch 58/100\n",
            "1191/1191 [==============================] - 113s 95ms/step - loss: 0.0297 - accuracy: 0.9905 - val_loss: 1.1453 - val_accuracy: 0.8170\n",
            "Epoch 59/100\n",
            "1191/1191 [==============================] - 113s 95ms/step - loss: 0.0266 - accuracy: 0.9917 - val_loss: 1.0801 - val_accuracy: 0.8414\n",
            "Epoch 60/100\n",
            "1191/1191 [==============================] - 113s 95ms/step - loss: 0.0264 - accuracy: 0.9918 - val_loss: 1.1604 - val_accuracy: 0.8224\n",
            "Epoch 61/100\n",
            "1191/1191 [==============================] - 113s 95ms/step - loss: 0.0280 - accuracy: 0.9913 - val_loss: 1.1250 - val_accuracy: 0.8254\n",
            "Epoch 62/100\n",
            "1191/1191 [==============================] - 113s 95ms/step - loss: 0.0261 - accuracy: 0.9921 - val_loss: 1.0953 - val_accuracy: 0.8254\n",
            "Epoch 63/100\n",
            "1191/1191 [==============================] - 113s 95ms/step - loss: 0.0291 - accuracy: 0.9907 - val_loss: 1.0571 - val_accuracy: 0.8364\n",
            "Epoch 64/100\n",
            "1191/1191 [==============================] - 113s 95ms/step - loss: 0.0219 - accuracy: 0.9926 - val_loss: 1.0691 - val_accuracy: 0.8329\n",
            "Epoch 65/100\n",
            "1191/1191 [==============================] - 113s 95ms/step - loss: 0.0207 - accuracy: 0.9932 - val_loss: 1.1586 - val_accuracy: 0.8319\n",
            "Epoch 66/100\n",
            "1191/1191 [==============================] - 113s 95ms/step - loss: 0.0271 - accuracy: 0.9914 - val_loss: 1.1142 - val_accuracy: 0.8239\n",
            "Epoch 67/100\n",
            "1191/1191 [==============================] - 113s 95ms/step - loss: 0.0245 - accuracy: 0.9921 - val_loss: 1.1413 - val_accuracy: 0.8354\n",
            "Epoch 68/100\n",
            "1191/1191 [==============================] - 113s 95ms/step - loss: 0.0257 - accuracy: 0.9920 - val_loss: 1.1353 - val_accuracy: 0.8349\n",
            "Epoch 69/100\n",
            "1191/1191 [==============================] - 113s 95ms/step - loss: 0.0205 - accuracy: 0.9936 - val_loss: 1.2463 - val_accuracy: 0.8244\n",
            "Epoch 70/100\n",
            "1191/1191 [==============================] - 113s 95ms/step - loss: 0.0273 - accuracy: 0.9912 - val_loss: 1.1648 - val_accuracy: 0.8204\n",
            "Epoch 71/100\n",
            "1191/1191 [==============================] - 113s 95ms/step - loss: 0.0226 - accuracy: 0.9929 - val_loss: 1.2130 - val_accuracy: 0.8219\n",
            "Epoch 72/100\n",
            "1191/1191 [==============================] - 113s 95ms/step - loss: 0.0217 - accuracy: 0.9933 - val_loss: 1.1784 - val_accuracy: 0.8279\n",
            "Epoch 73/100\n",
            "1191/1191 [==============================] - 113s 95ms/step - loss: 0.0237 - accuracy: 0.9926 - val_loss: 1.1442 - val_accuracy: 0.8284\n",
            "Epoch 74/100\n",
            "1191/1191 [==============================] - 113s 95ms/step - loss: 0.0222 - accuracy: 0.9931 - val_loss: 1.1866 - val_accuracy: 0.8404\n",
            "Epoch 75/100\n",
            "1191/1191 [==============================] - 113s 95ms/step - loss: 0.0184 - accuracy: 0.9938 - val_loss: 1.2272 - val_accuracy: 0.8304\n",
            "Epoch 76/100\n",
            "1191/1191 [==============================] - 113s 95ms/step - loss: 0.0217 - accuracy: 0.9935 - val_loss: 1.4028 - val_accuracy: 0.8030\n",
            "Epoch 77/100\n",
            "1191/1191 [==============================] - 113s 95ms/step - loss: 0.0221 - accuracy: 0.9935 - val_loss: 1.2577 - val_accuracy: 0.8294\n",
            "Epoch 78/100\n",
            "1191/1191 [==============================] - 113s 95ms/step - loss: 0.0149 - accuracy: 0.9956 - val_loss: 1.2521 - val_accuracy: 0.8324\n",
            "Epoch 79/100\n",
            "1191/1191 [==============================] - 113s 95ms/step - loss: 0.0265 - accuracy: 0.9918 - val_loss: 1.2199 - val_accuracy: 0.8339\n",
            "Epoch 80/100\n",
            "1191/1191 [==============================] - 113s 95ms/step - loss: 0.0176 - accuracy: 0.9940 - val_loss: 1.1696 - val_accuracy: 0.8414\n",
            "Epoch 81/100\n",
            "1191/1191 [==============================] - 113s 95ms/step - loss: 0.0208 - accuracy: 0.9929 - val_loss: 1.3132 - val_accuracy: 0.8195\n",
            "Epoch 82/100\n",
            "1191/1191 [==============================] - 113s 95ms/step - loss: 0.0205 - accuracy: 0.9937 - val_loss: 1.1571 - val_accuracy: 0.8469\n",
            "Epoch 83/100\n",
            "1191/1191 [==============================] - 113s 95ms/step - loss: 0.0217 - accuracy: 0.9930 - val_loss: 1.2812 - val_accuracy: 0.8309\n",
            "Epoch 84/100\n",
            "1191/1191 [==============================] - 113s 95ms/step - loss: 0.0182 - accuracy: 0.9941 - val_loss: 1.2344 - val_accuracy: 0.8329\n",
            "Epoch 85/100\n",
            "1191/1191 [==============================] - 113s 95ms/step - loss: 0.0225 - accuracy: 0.9931 - val_loss: 1.3089 - val_accuracy: 0.8254\n",
            "Epoch 86/100\n",
            "1191/1191 [==============================] - 113s 95ms/step - loss: 0.0177 - accuracy: 0.9942 - val_loss: 1.3603 - val_accuracy: 0.8279\n",
            "Epoch 87/100\n",
            "1191/1191 [==============================] - 113s 95ms/step - loss: 0.0186 - accuracy: 0.9942 - val_loss: 1.1611 - val_accuracy: 0.8354\n",
            "Epoch 88/100\n",
            "1191/1191 [==============================] - 113s 95ms/step - loss: 0.0162 - accuracy: 0.9949 - val_loss: 1.2790 - val_accuracy: 0.8289\n",
            "Epoch 89/100\n",
            "1191/1191 [==============================] - 113s 95ms/step - loss: 0.0217 - accuracy: 0.9934 - val_loss: 1.4067 - val_accuracy: 0.8200\n",
            "Epoch 90/100\n",
            "1191/1191 [==============================] - 113s 95ms/step - loss: 0.0165 - accuracy: 0.9947 - val_loss: 1.5701 - val_accuracy: 0.7970\n",
            "Epoch 91/100\n",
            "1191/1191 [==============================] - 113s 95ms/step - loss: 0.0191 - accuracy: 0.9941 - val_loss: 1.2576 - val_accuracy: 0.8234\n",
            "Epoch 92/100\n",
            "1191/1191 [==============================] - 113s 95ms/step - loss: 0.0183 - accuracy: 0.9939 - val_loss: 1.2562 - val_accuracy: 0.8369\n",
            "Epoch 93/100\n",
            "1191/1191 [==============================] - 113s 95ms/step - loss: 0.0175 - accuracy: 0.9945 - val_loss: 1.1840 - val_accuracy: 0.8444\n",
            "Epoch 94/100\n",
            "1191/1191 [==============================] - 113s 95ms/step - loss: 0.0172 - accuracy: 0.9945 - val_loss: 1.3320 - val_accuracy: 0.8105\n",
            "Epoch 95/100\n",
            "1191/1191 [==============================] - 113s 95ms/step - loss: 0.0143 - accuracy: 0.9956 - val_loss: 1.2846 - val_accuracy: 0.8214\n",
            "Epoch 96/100\n",
            "1191/1191 [==============================] - 113s 95ms/step - loss: 0.0239 - accuracy: 0.9923 - val_loss: 1.2935 - val_accuracy: 0.8244\n",
            "Epoch 97/100\n",
            "1191/1191 [==============================] - 113s 95ms/step - loss: 0.0124 - accuracy: 0.9961 - val_loss: 1.3402 - val_accuracy: 0.8394\n",
            "Epoch 98/100\n",
            "1191/1191 [==============================] - 113s 95ms/step - loss: 0.0216 - accuracy: 0.9939 - val_loss: 1.2123 - val_accuracy: 0.8404\n",
            "Epoch 99/100\n",
            "1191/1191 [==============================] - 113s 95ms/step - loss: 0.0186 - accuracy: 0.9941 - val_loss: 1.1939 - val_accuracy: 0.8379\n",
            "Epoch 100/100\n",
            "1191/1191 [==============================] - 113s 95ms/step - loss: 0.0159 - accuracy: 0.9950 - val_loss: 1.2565 - val_accuracy: 0.8344\n"
          ]
        },
        {
          "data": {
            "image/png": "[encoded data removed]",
            "text/plain": [
              "<Figure size 640x480 with 1 Axes>"
            ]
          },
          "metadata": {},
          "output_type": "display_data"
        }
      ],
      "source": [
        "import matplotlib.pyplot as plt\n",
        "\n",
        "# Assuming you have already trained your model and have a `history` object\n",
        "history = model1.fit(x_train_CS, y_train_CS, epochs=100, batch_size=32, validation_data=(x_valid_CS, y_valid_CS))\n",
        "\n",
        "# Plot training vs validation accuracy\n",
        "plt.plot(history.history['accuracy'], label='Training Accuracy')\n",
        "plt.plot(history.history['val_accuracy'], label='Validation Accuracy')\n",
        "plt.xlabel('Epoch')\n",
        "plt.ylabel('Accuracy')\n",
        "plt.title('Training vs Validation Accuracy')\n",
        "plt.legend()\n",
        "plt.show()"
      ]
    },
    {
      "cell_type": "code",
      "execution_count": null,
      "metadata": {
        "colab": {
          "background_save": true
        },
        "id": "AOBPEYd8ZMZ6"
      },
      "outputs": [],
      "source": []
    },
    {
      "cell_type": "code",
      "execution_count": null,
      "metadata": {
        "colab": {
          "background_save": true
        },
        "id": "x0lfD9U7vyvn"
      },
      "outputs": [],
      "source": [
        "x_test_CS = np.reshape(x_test_CS, (16487, 300, 150, 1))"
      ]
    },
    {
      "cell_type": "code",
      "execution_count": null,
      "metadata": {
        "id": "fOpw0QYSlU-v"
      },
      "outputs": [],
      "source": [
        "# Predict classes using the test data\n",
        "predictions_CS = model1.predict(x_test_CS)\n",
        "predicted_classes_CS = np.argmax(predictions_CS, axis=1)\n"
      ]
    },
    {
      "cell_type": "code",
      "execution_count": null,
      "metadata": {
        "colab": {
          "background_save": true
        },
        "id": "IKmlrerGpcIT"
      },
      "outputs": [],
      "source": [
        "# True classes\n",
        "true_classes_CS = np.argmax(y_test_CS, axis=1)"
      ]
    },
    {
      "cell_type": "code",
      "execution_count": null,
      "metadata": {
        "colab": {
          "background_save": true
        },
        "id": "du-sLoWmlltc",
        "outputId": "13247e10-a080-438a-bbbf-e2914d5e97e0"
      },
      "outputs": [
        {
          "name": "stdout",
          "output_type": "stream",
          "text": [
            "Accuracy (CS): 0.7141990659307333\n"
          ]
        }
      ],
      "source": [
        "# Compare predicted classes with true classes and calculate accuracy\n",
        "accuracy_CS = np.mean(predicted_classes_CS == true_classes_CS)\n",
        "print(\"Accuracy (CS):\", accuracy_CS)"
      ]
    },
    {
      "cell_type": "code",
      "execution_count": null,
      "metadata": {
        "colab": {
          "background_save": true
        },
        "id": "9oCPIjf4lovn",
        "outputId": "8d6537a9-584d-42eb-8b24-b956c53deac0"
      },
      "outputs": [
        {
          "name": "stdout",
          "output_type": "stream",
          "text": [
            "Predicted Classes (CS): [ 0  1  2  3  7 15  6  7  8 33]\n",
            "True Classes (CS): [0 1 2 3 4 5 6 7 8 9]\n"
          ]
        }
      ],
      "source": [
        "# Print some of the predicted and true classes\n",
        "print(\"Predicted Classes (CS):\", predicted_classes_CS[:10])\n",
        "print(\"True Classes (CS):\", true_classes_CS[:10])"
      ]
    },
    {
      "cell_type": "code",
      "execution_count": null,
      "metadata": {
        "id": "fJHX2VGNT_Y8"
      },
      "outputs": [],
      "source": [
        "import matplotlib.pyplot as plt\n",
        "\n",
        "# Plot training vs validation loss\n",
        "plt.plot(history.history['loss'], label='Training Loss')\n",
        "plt.xlabel('Epoch')\n",
        "plt.ylabel('Loss')\n",
        "plt.title('Training vs Validation Loss')\n",
        "plt.legend()\n",
        "plt.show()\n"
      ]
    },
    {
      "cell_type": "code",
      "execution_count": null,
      "metadata": {
        "id": "TiD1XTqpM1Sh"
      },
      "outputs": [],
      "source": [
        "model1.save('/content/drive/My Drive/dataset1/my_model_2_cs.keras')"
      ]
    },
    {
      "cell_type": "code",
      "execution_count": null,
      "metadata": {
        "id": "Z6UAr3VfNMy6"
      },
      "outputs": [],
      "source": [
        "model1.save('my_model2_cs.keras')"
      ]
    },
    {
      "cell_type": "code",
      "execution_count": null,
      "metadata": {
        "id": "Q4FChbxACNus"
      },
      "outputs": [],
      "source": [
        "# Train the model\n",
        "#multi_cnn_model_CV.fit(x_train_CV, y_train_CV, validation_data=(x_valid_CV, y_valid_CV), epochs=150, batch_size=32)\n"
      ]
    },
    {
      "cell_type": "code",
      "execution_count": null,
      "metadata": {
        "id": "TF14iNPDMW8g"
      },
      "outputs": [],
      "source": []
    }
  ],
  "metadata": {
    "accelerator": "GPU",
    "colab": {
      "gpuType": "L4",
      "machine_shape": "hm",
      "provenance": []
    },
    "kernelspec": {
      "display_name": "Python 3",
      "name": "python3"
    },
    "language_info": {
      "name": "python"
    }
  },
  "nbformat": 4,
  "nbformat_minor": 0
}