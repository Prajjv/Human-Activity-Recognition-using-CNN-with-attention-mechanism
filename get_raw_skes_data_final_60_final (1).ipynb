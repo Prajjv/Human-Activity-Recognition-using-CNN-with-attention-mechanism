{
  "nbformat": 4,
  "nbformat_minor": 0,
  "metadata": {
    "colab": {
      "provenance": []
    },
    "kernelspec": {
      "name": "python3",
      "display_name": "Python 3"
    },
    "language_info": {
      "name": "python"
    }
  },
  "cells": [
    {
      "cell_type": "code",
      "execution_count": 2,
      "metadata": {
        "id": "KWycGd3l5rJb"
      },
      "outputs": [],
      "source": [
        "import os.path as osp\n",
        "import os\n",
        "import numpy as np\n",
        "import pickle\n",
        "import logging\n",
        "from tqdm import tqdm"
      ]
    },
    {
      "cell_type": "code",
      "source": [
        "# Mount Google Drive\n",
        "from google.colab import drive\n",
        "drive.mount('/content/drive')"
      ],
      "metadata": {
        "colab": {
          "base_uri": "https://localhost:8080/"
        },
        "id": "yFc3X5UU5wiu",
        "outputId": "7fda5fb5-54e4-41eb-ca7d-01c1fa181194"
      },
      "execution_count": 3,
      "outputs": [
        {
          "output_type": "stream",
          "name": "stdout",
          "text": [
            "Mounted at /content/drive\n"
          ]
        }
      ]
    },
    {
      "cell_type": "code",
      "source": [
        "\n",
        "def get_raw_bodies_data(skes_path, ske_name, frames_drop_skes, frames_drop_logger):\n",
        "    \"\"\"\n",
        "    This function reads raw skeleton data from .skeleton files.\n",
        "\n",
        "    Args:\n",
        "        skes_path (str): Path to the directory containing skeleton files.\n",
        "        ske_name (str): Name of the skeleton file.\n",
        "        frames_drop_skes (dict): Dictionary to store dropped frames.\n",
        "        frames_drop_logger (Logger): Logger for frames dropped.\n",
        "\n",
        "    Returns:\n",
        "        dict: A dictionary containing raw skeleton data with the following keys:\n",
        "            - num_bodies: the number of detected bodies.\n",
        "            - bodies: a list of body data, each element is a dictionary containing:\n",
        "                - num_joints: the number of detected joints for this body.\n",
        "                - joints: a list of joint coordinates for this body.\n",
        "            - num_frames: the number of valid frames.\n",
        "    \"\"\"\n",
        "    ske_file = osp.join(skes_path, str(ske_name[1]) + '.skeleton')  # Corrected file path construction\n",
        "    assert osp.exists(ske_file), 'Error: Skeleton file %s not found' % ske_file\n",
        "    # Read all data from .skeleton file into a list (in string format)\n",
        "    with open(ske_file, 'r') as f:\n",
        "        str_data = f.readlines()  # Read lines from the file\n",
        "\n",
        "\n",
        "    # Rest of the function code...\n",
        "    num_frames = int(str_data[0].strip('\\r\\n'))\n",
        "    frames_drop = []\n",
        "    bodies_data = dict()\n",
        "    valid_frames = -1  # 0-based index\n",
        "    current_line = 1\n",
        "\n",
        "    for f in range(num_frames):\n",
        "        num_bodies = int(str_data[current_line].strip('\\r\\n'))\n",
        "        current_line += 1\n",
        "\n",
        "        if num_bodies == 0:  # no data in this frame, drop it\n",
        "            frames_drop.append(f)  # 0-based index\n",
        "            continue\n",
        "\n",
        "        valid_frames += 1\n",
        "        joints = np.zeros((num_bodies, 25, 3), dtype=np.float32)\n",
        "        colors = np.zeros((num_bodies, 25, 2), dtype=np.float32)\n",
        "\n",
        "        for b in range(num_bodies):\n",
        "            bodyID = str_data[current_line].strip('\\r\\n').split()[0]\n",
        "            current_line += 1\n",
        "            num_joints = int(str_data[current_line].strip('\\r\\n'))  # 25 joints\n",
        "            current_line += 1\n",
        "\n",
        "            for j in range(num_joints):\n",
        "                temp_str = str_data[current_line].strip('\\r\\n').split()\n",
        "                joints[b, j, :] = np.array(temp_str[:3], dtype=np.float32)\n",
        "                colors[b, j, :] = np.array(temp_str[5:7], dtype=np.float32)\n",
        "                current_line += 1\n",
        "\n",
        "            if bodyID not in bodies_data:  # Add a new body's data\n",
        "                body_data = dict()\n",
        "                body_data['joints'] = joints[b]  # ndarray: (25, 3)\n",
        "                body_data['colors'] = colors[b, np.newaxis]  # ndarray: (1, 25, 2)\n",
        "                body_data['interval'] = [valid_frames]  # the index of the first frame\n",
        "            else:  # Update an already existed body's data\n",
        "                body_data = bodies_data[bodyID]\n",
        "                # Stack each body's data of each frame along the frame order\n",
        "                body_data['joints'] = np.vstack((body_data['joints'], joints[b]))\n",
        "                body_data['colors'] = np.vstack((body_data['colors'], colors[b, np.newaxis]))\n",
        "                pre_frame_idx = body_data['interval'][-1]\n",
        "                body_data['interval'].append(pre_frame_idx + 1)  # add a new frame index\n",
        "\n",
        "            bodies_data[bodyID] = body_data  # Update bodies_data\n",
        "\n",
        "    num_frames_drop = len(frames_drop)\n",
        "    assert num_frames_drop < num_frames, \\\n",
        "        'Error: All frames data (%d) of %s is missing or lost' % (num_frames, ske_name)\n",
        "    if num_frames_drop > 0:\n",
        "        frames_drop_skes[tuple(ske_name)] = np.array(frames_drop, dtype=int)\n",
        "        frames_drop_logger.info('{}: {} frames missed: {}\\n'.format(ske_name, num_frames_drop,\n",
        "                                                                    frames_drop))\n",
        "\n",
        "    # Calculate motion (only for the sequence with 2 or more bodyIDs)\n",
        "    if len(bodies_data) > 1:\n",
        "        for body_data in bodies_data.values():\n",
        "            body_data['motion'] = np.sum(np.var(body_data['joints'], axis=0))\n",
        "\n",
        "    return {'name': ske_name, 'data': bodies_data, 'num_frames': num_frames - num_frames_drop}\n",
        "\n"
      ],
      "metadata": {
        "id": "WJ3QbPyCEolt"
      },
      "execution_count": 4,
      "outputs": []
    },
    {
      "cell_type": "code",
      "source": [
        "\n",
        "np.int = np.int32\n",
        "def get_raw_skes_data():\n",
        "    skes_path = \"/content/drive/My Drive/dataset/ske_train/\"  # Change this path to your directory containing skeleton files\n",
        "    stat_path = \"/content/drive/My Drive/dataset/statistics/\"\n",
        "    save_path = \"/content/drive/My Drive/dataset/\"\n",
        "\n",
        "    if not osp.exists(stat_path):\n",
        "        os.makedirs(stat_path)\n",
        "    if not osp.exists(save_path):\n",
        "        os.makedirs(save_path)\n",
        "\n",
        "    skes_name_file = osp.join(stat_path, 'skes_available_name_60.txt')\n",
        "    save_data_pkl = osp.join(save_path, 'raw_skes_data_60.pkl')\n",
        "    frames_drop_pkl = osp.join(save_path, 'frames_drop_skes_60.pkl')\n",
        "\n",
        "    frames_drop_logger = logging.getLogger('frames_drop')\n",
        "    frames_drop_logger.setLevel(logging.INFO)\n",
        "    frames_drop_logger.addHandler(logging.FileHandler(osp.join(save_path, 'frames_drop.log')))\n",
        "    frames_drop_skes = dict()\n",
        "\n",
        "    skes_name = np.loadtxt(skes_name_file, dtype=str)\n",
        "\n",
        "    num_files = skes_name.size\n",
        "    print('Found %d available skeleton files.' % num_files)\n",
        "\n",
        "    raw_skes_data = []\n",
        "    frames_cnt = np.zeros(num_files, dtype=int)  # Replaced np.int with int\n",
        "\n",
        "    for (idx, ske_name) in enumerate(tqdm(skes_name)):\n",
        "        bodies_data = get_raw_bodies_data(skes_path, ske_name, frames_drop_skes, frames_drop_logger)\n",
        "        raw_skes_data.append(bodies_data)\n",
        "        frames_cnt[idx] = bodies_data['num_frames']\n",
        "        if (idx + 1) % 1000 == 0:\n",
        "            print('Processed: %.2f%% (%d / %d)' % \\\n",
        "                  (100.0 * (idx + 1) / num_files, idx + 1, num_files))\n",
        "\n",
        "    with open(save_data_pkl, 'wb') as fw:\n",
        "        pickle.dump(raw_skes_data, fw, pickle.HIGHEST_PROTOCOL)\n",
        "    np.savetxt(osp.join(save_path, 'frames_cnt.txt'), frames_cnt, fmt='%d')\n",
        "\n",
        "    print('Saved raw bodies data into %s' % save_data_pkl)\n",
        "    print('Total frames: %d' % np.sum(frames_cnt))\n",
        "\n",
        "    with open(frames_drop_pkl, 'wb') as fw:\n",
        "        pickle.dump(frames_drop_skes, fw, pickle.HIGHEST_PROTOCOL)\n",
        "\n",
        "if __name__ == '__main__':\n",
        "    get_raw_skes_data()\n"
      ],
      "metadata": {
        "colab": {
          "base_uri": "https://localhost:8080/"
        },
        "id": "mszPepY2FQLQ",
        "outputId": "b06b87e7-a478-402f-a73a-49e35e9df65f"
      },
      "execution_count": 5,
      "outputs": [
        {
          "output_type": "stream",
          "name": "stdout",
          "text": [
            "Found 5744 available skeleton files.\n"
          ]
        },
        {
          "output_type": "stream",
          "name": "stderr",
          "text": [
            " 35%|███▍      | 1000/2872 [06:51<14:19,  2.18it/s]"
          ]
        },
        {
          "output_type": "stream",
          "name": "stdout",
          "text": [
            "Processed: 17.41% (1000 / 5744)\n"
          ]
        },
        {
          "output_type": "stream",
          "name": "stderr",
          "text": [
            " 38%|███▊      | 1078/2872 [07:20<11:52,  2.52it/s]INFO:frames_drop:['1079.' 'S001C002P001R002A059']: 32 frames missed: [0, 1, 2, 3, 4, 5, 6, 7, 8, 9, 10, 11, 12, 13, 14, 15, 16, 17, 18, 19, 20, 21, 22, 23, 24, 25, 26, 27, 28, 29, 30, 31]\n",
            "\n",
            " 38%|███▊      | 1079/2872 [07:20<13:51,  2.16it/s]INFO:frames_drop:['1080.' 'S001C002P001R002A060']: 11 frames missed: [87, 88, 89, 90, 91, 92, 93, 94, 95, 96, 97]\n",
            "\n",
            " 48%|████▊     | 1374/2872 [09:14<09:34,  2.61it/s]INFO:frames_drop:['1375.' 'S001C002P004R001A055']: 42 frames missed: [33, 34, 35, 36, 37, 38, 39, 40, 41, 42, 43, 44, 45, 46, 47, 48, 49, 50, 51, 52, 53, 54, 55, 56, 57, 58, 59, 60, 61, 62, 63, 64, 65, 66, 67, 68, 69, 70, 71, 72, 73, 74]\n",
            "\n",
            " 50%|████▉     | 1434/2872 [09:37<09:45,  2.46it/s]INFO:frames_drop:['1435.' 'S001C002P004R002A055']: 32 frames missed: [32, 33, 34, 35, 36, 37, 38, 39, 40, 41, 42, 43, 44, 45, 46, 47, 48, 49, 50, 51, 52, 53, 54, 55, 56, 57, 58, 59, 60, 61, 62, 63]\n",
            "\n",
            " 67%|██████▋   | 1917/2872 [12:34<05:39,  2.81it/s]INFO:frames_drop:['1918.' 'S001C002P008R002A060']: 6 frames missed: [86, 87, 88, 89, 90, 91]\n",
            "\n",
            " 69%|██████▊   | 1972/2872 [12:55<06:09,  2.43it/s]INFO:frames_drop:['1973.' 'S001C003P001R001A055']: 6 frames missed: [35, 36, 37, 38, 39, 40]\n",
            "\n",
            " 70%|██████▉   | 2000/2872 [13:06<06:01,  2.41it/s]"
          ]
        },
        {
          "output_type": "stream",
          "name": "stdout",
          "text": [
            "Processed: 34.82% (2000 / 5744)\n"
          ]
        },
        {
          "output_type": "stream",
          "name": "stderr",
          "text": [
            " 78%|███████▊  | 2226/2872 [14:37<04:11,  2.57it/s]INFO:frames_drop:['2227.' 'S001C003P003R002A011']: 34 frames missed: [0, 1, 2, 3, 4, 5, 6, 7, 8, 9, 10, 11, 12, 13, 14, 15, 16, 17, 18, 19, 20, 21, 22, 23, 24, 25, 26, 27, 28, 29, 30, 31, 32, 33]\n",
            "\n",
            " 82%|████████▏ | 2344/2872 [15:21<03:09,  2.79it/s]INFO:frames_drop:['2345.' 'S001C003P004R002A009']: 25 frames missed: [35, 36, 37, 38, 39, 40, 41, 42, 43, 44, 45, 46, 47, 48, 49, 50, 51, 52, 53, 54, 55, 56, 57, 58, 59]\n",
            "\n",
            "100%|██████████| 2872/2872 [18:37<00:00,  2.57it/s]\n"
          ]
        },
        {
          "output_type": "stream",
          "name": "stdout",
          "text": [
            "Saved raw bodies data into /content/drive/My Drive/dataset/raw_skes_data_60.pkl\n",
            "Total frames: 248025\n"
          ]
        }
      ]
    }
  ]
}